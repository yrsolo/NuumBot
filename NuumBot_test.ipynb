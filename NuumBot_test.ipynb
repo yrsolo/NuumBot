{
 "cells": [
  {
   "metadata": {
    "ExecuteTime": {
     "end_time": "2024-11-17T14:31:59.913284Z",
     "start_time": "2024-11-17T14:31:59.909909Z"
    }
   },
   "cell_type": "code",
   "source": [
    "from adodbapi.examples.xls_read import driver\n",
    "from selenium import webdriver\n",
    "from selenium.webdriver.common.by import By\n",
    "import pickle\n",
    "import time\n",
    "import random\n",
    "from gpt_chat import AsyncOpenAIChatAgent\n",
    "\n",
    "from config import OPENAI, PROXIES, NUUM, POLINA_CLIPS, CLIPS, cookie_path\n"
   ],
   "id": "21a11dc0e776826e",
   "outputs": [],
   "execution_count": 2
  },
  {
   "metadata": {
    "ExecuteTime": {
     "end_time": "2024-11-17T18:10:14.320268Z",
     "start_time": "2024-11-17T18:10:14.299466Z"
    }
   },
   "cell_type": "code",
   "source": [
    "def img_stiker(s):\n",
    "    s.get_attribute('src')\n",
    "    # load stiker from url\n",
    "    # example: 'https://static.nuum.ru/sticker-packs/seal/webp/medium/seal-14.webp'\n",
    "    import requests\n",
    "    import io\n",
    "    from PIL import Image\n",
    "\n",
    "    url = s.get_attribute('src')\n",
    "    response = requests.get(url)\n",
    "    img = Image.open(io.BytesIO(response.content))\n",
    "\n",
    "    return img\n",
    "\n",
    "def rnd_sleep(m=1, d=1.5):\n",
    "    # normal distribution\n",
    "    sleep = random.normalvariate(m, d)\n",
    "    #print(sleep)\n",
    "    time.sleep(max(.5,sleep))\n",
    "\n",
    "class Elm:\n",
    "    def __init__(self, el):\n",
    "        self.class_ = el.get_attribute('class')\n",
    "        self.text = el.text\n",
    "        self.tag = el.tag_name\n",
    "        self.el = el\n",
    "        self.url = el.get_attribute('src')\n",
    "        self.pos = el.location\n",
    "        self.link = el.get_attribute('href')\n",
    "        \n",
    "    def click(self):\n",
    "        self.el.click()\n",
    "        \n",
    "    def get_attribute(self, attr):\n",
    "        return self.el.get_attribute(attr)\n",
    "        \n",
    "\n",
    "class NuumBaseAction:\n",
    "    def __init__(self, driver):\n",
    "        self.driver = driver\n",
    "        self.gpt = AsyncOpenAIChatAgent(OPENAI, proxies=ROXIES)\n",
    "        self.tmp = None\n",
    "        \n",
    "    def find_description(self):\n",
    "        description_element = self.driver.find_element(By.XPATH, \"//app-text-cropper//span[contains(@class, 'text--full')]\")\n",
    "        description_text = self.driver.execute_script(\"return arguments[0].textContent;\", description_element)\n",
    "        return description_text\n",
    "    \n",
    "    def open(self, url):\n",
    "        self.driver.get(url)\n",
    "        self.driver.implicitly_wait(5)\n",
    "        \n",
    "    def like(self, click_liked=False):\n",
    "        like_button = self.find_like_button()\n",
    "        if like_button:            \n",
    "            active = 'active' in like_button.class_\n",
    "            if not active or click_liked:\n",
    "                like_button.click()\n",
    "                return True\n",
    "        return False\n",
    "    \n",
    "    def subscribe(self):\n",
    "        sbscrs = self.driver.find_elements(By.XPATH, \"//span[contains(text(), 'Подписаться')]\")\n",
    "        sbscrs = [Elm(s) for s in sbscrs] \n",
    "        sbscrs = [s for s in sbscrs if self.in_screen(s)]\n",
    "        if sbscrs:\n",
    "            sbscrs[0].click()\n",
    "            return True\n",
    "        return False\n",
    "            \n",
    "    def send_stiker(self):\n",
    "        # comment-input__smile-button ng-star-inserted\n",
    "        element = self.driver.find_elements(By.XPATH, \"//button[contains(@class, 'comment-input__smile-button')]\")\n",
    "        \n",
    "        if element:\n",
    "            rnd_sleep()\n",
    "            element[0].click()\n",
    "        \n",
    "        element = self.driver.find_elements(By.XPATH, \"//span[contains(text(), 'Стикеры')]\")\n",
    "\n",
    "        if element:\n",
    "            rnd_sleep()\n",
    "            element[0].click()\n",
    "        \n",
    "        rnd_sleep()        \n",
    "        d = self.driver.find_elements(By.XPATH, \"//div[contains(@class, 'smiles__navigation-sticker-wrapper')]\")\n",
    "        if d:\n",
    "            d = random.choice(d)\n",
    "            d.click()\n",
    "            time.sleep(1)\n",
    "                \n",
    "        stikers_div = self.driver.find_elements(By.XPATH, \"//div[contains(@class, 'sticker ng-star-inserted')]\")\n",
    "        stikers = []\n",
    "        for s in stikers_div:\n",
    "            stiker = s.find_elements(By.CSS_SELECTOR, '*')\n",
    "            if stiker:\n",
    "                if stiker[0].get_attribute('src'):\n",
    "                    stikers.append(stiker[0])\n",
    "        \n",
    "        if stikers:\n",
    "            stiker = random.choice(stikers)\n",
    "            stiker.click()\n",
    "            return True\n",
    "        return False\n",
    "            \n",
    "    def send_comment(self, text):\n",
    "        textarea = self.driver.find_elements(By.NAME, 'commentInput')\n",
    "        if textarea:\n",
    "            textarea = textarea[0]\n",
    "            #textarea[0].send_keys(text)    \n",
    "            driver.execute_script(\"\"\"\n",
    "    var textarea = arguments[0];\n",
    "    console.log('Тип textarea:', textarea.constructor.name);\n",
    "    console.log('Имеет dispatchEvent:', typeof textarea.dispatchEvent);\n",
    "\n",
    "    textarea.value = arguments[1];\n",
    "\n",
    "    var event = document.createEvent('Event');\n",
    "    event.initEvent('input', true, true);\n",
    "    textarea.dispatchEvent(event);\n",
    "\"\"\", textarea, text)\n",
    "        button = self.driver.find_elements(By.XPATH, \"//button[contains(@class, 'input-form__send-button')]\")\n",
    "        if button:\n",
    "            button[0].click()\n",
    "        \n",
    "    def get_clips_from_page(self):\n",
    "        elements = self.driver.find_elements(By.XPATH, \"//a[contains(@href, '/channel/') and contains(@href, '/clips/')]\")\n",
    "        user_clips = []\n",
    "        for element in elements:\n",
    "            link = element.get_attribute('href')\n",
    "            user_clips.append(link)\n",
    "        return user_clips\n",
    "    \n",
    "    def generate_comment(self, description):\n",
    "        prompt = f'Надо написать очень короткий комментарий к тик-ток видео у которого такое описание: !!!\" {description}\"!!! позитиыный, но не банальный и со смайликами'\n",
    "        return self.gpt.chat(prompt)\n",
    "    \n",
    "    def find_like_button(self):\n",
    "        like_buttons = self.driver.find_elements(By.XPATH, \"//button[contains(@class, 'reactions__button')]\")\n",
    "        like_buttons = [Elm(b) for b in like_buttons]\n",
    "        like_buttons = [b for b in like_buttons if self.in_screen(b)]\n",
    "        if like_buttons:\n",
    "            return like_buttons[0]\n",
    "        return None\n",
    "    \n",
    "    def is_liked(self, default=True):\n",
    "        like_button = self.find_like_button()        \n",
    "        if like_button:            \n",
    "            return 'active' in like_button.class_\n",
    "        return default\n",
    "             \n",
    "    def next(self):\n",
    "        next_button = self.driver.find_elements(By.XPATH, \"//button[contains(@class, 'large secondary-btn only-icon')]\")\n",
    "        if next_button:\n",
    "            next_button[-1].click()\n",
    "            \n",
    "    def in_screen(self, el):\n",
    "        return el.pos['y'] > 0 and el.pos['y'] < 1500\n",
    "    \n",
    "    def find_by_text(self, text, el='span'):\n",
    "        elements = self.driver.find_elements(By.XPATH, f\"//{el}[contains(text(), '{text}')]\")\n",
    "        if elements:\n",
    "            return elements[0]\n",
    "        return None\n",
    "    \n",
    "    def user_name(self):\n",
    "        f = 'shorts-bottom-panel-wrapper'\n",
    "        user_names = self.driver.find_elements(By.XPATH, f\"//div[contains(@class, '{f}')]\")\n",
    "        user_names = [Elm(s) for s in user_names]\n",
    "        user_names = [s for s in user_names if self.in_screen(s)]\n",
    "        if user_names:\n",
    "            return user_names[0].text.split('\\n')[0]\n",
    "        return None\n",
    "    \n",
    "class NuumActions(NuumBaseAction):\n",
    "    def __init__(self, driver):\n",
    "        super().__init__(driver)\n",
    "        \n",
    "    def open_rec(self):\n",
    "        self.open(CLIPS)\n",
    "        clips = self.driver.find_elements(By.XPATH, \"//a[contains(@href, '/clips/')]\")\n",
    "        if clips:\n",
    "            clips[0].click()\n",
    "            \n",
    "    def open_subs(self):\n",
    "        self.open(CLIPS)\n",
    "        self.find_by_text('Подписки').click()\n",
    "        clips = self.driver.find_elements(By.XPATH, \"//a[contains(@href, '/clips/')]\")\n",
    "        if clips:\n",
    "            clips[0].click()\n",
    "            \n",
    "    def like_stiker_subscribe(self, like_ratio = 1, stiker_ratio = 1, subscribe_ratio = 1):\n",
    "        if not self.is_liked():            \n",
    "            like = stiker = subscribe = False\n",
    "            if stiker_ratio >= random.random():\n",
    "                stiker = self.send_stiker() \n",
    "                rnd_sleep()\n",
    "            if like_ratio >= random.random():\n",
    "                like = self.like()\n",
    "                rnd_sleep()\n",
    "            if subscribe_ratio >= random.random():\n",
    "                sibscribe = self.subscribe()\n",
    "            \n",
    "            name = self.user_name()\n",
    "            \n",
    "            log = [name +': ', ]\n",
    "            if stiker:\n",
    "                log.append('stiker ,')\n",
    "            if like:\n",
    "                log.append('like')\n",
    "            if sibscribe:\n",
    "                log.append('and subscribe')\n",
    "            if stiker or like or sibscribe:\n",
    "                print(' '.join(log))\n",
    "                return True\n",
    "        return False\n",
    "         \n"
   ],
   "id": "99ada5b8dde3c17b",
   "outputs": [],
   "execution_count": 56
  },
  {
   "metadata": {},
   "cell_type": "code",
   "outputs": [],
   "execution_count": null,
   "source": [
    "driver = webdriver.Chrome()\n",
    "driver.get(NUUM)"
   ],
   "id": "e8ecd6ffc27a668b"
  },
  {
   "metadata": {
    "ExecuteTime": {
     "end_time": "2024-11-17T18:13:19.583851Z",
     "start_time": "2024-11-17T18:12:30.087920Z"
    }
   },
   "cell_type": "code",
   "source": [
    "N = 10\n",
    "skip_ratio = 0.5\n",
    "\n",
    "nuum = NuumActions(driver)\n",
    "#nuum.open_subs()\n",
    "nuum.open_rec()\n",
    "\n",
    "liked = 0\n",
    "for i in range(N):\n",
    "    \n",
    "    if skip_ratio < random.random():\n",
    "        result = nuum.like_stiker_subscribe(\n",
    "            like_ratio = 1, \n",
    "            stiker_ratio = 1, \n",
    "            subscribe_ratio = .5\n",
    "        )\n",
    "        if result:\n",
    "            liked += 1\n",
    "            print(f'Liked {liked} from {i+1}')\n",
    "        \n",
    "        rnd_sleep(3)\n",
    "    nuum.next()"
   ],
   "id": "757812412cee8cd1",
   "outputs": [
    {
     "ename": "KeyboardInterrupt",
     "evalue": "",
     "output_type": "error",
     "traceback": [
      "\u001B[1;31m---------------------------------------------------------------------------\u001B[0m",
      "\u001B[1;31mKeyboardInterrupt\u001B[0m                         Traceback (most recent call last)",
      "Cell \u001B[1;32mIn[57], line 6\u001B[0m\n\u001B[0;32m      4\u001B[0m nuum \u001B[38;5;241m=\u001B[39m NuumActions(driver)\n\u001B[0;32m      5\u001B[0m \u001B[38;5;66;03m#nuum.open_subs()\u001B[39;00m\n\u001B[1;32m----> 6\u001B[0m \u001B[43mnuum\u001B[49m\u001B[38;5;241;43m.\u001B[39;49m\u001B[43mopen_rec\u001B[49m\u001B[43m(\u001B[49m\u001B[43m)\u001B[49m\n\u001B[0;32m      8\u001B[0m liked \u001B[38;5;241m=\u001B[39m \u001B[38;5;241m0\u001B[39m\n\u001B[0;32m      9\u001B[0m \u001B[38;5;28;01mfor\u001B[39;00m i \u001B[38;5;129;01min\u001B[39;00m \u001B[38;5;28mrange\u001B[39m(N):\n",
      "Cell \u001B[1;32mIn[56], line 180\u001B[0m, in \u001B[0;36mNuumActions.open_rec\u001B[1;34m(self)\u001B[0m\n\u001B[0;32m    179\u001B[0m \u001B[38;5;28;01mdef\u001B[39;00m \u001B[38;5;21mopen_rec\u001B[39m(\u001B[38;5;28mself\u001B[39m):\n\u001B[1;32m--> 180\u001B[0m     \u001B[38;5;28;43mself\u001B[39;49m\u001B[38;5;241;43m.\u001B[39;49m\u001B[43mopen\u001B[49m\u001B[43m(\u001B[49m\u001B[43mCLIPS\u001B[49m\u001B[43m)\u001B[49m\n\u001B[0;32m    181\u001B[0m     clips \u001B[38;5;241m=\u001B[39m \u001B[38;5;28mself\u001B[39m\u001B[38;5;241m.\u001B[39mdriver\u001B[38;5;241m.\u001B[39mfind_elements(By\u001B[38;5;241m.\u001B[39mXPATH, \u001B[38;5;124m\"\u001B[39m\u001B[38;5;124m//a[contains(@href, \u001B[39m\u001B[38;5;124m'\u001B[39m\u001B[38;5;124m/clips/\u001B[39m\u001B[38;5;124m'\u001B[39m\u001B[38;5;124m)]\u001B[39m\u001B[38;5;124m\"\u001B[39m)\n\u001B[0;32m    182\u001B[0m     \u001B[38;5;28;01mif\u001B[39;00m clips:\n",
      "Cell \u001B[1;32mIn[56], line 50\u001B[0m, in \u001B[0;36mNuumBaseAction.open\u001B[1;34m(self, url)\u001B[0m\n\u001B[0;32m     49\u001B[0m \u001B[38;5;28;01mdef\u001B[39;00m \u001B[38;5;21mopen\u001B[39m(\u001B[38;5;28mself\u001B[39m, url):\n\u001B[1;32m---> 50\u001B[0m     \u001B[38;5;28;43mself\u001B[39;49m\u001B[38;5;241;43m.\u001B[39;49m\u001B[43mdriver\u001B[49m\u001B[38;5;241;43m.\u001B[39;49m\u001B[43mget\u001B[49m\u001B[43m(\u001B[49m\u001B[43murl\u001B[49m\u001B[43m)\u001B[49m\n\u001B[0;32m     51\u001B[0m     \u001B[38;5;28mself\u001B[39m\u001B[38;5;241m.\u001B[39mdriver\u001B[38;5;241m.\u001B[39mimplicitly_wait(\u001B[38;5;241m5\u001B[39m)\n",
      "File \u001B[1;32mD:\\PROJECTS\\python\\SCRIPT\\NuumBot\\.venv\\Lib\\site-packages\\selenium\\webdriver\\remote\\webdriver.py:389\u001B[0m, in \u001B[0;36mWebDriver.get\u001B[1;34m(self, url)\u001B[0m\n\u001B[0;32m    387\u001B[0m \u001B[38;5;28;01mdef\u001B[39;00m \u001B[38;5;21mget\u001B[39m(\u001B[38;5;28mself\u001B[39m, url: \u001B[38;5;28mstr\u001B[39m) \u001B[38;5;241m-\u001B[39m\u001B[38;5;241m>\u001B[39m \u001B[38;5;28;01mNone\u001B[39;00m:\n\u001B[0;32m    388\u001B[0m \u001B[38;5;250m    \u001B[39m\u001B[38;5;124;03m\"\"\"Loads a web page in the current browser session.\"\"\"\u001B[39;00m\n\u001B[1;32m--> 389\u001B[0m     \u001B[38;5;28;43mself\u001B[39;49m\u001B[38;5;241;43m.\u001B[39;49m\u001B[43mexecute\u001B[49m\u001B[43m(\u001B[49m\u001B[43mCommand\u001B[49m\u001B[38;5;241;43m.\u001B[39;49m\u001B[43mGET\u001B[49m\u001B[43m,\u001B[49m\u001B[43m \u001B[49m\u001B[43m{\u001B[49m\u001B[38;5;124;43m\"\u001B[39;49m\u001B[38;5;124;43murl\u001B[39;49m\u001B[38;5;124;43m\"\u001B[39;49m\u001B[43m:\u001B[49m\u001B[43m \u001B[49m\u001B[43murl\u001B[49m\u001B[43m}\u001B[49m\u001B[43m)\u001B[49m\n",
      "File \u001B[1;32mD:\\PROJECTS\\python\\SCRIPT\\NuumBot\\.venv\\Lib\\site-packages\\selenium\\webdriver\\remote\\webdriver.py:378\u001B[0m, in \u001B[0;36mWebDriver.execute\u001B[1;34m(self, driver_command, params)\u001B[0m\n\u001B[0;32m    375\u001B[0m     \u001B[38;5;28;01melif\u001B[39;00m \u001B[38;5;124m\"\u001B[39m\u001B[38;5;124msessionId\u001B[39m\u001B[38;5;124m\"\u001B[39m \u001B[38;5;129;01mnot\u001B[39;00m \u001B[38;5;129;01min\u001B[39;00m params:\n\u001B[0;32m    376\u001B[0m         params[\u001B[38;5;124m\"\u001B[39m\u001B[38;5;124msessionId\u001B[39m\u001B[38;5;124m\"\u001B[39m] \u001B[38;5;241m=\u001B[39m \u001B[38;5;28mself\u001B[39m\u001B[38;5;241m.\u001B[39msession_id\n\u001B[1;32m--> 378\u001B[0m response \u001B[38;5;241m=\u001B[39m \u001B[38;5;28;43mself\u001B[39;49m\u001B[38;5;241;43m.\u001B[39;49m\u001B[43mcommand_executor\u001B[49m\u001B[38;5;241;43m.\u001B[39;49m\u001B[43mexecute\u001B[49m\u001B[43m(\u001B[49m\u001B[43mdriver_command\u001B[49m\u001B[43m,\u001B[49m\u001B[43m \u001B[49m\u001B[43mparams\u001B[49m\u001B[43m)\u001B[49m\n\u001B[0;32m    379\u001B[0m \u001B[38;5;28;01mif\u001B[39;00m response:\n\u001B[0;32m    380\u001B[0m     \u001B[38;5;28mself\u001B[39m\u001B[38;5;241m.\u001B[39merror_handler\u001B[38;5;241m.\u001B[39mcheck_response(response)\n",
      "File \u001B[1;32mD:\\PROJECTS\\python\\SCRIPT\\NuumBot\\.venv\\Lib\\site-packages\\selenium\\webdriver\\remote\\remote_connection.py:391\u001B[0m, in \u001B[0;36mRemoteConnection.execute\u001B[1;34m(self, command, params)\u001B[0m\n\u001B[0;32m    389\u001B[0m trimmed \u001B[38;5;241m=\u001B[39m \u001B[38;5;28mself\u001B[39m\u001B[38;5;241m.\u001B[39m_trim_large_entries(params)\n\u001B[0;32m    390\u001B[0m LOGGER\u001B[38;5;241m.\u001B[39mdebug(\u001B[38;5;124m\"\u001B[39m\u001B[38;5;132;01m%s\u001B[39;00m\u001B[38;5;124m \u001B[39m\u001B[38;5;132;01m%s\u001B[39;00m\u001B[38;5;124m \u001B[39m\u001B[38;5;132;01m%s\u001B[39;00m\u001B[38;5;124m\"\u001B[39m, command_info[\u001B[38;5;241m0\u001B[39m], url, \u001B[38;5;28mstr\u001B[39m(trimmed))\n\u001B[1;32m--> 391\u001B[0m \u001B[38;5;28;01mreturn\u001B[39;00m \u001B[38;5;28;43mself\u001B[39;49m\u001B[38;5;241;43m.\u001B[39;49m\u001B[43m_request\u001B[49m\u001B[43m(\u001B[49m\u001B[43mcommand_info\u001B[49m\u001B[43m[\u001B[49m\u001B[38;5;241;43m0\u001B[39;49m\u001B[43m]\u001B[49m\u001B[43m,\u001B[49m\u001B[43m \u001B[49m\u001B[43murl\u001B[49m\u001B[43m,\u001B[49m\u001B[43m \u001B[49m\u001B[43mbody\u001B[49m\u001B[38;5;241;43m=\u001B[39;49m\u001B[43mdata\u001B[49m\u001B[43m)\u001B[49m\n",
      "File \u001B[1;32mD:\\PROJECTS\\python\\SCRIPT\\NuumBot\\.venv\\Lib\\site-packages\\selenium\\webdriver\\remote\\remote_connection.py:415\u001B[0m, in \u001B[0;36mRemoteConnection._request\u001B[1;34m(self, method, url, body)\u001B[0m\n\u001B[0;32m    412\u001B[0m     body \u001B[38;5;241m=\u001B[39m \u001B[38;5;28;01mNone\u001B[39;00m\n\u001B[0;32m    414\u001B[0m \u001B[38;5;28;01mif\u001B[39;00m \u001B[38;5;28mself\u001B[39m\u001B[38;5;241m.\u001B[39m_client_config\u001B[38;5;241m.\u001B[39mkeep_alive:\n\u001B[1;32m--> 415\u001B[0m     response \u001B[38;5;241m=\u001B[39m \u001B[38;5;28;43mself\u001B[39;49m\u001B[38;5;241;43m.\u001B[39;49m\u001B[43m_conn\u001B[49m\u001B[38;5;241;43m.\u001B[39;49m\u001B[43mrequest\u001B[49m\u001B[43m(\u001B[49m\u001B[43mmethod\u001B[49m\u001B[43m,\u001B[49m\u001B[43m \u001B[49m\u001B[43murl\u001B[49m\u001B[43m,\u001B[49m\u001B[43m \u001B[49m\u001B[43mbody\u001B[49m\u001B[38;5;241;43m=\u001B[39;49m\u001B[43mbody\u001B[49m\u001B[43m,\u001B[49m\u001B[43m \u001B[49m\u001B[43mheaders\u001B[49m\u001B[38;5;241;43m=\u001B[39;49m\u001B[43mheaders\u001B[49m\u001B[43m,\u001B[49m\u001B[43m \u001B[49m\u001B[43mtimeout\u001B[49m\u001B[38;5;241;43m=\u001B[39;49m\u001B[38;5;28;43mself\u001B[39;49m\u001B[38;5;241;43m.\u001B[39;49m\u001B[43m_client_config\u001B[49m\u001B[38;5;241;43m.\u001B[39;49m\u001B[43mtimeout\u001B[49m\u001B[43m)\u001B[49m\n\u001B[0;32m    416\u001B[0m     statuscode \u001B[38;5;241m=\u001B[39m response\u001B[38;5;241m.\u001B[39mstatus\n\u001B[0;32m    417\u001B[0m \u001B[38;5;28;01melse\u001B[39;00m:\n",
      "File \u001B[1;32mD:\\PROJECTS\\python\\SCRIPT\\NuumBot\\.venv\\Lib\\site-packages\\urllib3\\_request_methods.py:143\u001B[0m, in \u001B[0;36mRequestMethods.request\u001B[1;34m(self, method, url, body, fields, headers, json, **urlopen_kw)\u001B[0m\n\u001B[0;32m    135\u001B[0m     \u001B[38;5;28;01mreturn\u001B[39;00m \u001B[38;5;28mself\u001B[39m\u001B[38;5;241m.\u001B[39mrequest_encode_url(\n\u001B[0;32m    136\u001B[0m         method,\n\u001B[0;32m    137\u001B[0m         url,\n\u001B[1;32m   (...)\u001B[0m\n\u001B[0;32m    140\u001B[0m         \u001B[38;5;241m*\u001B[39m\u001B[38;5;241m*\u001B[39murlopen_kw,\n\u001B[0;32m    141\u001B[0m     )\n\u001B[0;32m    142\u001B[0m \u001B[38;5;28;01melse\u001B[39;00m:\n\u001B[1;32m--> 143\u001B[0m     \u001B[38;5;28;01mreturn\u001B[39;00m \u001B[38;5;28;43mself\u001B[39;49m\u001B[38;5;241;43m.\u001B[39;49m\u001B[43mrequest_encode_body\u001B[49m\u001B[43m(\u001B[49m\n\u001B[0;32m    144\u001B[0m \u001B[43m        \u001B[49m\u001B[43mmethod\u001B[49m\u001B[43m,\u001B[49m\u001B[43m \u001B[49m\u001B[43murl\u001B[49m\u001B[43m,\u001B[49m\u001B[43m \u001B[49m\u001B[43mfields\u001B[49m\u001B[38;5;241;43m=\u001B[39;49m\u001B[43mfields\u001B[49m\u001B[43m,\u001B[49m\u001B[43m \u001B[49m\u001B[43mheaders\u001B[49m\u001B[38;5;241;43m=\u001B[39;49m\u001B[43mheaders\u001B[49m\u001B[43m,\u001B[49m\u001B[43m \u001B[49m\u001B[38;5;241;43m*\u001B[39;49m\u001B[38;5;241;43m*\u001B[39;49m\u001B[43murlopen_kw\u001B[49m\n\u001B[0;32m    145\u001B[0m \u001B[43m    \u001B[49m\u001B[43m)\u001B[49m\n",
      "File \u001B[1;32mD:\\PROJECTS\\python\\SCRIPT\\NuumBot\\.venv\\Lib\\site-packages\\urllib3\\_request_methods.py:278\u001B[0m, in \u001B[0;36mRequestMethods.request_encode_body\u001B[1;34m(self, method, url, fields, headers, encode_multipart, multipart_boundary, **urlopen_kw)\u001B[0m\n\u001B[0;32m    274\u001B[0m     extra_kw[\u001B[38;5;124m\"\u001B[39m\u001B[38;5;124mheaders\u001B[39m\u001B[38;5;124m\"\u001B[39m]\u001B[38;5;241m.\u001B[39msetdefault(\u001B[38;5;124m\"\u001B[39m\u001B[38;5;124mContent-Type\u001B[39m\u001B[38;5;124m\"\u001B[39m, content_type)\n\u001B[0;32m    276\u001B[0m extra_kw\u001B[38;5;241m.\u001B[39mupdate(urlopen_kw)\n\u001B[1;32m--> 278\u001B[0m \u001B[38;5;28;01mreturn\u001B[39;00m \u001B[38;5;28;43mself\u001B[39;49m\u001B[38;5;241;43m.\u001B[39;49m\u001B[43murlopen\u001B[49m\u001B[43m(\u001B[49m\u001B[43mmethod\u001B[49m\u001B[43m,\u001B[49m\u001B[43m \u001B[49m\u001B[43murl\u001B[49m\u001B[43m,\u001B[49m\u001B[43m \u001B[49m\u001B[38;5;241;43m*\u001B[39;49m\u001B[38;5;241;43m*\u001B[39;49m\u001B[43mextra_kw\u001B[49m\u001B[43m)\u001B[49m\n",
      "File \u001B[1;32mD:\\PROJECTS\\python\\SCRIPT\\NuumBot\\.venv\\Lib\\site-packages\\urllib3\\poolmanager.py:443\u001B[0m, in \u001B[0;36mPoolManager.urlopen\u001B[1;34m(self, method, url, redirect, **kw)\u001B[0m\n\u001B[0;32m    441\u001B[0m     response \u001B[38;5;241m=\u001B[39m conn\u001B[38;5;241m.\u001B[39murlopen(method, url, \u001B[38;5;241m*\u001B[39m\u001B[38;5;241m*\u001B[39mkw)\n\u001B[0;32m    442\u001B[0m \u001B[38;5;28;01melse\u001B[39;00m:\n\u001B[1;32m--> 443\u001B[0m     response \u001B[38;5;241m=\u001B[39m \u001B[43mconn\u001B[49m\u001B[38;5;241;43m.\u001B[39;49m\u001B[43murlopen\u001B[49m\u001B[43m(\u001B[49m\u001B[43mmethod\u001B[49m\u001B[43m,\u001B[49m\u001B[43m \u001B[49m\u001B[43mu\u001B[49m\u001B[38;5;241;43m.\u001B[39;49m\u001B[43mrequest_uri\u001B[49m\u001B[43m,\u001B[49m\u001B[43m \u001B[49m\u001B[38;5;241;43m*\u001B[39;49m\u001B[38;5;241;43m*\u001B[39;49m\u001B[43mkw\u001B[49m\u001B[43m)\u001B[49m\n\u001B[0;32m    445\u001B[0m redirect_location \u001B[38;5;241m=\u001B[39m redirect \u001B[38;5;129;01mand\u001B[39;00m response\u001B[38;5;241m.\u001B[39mget_redirect_location()\n\u001B[0;32m    446\u001B[0m \u001B[38;5;28;01mif\u001B[39;00m \u001B[38;5;129;01mnot\u001B[39;00m redirect_location:\n",
      "File \u001B[1;32mD:\\PROJECTS\\python\\SCRIPT\\NuumBot\\.venv\\Lib\\site-packages\\urllib3\\connectionpool.py:789\u001B[0m, in \u001B[0;36mHTTPConnectionPool.urlopen\u001B[1;34m(self, method, url, body, headers, retries, redirect, assert_same_host, timeout, pool_timeout, release_conn, chunked, body_pos, preload_content, decode_content, **response_kw)\u001B[0m\n\u001B[0;32m    786\u001B[0m response_conn \u001B[38;5;241m=\u001B[39m conn \u001B[38;5;28;01mif\u001B[39;00m \u001B[38;5;129;01mnot\u001B[39;00m release_conn \u001B[38;5;28;01melse\u001B[39;00m \u001B[38;5;28;01mNone\u001B[39;00m\n\u001B[0;32m    788\u001B[0m \u001B[38;5;66;03m# Make the request on the HTTPConnection object\u001B[39;00m\n\u001B[1;32m--> 789\u001B[0m response \u001B[38;5;241m=\u001B[39m \u001B[38;5;28;43mself\u001B[39;49m\u001B[38;5;241;43m.\u001B[39;49m\u001B[43m_make_request\u001B[49m\u001B[43m(\u001B[49m\n\u001B[0;32m    790\u001B[0m \u001B[43m    \u001B[49m\u001B[43mconn\u001B[49m\u001B[43m,\u001B[49m\n\u001B[0;32m    791\u001B[0m \u001B[43m    \u001B[49m\u001B[43mmethod\u001B[49m\u001B[43m,\u001B[49m\n\u001B[0;32m    792\u001B[0m \u001B[43m    \u001B[49m\u001B[43murl\u001B[49m\u001B[43m,\u001B[49m\n\u001B[0;32m    793\u001B[0m \u001B[43m    \u001B[49m\u001B[43mtimeout\u001B[49m\u001B[38;5;241;43m=\u001B[39;49m\u001B[43mtimeout_obj\u001B[49m\u001B[43m,\u001B[49m\n\u001B[0;32m    794\u001B[0m \u001B[43m    \u001B[49m\u001B[43mbody\u001B[49m\u001B[38;5;241;43m=\u001B[39;49m\u001B[43mbody\u001B[49m\u001B[43m,\u001B[49m\n\u001B[0;32m    795\u001B[0m \u001B[43m    \u001B[49m\u001B[43mheaders\u001B[49m\u001B[38;5;241;43m=\u001B[39;49m\u001B[43mheaders\u001B[49m\u001B[43m,\u001B[49m\n\u001B[0;32m    796\u001B[0m \u001B[43m    \u001B[49m\u001B[43mchunked\u001B[49m\u001B[38;5;241;43m=\u001B[39;49m\u001B[43mchunked\u001B[49m\u001B[43m,\u001B[49m\n\u001B[0;32m    797\u001B[0m \u001B[43m    \u001B[49m\u001B[43mretries\u001B[49m\u001B[38;5;241;43m=\u001B[39;49m\u001B[43mretries\u001B[49m\u001B[43m,\u001B[49m\n\u001B[0;32m    798\u001B[0m \u001B[43m    \u001B[49m\u001B[43mresponse_conn\u001B[49m\u001B[38;5;241;43m=\u001B[39;49m\u001B[43mresponse_conn\u001B[49m\u001B[43m,\u001B[49m\n\u001B[0;32m    799\u001B[0m \u001B[43m    \u001B[49m\u001B[43mpreload_content\u001B[49m\u001B[38;5;241;43m=\u001B[39;49m\u001B[43mpreload_content\u001B[49m\u001B[43m,\u001B[49m\n\u001B[0;32m    800\u001B[0m \u001B[43m    \u001B[49m\u001B[43mdecode_content\u001B[49m\u001B[38;5;241;43m=\u001B[39;49m\u001B[43mdecode_content\u001B[49m\u001B[43m,\u001B[49m\n\u001B[0;32m    801\u001B[0m \u001B[43m    \u001B[49m\u001B[38;5;241;43m*\u001B[39;49m\u001B[38;5;241;43m*\u001B[39;49m\u001B[43mresponse_kw\u001B[49m\u001B[43m,\u001B[49m\n\u001B[0;32m    802\u001B[0m \u001B[43m\u001B[49m\u001B[43m)\u001B[49m\n\u001B[0;32m    804\u001B[0m \u001B[38;5;66;03m# Everything went great!\u001B[39;00m\n\u001B[0;32m    805\u001B[0m clean_exit \u001B[38;5;241m=\u001B[39m \u001B[38;5;28;01mTrue\u001B[39;00m\n",
      "File \u001B[1;32mD:\\PROJECTS\\python\\SCRIPT\\NuumBot\\.venv\\Lib\\site-packages\\urllib3\\connectionpool.py:536\u001B[0m, in \u001B[0;36mHTTPConnectionPool._make_request\u001B[1;34m(self, conn, method, url, body, headers, retries, timeout, chunked, response_conn, preload_content, decode_content, enforce_content_length)\u001B[0m\n\u001B[0;32m    534\u001B[0m \u001B[38;5;66;03m# Receive the response from the server\u001B[39;00m\n\u001B[0;32m    535\u001B[0m \u001B[38;5;28;01mtry\u001B[39;00m:\n\u001B[1;32m--> 536\u001B[0m     response \u001B[38;5;241m=\u001B[39m \u001B[43mconn\u001B[49m\u001B[38;5;241;43m.\u001B[39;49m\u001B[43mgetresponse\u001B[49m\u001B[43m(\u001B[49m\u001B[43m)\u001B[49m\n\u001B[0;32m    537\u001B[0m \u001B[38;5;28;01mexcept\u001B[39;00m (BaseSSLError, \u001B[38;5;167;01mOSError\u001B[39;00m) \u001B[38;5;28;01mas\u001B[39;00m e:\n\u001B[0;32m    538\u001B[0m     \u001B[38;5;28mself\u001B[39m\u001B[38;5;241m.\u001B[39m_raise_timeout(err\u001B[38;5;241m=\u001B[39me, url\u001B[38;5;241m=\u001B[39murl, timeout_value\u001B[38;5;241m=\u001B[39mread_timeout)\n",
      "File \u001B[1;32mD:\\PROJECTS\\python\\SCRIPT\\NuumBot\\.venv\\Lib\\site-packages\\urllib3\\connection.py:507\u001B[0m, in \u001B[0;36mHTTPConnection.getresponse\u001B[1;34m(self)\u001B[0m\n\u001B[0;32m    504\u001B[0m \u001B[38;5;28;01mfrom\u001B[39;00m \u001B[38;5;21;01m.\u001B[39;00m\u001B[38;5;21;01mresponse\u001B[39;00m \u001B[38;5;28;01mimport\u001B[39;00m HTTPResponse\n\u001B[0;32m    506\u001B[0m \u001B[38;5;66;03m# Get the response from http.client.HTTPConnection\u001B[39;00m\n\u001B[1;32m--> 507\u001B[0m httplib_response \u001B[38;5;241m=\u001B[39m \u001B[38;5;28;43msuper\u001B[39;49m\u001B[43m(\u001B[49m\u001B[43m)\u001B[49m\u001B[38;5;241;43m.\u001B[39;49m\u001B[43mgetresponse\u001B[49m\u001B[43m(\u001B[49m\u001B[43m)\u001B[49m\n\u001B[0;32m    509\u001B[0m \u001B[38;5;28;01mtry\u001B[39;00m:\n\u001B[0;32m    510\u001B[0m     assert_header_parsing(httplib_response\u001B[38;5;241m.\u001B[39mmsg)\n",
      "File \u001B[1;32mC:\\Python\\Python311\\Lib\\http\\client.py:1375\u001B[0m, in \u001B[0;36mHTTPConnection.getresponse\u001B[1;34m(self)\u001B[0m\n\u001B[0;32m   1373\u001B[0m \u001B[38;5;28;01mtry\u001B[39;00m:\n\u001B[0;32m   1374\u001B[0m     \u001B[38;5;28;01mtry\u001B[39;00m:\n\u001B[1;32m-> 1375\u001B[0m         \u001B[43mresponse\u001B[49m\u001B[38;5;241;43m.\u001B[39;49m\u001B[43mbegin\u001B[49m\u001B[43m(\u001B[49m\u001B[43m)\u001B[49m\n\u001B[0;32m   1376\u001B[0m     \u001B[38;5;28;01mexcept\u001B[39;00m \u001B[38;5;167;01mConnectionError\u001B[39;00m:\n\u001B[0;32m   1377\u001B[0m         \u001B[38;5;28mself\u001B[39m\u001B[38;5;241m.\u001B[39mclose()\n",
      "File \u001B[1;32mC:\\Python\\Python311\\Lib\\http\\client.py:318\u001B[0m, in \u001B[0;36mHTTPResponse.begin\u001B[1;34m(self)\u001B[0m\n\u001B[0;32m    316\u001B[0m \u001B[38;5;66;03m# read until we get a non-100 response\u001B[39;00m\n\u001B[0;32m    317\u001B[0m \u001B[38;5;28;01mwhile\u001B[39;00m \u001B[38;5;28;01mTrue\u001B[39;00m:\n\u001B[1;32m--> 318\u001B[0m     version, status, reason \u001B[38;5;241m=\u001B[39m \u001B[38;5;28;43mself\u001B[39;49m\u001B[38;5;241;43m.\u001B[39;49m\u001B[43m_read_status\u001B[49m\u001B[43m(\u001B[49m\u001B[43m)\u001B[49m\n\u001B[0;32m    319\u001B[0m     \u001B[38;5;28;01mif\u001B[39;00m status \u001B[38;5;241m!=\u001B[39m CONTINUE:\n\u001B[0;32m    320\u001B[0m         \u001B[38;5;28;01mbreak\u001B[39;00m\n",
      "File \u001B[1;32mC:\\Python\\Python311\\Lib\\http\\client.py:279\u001B[0m, in \u001B[0;36mHTTPResponse._read_status\u001B[1;34m(self)\u001B[0m\n\u001B[0;32m    278\u001B[0m \u001B[38;5;28;01mdef\u001B[39;00m \u001B[38;5;21m_read_status\u001B[39m(\u001B[38;5;28mself\u001B[39m):\n\u001B[1;32m--> 279\u001B[0m     line \u001B[38;5;241m=\u001B[39m \u001B[38;5;28mstr\u001B[39m(\u001B[38;5;28mself\u001B[39m\u001B[38;5;241m.\u001B[39mfp\u001B[38;5;241m.\u001B[39mreadline(_MAXLINE \u001B[38;5;241m+\u001B[39m \u001B[38;5;241m1\u001B[39m), \u001B[38;5;124m\"\u001B[39m\u001B[38;5;124miso-8859-1\u001B[39m\u001B[38;5;124m\"\u001B[39m)\n\u001B[0;32m    280\u001B[0m     \u001B[38;5;28;01mif\u001B[39;00m \u001B[38;5;28mlen\u001B[39m(line) \u001B[38;5;241m>\u001B[39m _MAXLINE:\n\u001B[0;32m    281\u001B[0m         \u001B[38;5;28;01mraise\u001B[39;00m LineTooLong(\u001B[38;5;124m\"\u001B[39m\u001B[38;5;124mstatus line\u001B[39m\u001B[38;5;124m\"\u001B[39m)\n",
      "File \u001B[1;32mC:\\Python\\Python311\\Lib\\socket.py:706\u001B[0m, in \u001B[0;36mSocketIO.readinto\u001B[1;34m(self, b)\u001B[0m\n\u001B[0;32m    704\u001B[0m \u001B[38;5;28;01mwhile\u001B[39;00m \u001B[38;5;28;01mTrue\u001B[39;00m:\n\u001B[0;32m    705\u001B[0m     \u001B[38;5;28;01mtry\u001B[39;00m:\n\u001B[1;32m--> 706\u001B[0m         \u001B[38;5;28;01mreturn\u001B[39;00m \u001B[38;5;28;43mself\u001B[39;49m\u001B[38;5;241;43m.\u001B[39;49m\u001B[43m_sock\u001B[49m\u001B[38;5;241;43m.\u001B[39;49m\u001B[43mrecv_into\u001B[49m\u001B[43m(\u001B[49m\u001B[43mb\u001B[49m\u001B[43m)\u001B[49m\n\u001B[0;32m    707\u001B[0m     \u001B[38;5;28;01mexcept\u001B[39;00m timeout:\n\u001B[0;32m    708\u001B[0m         \u001B[38;5;28mself\u001B[39m\u001B[38;5;241m.\u001B[39m_timeout_occurred \u001B[38;5;241m=\u001B[39m \u001B[38;5;28;01mTrue\u001B[39;00m\n",
      "\u001B[1;31mKeyboardInterrupt\u001B[0m: "
     ]
    }
   ],
   "execution_count": 57
  },
  {
   "metadata": {
    "ExecuteTime": {
     "end_time": "2024-11-17T17:59:06.470628Z",
     "start_time": "2024-11-17T17:59:06.256762Z"
    }
   },
   "cell_type": "code",
   "source": "nuum.user_name()",
   "id": "3c2d133c68916745",
   "outputs": [
    {
     "data": {
      "text/plain": [
       "'SAMURAIS01'"
      ]
     },
     "execution_count": 52,
     "metadata": {},
     "output_type": "execute_result"
    }
   ],
   "execution_count": 52
  },
  {
   "metadata": {
    "ExecuteTime": {
     "end_time": "2024-11-17T17:40:25.542298Z",
     "start_time": "2024-11-17T17:40:25.406811Z"
    }
   },
   "cell_type": "code",
   "source": [
    "#<div class=\"info__name-wrapper\"><a data-testid=\"channelInfoChannelName\" class=\"info__link-name\" title=\"Канал PolinaKrusenstern на NUUM\" href=\"/channel/polinakrusenstern\"> PolinaKrusenstern </a></div>\n",
    "\n",
    "f = 'shorts-bottom-panel-wrapper'\n",
    "user_names = driver.find_elements(By.XPATH, f\"//div[contains(@class, '{f}')]\")\n",
    "    #driver.find_elements(By.XPATH, \"//div[contains(@href, '/channel/')]\")\n",
    "    \n",
    "user_names = [Elm(s) for s in user_names]\n",
    "user_names = [s for s in user_names if nuum.in_screen(s)]\n",
    "user_names[0].text.split('\\n')[0]"
   ],
   "id": "695acb80355adf9",
   "outputs": [
    {
     "data": {
      "text/plain": [
       "'PolinaKrusenstern'"
      ]
     },
     "execution_count": 42,
     "metadata": {},
     "output_type": "execute_result"
    }
   ],
   "execution_count": 42
  },
  {
   "metadata": {
    "ExecuteTime": {
     "end_time": "2024-11-17T17:38:08.592236Z",
     "start_time": "2024-11-17T17:38:08.577380Z"
    }
   },
   "cell_type": "code",
   "source": "user_names[1].location",
   "id": "2f902bdbaa100267",
   "outputs": [
    {
     "data": {
      "text/plain": [
       "{'x': 73, 'y': 2110}"
      ]
     },
     "execution_count": 36,
     "metadata": {},
     "output_type": "execute_result"
    }
   ],
   "execution_count": 36
  },
  {
   "metadata": {
    "ExecuteTime": {
     "end_time": "2024-11-17T14:33:06.625809Z",
     "start_time": "2024-11-17T14:32:06.884208Z"
    }
   },
   "cell_type": "code",
   "source": [
    "# Открываем Браузер\n",
    "driver = webdriver.Chrome()\n",
    "driver.get(NUUM)\n",
    "\n",
    "# with open(cookie_path, 'rb') as file:\n",
    "#     cookies = pickle.load(file)\n",
    "#     for cookie in cookies:\n",
    "#         driver.add_cookie(cookie)\n",
    "#         \n",
    "# driver.get(POLINA_CLIPS)\n",
    "# driver.implicitly_wait(10)"
   ],
   "id": "1684609a77b825b8",
   "outputs": [],
   "execution_count": 5
  },
  {
   "metadata": {
    "ExecuteTime": {
     "end_time": "2024-11-17T04:07:03.410399Z",
     "start_time": "2024-11-17T04:07:03.261806Z"
    }
   },
   "cell_type": "code",
   "source": [
    "with open(cookie_path, 'rb') as file:\n",
    "    cookies = pickle.load(file)\n",
    "    for cookie in cookies:\n",
    "        driver.add_cookie(cookie)"
   ],
   "id": "fae3758547dbb1bb",
   "outputs": [],
   "execution_count": 6
  },
  {
   "metadata": {
    "ExecuteTime": {
     "end_time": "2024-11-17T04:08:08.280963Z",
     "start_time": "2024-11-17T04:08:08.269905Z"
    }
   },
   "cell_type": "code",
   "source": [
    "\n",
    "with open(cookie_path, 'wb') as file:\n",
    "    pickle.dump(driver.get_cookies(), file)"
   ],
   "id": "aa94a7de5e21b832",
   "outputs": [],
   "execution_count": 7
  },
  {
   "metadata": {
    "ExecuteTime": {
     "end_time": "2024-11-17T14:43:00.704990Z",
     "start_time": "2024-11-17T14:43:00.688827Z"
    }
   },
   "cell_type": "code",
   "source": "",
   "id": "5322989bcd49ddfa",
   "outputs": [],
   "execution_count": 24
  },
  {
   "metadata": {
    "ExecuteTime": {
     "end_time": "2024-11-17T14:43:07.378046Z",
     "start_time": "2024-11-17T14:43:07.375281Z"
    }
   },
   "cell_type": "code",
   "source": "nuum = NuumActions(driver)",
   "id": "cac65f62224bf4bf",
   "outputs": [],
   "execution_count": 25
  },
  {
   "metadata": {
    "ExecuteTime": {
     "end_time": "2024-11-17T14:42:12.719353Z",
     "start_time": "2024-11-17T14:42:07.796198Z"
    }
   },
   "cell_type": "code",
   "source": "nuum.open_subs()",
   "id": "b88e538ba6062b",
   "outputs": [],
   "execution_count": 23
  },
  {
   "metadata": {
    "ExecuteTime": {
     "end_time": "2024-11-17T13:59:47.927938Z",
     "start_time": "2024-11-17T13:59:45.270567Z"
    }
   },
   "cell_type": "code",
   "source": [
    "subs = driver.find_elements(By.XPATH, \"//a[contains(@href, '/clips/')]\")\n",
    "subs = [Elm(s) for s in subs]\n",
    "links = [s.link for s in subs]\n",
    "len(subs), links[0]"
   ],
   "id": "3f5fd7be0f90bb15",
   "outputs": [
    {
     "data": {
      "text/plain": [
       "(30,\n",
       " 'https://nuum.ru/clips/3862944--velosiped-ivanchai-priroda-velopokhod-vlesnavelosipede-veloputeshestvie-turizm-pokhod-veloprikliuchenie-prikliuchenienavelosipede-odnavlesu-prikliuchenievlesu')"
      ]
     },
     "execution_count": 116,
     "metadata": {},
     "output_type": "execute_result"
    }
   ],
   "execution_count": 116
  },
  {
   "metadata": {
    "ExecuteTime": {
     "end_time": "2024-11-17T14:00:17.885773Z",
     "start_time": "2024-11-17T14:00:16.877867Z"
    }
   },
   "cell_type": "code",
   "source": "subs[0].click()",
   "id": "74ee20489ebc91c3",
   "outputs": [],
   "execution_count": 117
  },
  {
   "metadata": {
    "ExecuteTime": {
     "end_time": "2024-11-17T14:15:59.344660Z",
     "start_time": "2024-11-17T14:14:20.632185Z"
    }
   },
   "cell_type": "code",
   "source": [
    "nuum.next()\n",
    "if not nuum.is_liked():\n",
    "    time.sleep(2)\n",
    "    nuum.send_stiker()    \n",
    "    nuum.like()\n",
    "    rnd_sleep()\n",
    "    nuum.subscribe()"
   ],
   "id": "690d64849ad620ac",
   "outputs": [],
   "execution_count": 127
  },
  {
   "metadata": {
    "ExecuteTime": {
     "end_time": "2024-11-17T13:17:07.051202Z",
     "start_time": "2024-11-17T13:17:06.851821Z"
    }
   },
   "cell_type": "code",
   "source": "nuum.subscribe()",
   "id": "f1df0f7c6fdfc359",
   "outputs": [],
   "execution_count": 99
  },
  {
   "metadata": {
    "ExecuteTime": {
     "end_time": "2024-11-17T13:12:52.057630Z",
     "start_time": "2024-11-17T13:12:39.917807Z"
    }
   },
   "cell_type": "code",
   "source": "nuum.send_stiker()",
   "id": "f90f981593682c8d",
   "outputs": [],
   "execution_count": 93
  },
  {
   "metadata": {
    "ExecuteTime": {
     "end_time": "2024-11-17T13:04:51.207669Z",
     "start_time": "2024-11-17T13:04:50.912139Z"
    }
   },
   "cell_type": "code",
   "source": "nuum.like()",
   "id": "6372b8fa7c6dc2f4",
   "outputs": [],
   "execution_count": 77
  },
  {
   "metadata": {
    "ExecuteTime": {
     "end_time": "2024-11-17T13:10:03.023940Z",
     "start_time": "2024-11-17T13:10:02.849692Z"
    }
   },
   "cell_type": "code",
   "source": [
    "sbscr = driver.find_elements(By.XPATH, \"//span[contains(text(), 'Подписаться')]\")\n",
    "sbscr = [Elm(s) for s in sbscr] \n",
    "sbscr = [s for s in sbscr if viewer.in_screen(s)]\n",
    "sbscr[0].click()"
   ],
   "id": "7aabd93363495ec3",
   "outputs": [
    {
     "ename": "IndexError",
     "evalue": "list index out of range",
     "output_type": "error",
     "traceback": [
      "\u001B[1;31m---------------------------------------------------------------------------\u001B[0m",
      "\u001B[1;31mIndexError\u001B[0m                                Traceback (most recent call last)",
      "Cell \u001B[1;32mIn[85], line 4\u001B[0m\n\u001B[0;32m      2\u001B[0m sbscr \u001B[38;5;241m=\u001B[39m [Elm(s) \u001B[38;5;28;01mfor\u001B[39;00m s \u001B[38;5;129;01min\u001B[39;00m sbscr] \n\u001B[0;32m      3\u001B[0m sbscr \u001B[38;5;241m=\u001B[39m [s \u001B[38;5;28;01mfor\u001B[39;00m s \u001B[38;5;129;01min\u001B[39;00m sbscr \u001B[38;5;28;01mif\u001B[39;00m viewer\u001B[38;5;241m.\u001B[39min_screen(s)]\n\u001B[1;32m----> 4\u001B[0m \u001B[43msbscr\u001B[49m\u001B[43m[\u001B[49m\u001B[38;5;241;43m0\u001B[39;49m\u001B[43m]\u001B[49m\u001B[38;5;241m.\u001B[39mclick()\n",
      "\u001B[1;31mIndexError\u001B[0m: list index out of range"
     ]
    }
   ],
   "execution_count": 85
  },
  {
   "metadata": {
    "ExecuteTime": {
     "end_time": "2024-11-17T13:10:22.387483Z",
     "start_time": "2024-11-17T13:10:22.200622Z"
    }
   },
   "cell_type": "code",
   "source": [
    "sbscr = driver.find_elements(By.XPATH, \"//span[contains(text(), 'Вы подписаны')]\")\n",
    "sbscr = [Elm(s) for s in sbscr] \n",
    "sbscr = [s for s in sbscr if viewer.in_screen(s)]\n",
    "sbscr[0].click()"
   ],
   "id": "703ec269732caba7",
   "outputs": [],
   "execution_count": 86
  },
  {
   "metadata": {
    "ExecuteTime": {
     "end_time": "2024-11-17T02:45:19.812902Z",
     "start_time": "2024-11-17T02:45:00.659827Z"
    }
   },
   "cell_type": "code",
   "source": [
    "url = random.choice(clips_list)\n",
    "viewer.open(url)\n",
    "time.sleep(2)\n",
    "\n",
    "if not viewer.is_liked():\n",
    "    descr = viewer.find_description()\n",
    "    comment = await viewer.generate_comment(descr)\n",
    "    viewer.send_comment(comment)\n",
    "    time.sleep(2)\n",
    "    viewer.send_stiker()\n",
    "    time.sleep(2)\n",
    "    viewer.like()\n",
    "    "
   ],
   "id": "d0a230e7be8796c",
   "outputs": [],
   "execution_count": 172
  },
  {
   "metadata": {
    "ExecuteTime": {
     "end_time": "2024-11-17T04:10:36.232225Z",
     "start_time": "2024-11-17T04:10:36.228581Z"
    }
   },
   "cell_type": "code",
   "source": [
    "def img_stiker(s):\n",
    "    s.get_attribute('src')\n",
    "    # load stiker from url\n",
    "    # example: 'https://static.nuum.ru/sticker-packs/seal/webp/medium/seal-14.webp'\n",
    "    import requests\n",
    "    import io\n",
    "    from PIL import Image\n",
    "\n",
    "    url = s.get_attribute('src')\n",
    "    response = requests.get(url)\n",
    "    img = Image.open(io.BytesIO(response.content))\n",
    "\n",
    "    return img\n",
    "\n",
    "def rnd_sleep(m=1, d=1.5):\n",
    "    # normal distribution\n",
    "    sleep = random.normalvariate(m, d)\n",
    "    #print(sleep)\n",
    "    time.sleep(max(.5,sleep))\n"
   ],
   "id": "aeeab76f044cea",
   "outputs": [],
   "execution_count": 12
  },
  {
   "metadata": {
    "ExecuteTime": {
     "end_time": "2024-11-17T03:02:48.609411Z",
     "start_time": "2024-11-17T03:02:38.090519Z"
    }
   },
   "cell_type": "code",
   "source": [
    "nuum = NuumViewer(driver)\n",
    "\n",
    "nuum.open(POLINA_CLIPS)\n",
    "time.sleep(5)\n",
    "clips_list = set(nuum.get_clips_from_page())"
   ],
   "id": "36d57e954acb9cd7",
   "outputs": [],
   "execution_count": 238
  },
  {
   "metadata": {
    "ExecuteTime": {
     "end_time": "2024-11-17T03:05:06.853970Z",
     "start_time": "2024-11-17T03:04:17.173213Z"
    }
   },
   "cell_type": "code",
   "source": [
    "clip = random.choice(list(clips_list))\n",
    "nuum.open(clip)\n",
    "time.sleep(2)\n",
    "\n",
    "if not nuum.is_liked():\n",
    "    descr = nuum.find_description()\n",
    "    comment = await nuum.generate_comment(descr)\n",
    "    nuum.send_comment(comment)\n",
    "    time.sleep(2)\n",
    "    nuum.send_stiker()\n",
    "    time.sleep(2)\n",
    "    nuum.like()\n",
    "\n",
    "clips_list.remove(clip)\n",
    "time.sleep(2)"
   ],
   "id": "8ca02efd06612ffa",
   "outputs": [],
   "execution_count": 239
  },
  {
   "metadata": {
    "ExecuteTime": {
     "end_time": "2024-11-17T13:17:48.618699Z",
     "start_time": "2024-11-17T13:17:47.614760Z"
    }
   },
   "cell_type": "code",
   "source": [
    "def rnd_sleep(m=1, d=1.5):\n",
    "    # normal distribution\n",
    "    sleep = random.normalvariate(m, d)\n",
    "    #print(sleep)\n",
    "    time.sleep(max(1,sleep))\n",
    "    \n",
    "rnd_sleep()"
   ],
   "id": "8650c20851317c36",
   "outputs": [],
   "execution_count": 101
  },
  {
   "metadata": {
    "ExecuteTime": {
     "end_time": "2024-11-17T04:32:42.121798Z",
     "start_time": "2024-11-17T04:18:23.209694Z"
    }
   },
   "cell_type": "code",
   "source": [
    "nuum = NuumViewer(driver)\n",
    "\n",
    "while clips_list:\n",
    "    clip = random.choice(list(clips_list))\n",
    "    nuum.open(clip)\n",
    "    time.sleep(2)\n",
    "\n",
    "    if not nuum.is_liked():\n",
    "        nuum.like()\n",
    "        descr = nuum.find_description()\n",
    "        comment = await nuum.generate_comment(descr)\n",
    "        nuum.send_comment(comment)\n",
    "        rnd_sleep()\n",
    "        nuum.send_stiker()\n",
    "        rnd_sleep()\n",
    "        \n",
    "\n",
    "    clips_list.remove(clip)\n",
    "    rnd_sleep(40, 20)"
   ],
   "id": "548b9ba1405ef5b3",
   "outputs": [],
   "execution_count": 20
  },
  {
   "metadata": {
    "ExecuteTime": {
     "end_time": "2024-11-17T03:31:06.282047Z",
     "start_time": "2024-11-17T03:30:52.420619Z"
    }
   },
   "cell_type": "code",
   "source": [
    "nuum = NuumViewer(driver)\n",
    "nuum.send_stiker()"
   ],
   "id": "c0d0cefdc78715a5",
   "outputs": [],
   "execution_count": 271
  },
  {
   "metadata": {
    "ExecuteTime": {
     "end_time": "2024-11-17T03:32:10.447469Z",
     "start_time": "2024-11-17T03:32:09.245809Z"
    }
   },
   "cell_type": "code",
   "source": [
    "element = driver.find_elements(By.XPATH, \"//button[contains(@class, 'comment-input__smile-button')]\")\n",
    "if element:\n",
    "    time.sleep(1)\n",
    "    element[0].click()"
   ],
   "id": "7dd15af8afcea7a",
   "outputs": [],
   "execution_count": 273
  },
  {
   "metadata": {
    "ExecuteTime": {
     "end_time": "2024-11-17T03:32:38.673688Z",
     "start_time": "2024-11-17T03:32:37.154514Z"
    }
   },
   "cell_type": "code",
   "source": [
    "element = driver.find_elements(By.XPATH, \"//span[contains(text(), 'Стикеры')]\")\n",
    "\n",
    "if element:\n",
    "    time.sleep(1)\n",
    "    element[0].click()"
   ],
   "id": "e0050e93d1023a77",
   "outputs": [],
   "execution_count": 275
  },
  {
   "metadata": {
    "ExecuteTime": {
     "end_time": "2024-11-17T03:33:06.060691Z",
     "start_time": "2024-11-17T03:33:02.992301Z"
    }
   },
   "cell_type": "code",
   "source": [
    "time.sleep(2)\n",
    "#<div _ngcontent-ng-c2079894590=\"\" class=\"smiles__navigation-sticker-wrapper ng-star-inserted smiles__navigation-sticker-wrapper--active\"><img _ngcontent-ng-c2079894590=\"\" class=\"smiles__navigation-sticker\" alt=\"Енот\" src=\"https://static.nuum.ru/sticker-packs/raccoon/raccoon-icon.webp\"></div>\n",
    "d = driver.find_elements(By.XPATH, \"//div[contains(@class, 'smiles__navigation-sticker-wrapper')]\")\n",
    "if d:\n",
    "    d = random.choice(d)\n",
    "    d.click()\n",
    "    time.sleep(1)"
   ],
   "id": "ccee684c319a6471",
   "outputs": [],
   "execution_count": 277
  },
  {
   "metadata": {
    "ExecuteTime": {
     "end_time": "2024-11-17T03:44:24.004415Z",
     "start_time": "2024-11-17T03:44:23.484136Z"
    }
   },
   "cell_type": "code",
   "source": [
    "stikers = driver.find_elements(By.XPATH, \"//div[contains(@class, 'sticker ng-star-inserted')]\")\n",
    "len(stikers), len(set(stikers))"
   ],
   "id": "78b231914deda058",
   "outputs": [
    {
     "data": {
      "text/plain": [
       "(285, 285)"
      ]
     },
     "execution_count": 320,
     "metadata": {},
     "output_type": "execute_result"
    }
   ],
   "execution_count": 320
  },
  {
   "metadata": {
    "ExecuteTime": {
     "end_time": "2024-11-17T03:41:45.623732Z",
     "start_time": "2024-11-17T03:41:36.634343Z"
    }
   },
   "cell_type": "code",
   "source": [
    "stikers = [s.find_elements(By.XPATH, \"//img[contains(@class, 'sticker-img-loaded')]\") for s in stikers]\n",
    "len(stikers), len(stikers[0]), len(stikers[1])"
   ],
   "id": "d23ac7d6f1739dd8",
   "outputs": [
    {
     "data": {
      "text/plain": [
       "(285, 43, 43)"
      ]
     },
     "execution_count": 318,
     "metadata": {},
     "output_type": "execute_result"
    }
   ],
   "execution_count": 318
  },
  {
   "metadata": {},
   "cell_type": "code",
   "source": [
    "stikers = [s[0] for s in stikers if s]\n",
    "stikers"
   ],
   "id": "534fefa4d440719c",
   "outputs": [],
   "execution_count": null
  },
  {
   "metadata": {
    "ExecuteTime": {
     "end_time": "2024-11-17T03:37:54.548711Z",
     "start_time": "2024-11-17T03:37:54.394341Z"
    }
   },
   "cell_type": "code",
   "source": [
    "stiker = random.choice(stikers)\n",
    "img_stiker(stiker)"
   ],
   "id": "a5817dad12c30b20",
   "outputs": [
    {
     "ename": "MissingSchema",
     "evalue": "Invalid URL 'None': No scheme supplied. Perhaps you meant https://None?",
     "output_type": "error",
     "traceback": [
      "\u001B[1;31m---------------------------------------------------------------------------\u001B[0m",
      "\u001B[1;31mMissingSchema\u001B[0m                             Traceback (most recent call last)",
      "Cell \u001B[1;32mIn[310], line 2\u001B[0m\n\u001B[0;32m      1\u001B[0m stiker \u001B[38;5;241m=\u001B[39m random\u001B[38;5;241m.\u001B[39mchoice(stikers)\n\u001B[1;32m----> 2\u001B[0m \u001B[43mimg_stiker\u001B[49m\u001B[43m(\u001B[49m\u001B[43mstiker\u001B[49m\u001B[43m)\u001B[49m\n",
      "Cell \u001B[1;32mIn[203], line 10\u001B[0m, in \u001B[0;36mimg_stiker\u001B[1;34m(s)\u001B[0m\n\u001B[0;32m      7\u001B[0m \u001B[38;5;28;01mfrom\u001B[39;00m \u001B[38;5;21;01mPIL\u001B[39;00m \u001B[38;5;28;01mimport\u001B[39;00m Image\n\u001B[0;32m      9\u001B[0m url \u001B[38;5;241m=\u001B[39m s\u001B[38;5;241m.\u001B[39mget_attribute(\u001B[38;5;124m'\u001B[39m\u001B[38;5;124msrc\u001B[39m\u001B[38;5;124m'\u001B[39m)\n\u001B[1;32m---> 10\u001B[0m response \u001B[38;5;241m=\u001B[39m \u001B[43mrequests\u001B[49m\u001B[38;5;241;43m.\u001B[39;49m\u001B[43mget\u001B[49m\u001B[43m(\u001B[49m\u001B[43murl\u001B[49m\u001B[43m)\u001B[49m\n\u001B[0;32m     11\u001B[0m img \u001B[38;5;241m=\u001B[39m Image\u001B[38;5;241m.\u001B[39mopen(io\u001B[38;5;241m.\u001B[39mBytesIO(response\u001B[38;5;241m.\u001B[39mcontent))\n\u001B[0;32m     13\u001B[0m \u001B[38;5;28;01mreturn\u001B[39;00m img\n",
      "File \u001B[1;32mD:\\PROJECTS\\python\\SCRIPT\\NuumBot\\.venv\\Lib\\site-packages\\requests\\api.py:73\u001B[0m, in \u001B[0;36mget\u001B[1;34m(url, params, **kwargs)\u001B[0m\n\u001B[0;32m     62\u001B[0m \u001B[38;5;28;01mdef\u001B[39;00m \u001B[38;5;21mget\u001B[39m(url, params\u001B[38;5;241m=\u001B[39m\u001B[38;5;28;01mNone\u001B[39;00m, \u001B[38;5;241m*\u001B[39m\u001B[38;5;241m*\u001B[39mkwargs):\n\u001B[0;32m     63\u001B[0m \u001B[38;5;250m    \u001B[39m\u001B[38;5;124mr\u001B[39m\u001B[38;5;124;03m\"\"\"Sends a GET request.\u001B[39;00m\n\u001B[0;32m     64\u001B[0m \n\u001B[0;32m     65\u001B[0m \u001B[38;5;124;03m    :param url: URL for the new :class:`Request` object.\u001B[39;00m\n\u001B[1;32m   (...)\u001B[0m\n\u001B[0;32m     70\u001B[0m \u001B[38;5;124;03m    :rtype: requests.Response\u001B[39;00m\n\u001B[0;32m     71\u001B[0m \u001B[38;5;124;03m    \"\"\"\u001B[39;00m\n\u001B[1;32m---> 73\u001B[0m     \u001B[38;5;28;01mreturn\u001B[39;00m \u001B[43mrequest\u001B[49m\u001B[43m(\u001B[49m\u001B[38;5;124;43m\"\u001B[39;49m\u001B[38;5;124;43mget\u001B[39;49m\u001B[38;5;124;43m\"\u001B[39;49m\u001B[43m,\u001B[49m\u001B[43m \u001B[49m\u001B[43murl\u001B[49m\u001B[43m,\u001B[49m\u001B[43m \u001B[49m\u001B[43mparams\u001B[49m\u001B[38;5;241;43m=\u001B[39;49m\u001B[43mparams\u001B[49m\u001B[43m,\u001B[49m\u001B[43m \u001B[49m\u001B[38;5;241;43m*\u001B[39;49m\u001B[38;5;241;43m*\u001B[39;49m\u001B[43mkwargs\u001B[49m\u001B[43m)\u001B[49m\n",
      "File \u001B[1;32mD:\\PROJECTS\\python\\SCRIPT\\NuumBot\\.venv\\Lib\\site-packages\\requests\\api.py:59\u001B[0m, in \u001B[0;36mrequest\u001B[1;34m(method, url, **kwargs)\u001B[0m\n\u001B[0;32m     55\u001B[0m \u001B[38;5;66;03m# By using the 'with' statement we are sure the session is closed, thus we\u001B[39;00m\n\u001B[0;32m     56\u001B[0m \u001B[38;5;66;03m# avoid leaving sockets open which can trigger a ResourceWarning in some\u001B[39;00m\n\u001B[0;32m     57\u001B[0m \u001B[38;5;66;03m# cases, and look like a memory leak in others.\u001B[39;00m\n\u001B[0;32m     58\u001B[0m \u001B[38;5;28;01mwith\u001B[39;00m sessions\u001B[38;5;241m.\u001B[39mSession() \u001B[38;5;28;01mas\u001B[39;00m session:\n\u001B[1;32m---> 59\u001B[0m     \u001B[38;5;28;01mreturn\u001B[39;00m \u001B[43msession\u001B[49m\u001B[38;5;241;43m.\u001B[39;49m\u001B[43mrequest\u001B[49m\u001B[43m(\u001B[49m\u001B[43mmethod\u001B[49m\u001B[38;5;241;43m=\u001B[39;49m\u001B[43mmethod\u001B[49m\u001B[43m,\u001B[49m\u001B[43m \u001B[49m\u001B[43murl\u001B[49m\u001B[38;5;241;43m=\u001B[39;49m\u001B[43murl\u001B[49m\u001B[43m,\u001B[49m\u001B[43m \u001B[49m\u001B[38;5;241;43m*\u001B[39;49m\u001B[38;5;241;43m*\u001B[39;49m\u001B[43mkwargs\u001B[49m\u001B[43m)\u001B[49m\n",
      "File \u001B[1;32mD:\\PROJECTS\\python\\SCRIPT\\NuumBot\\.venv\\Lib\\site-packages\\requests\\sessions.py:575\u001B[0m, in \u001B[0;36mSession.request\u001B[1;34m(self, method, url, params, data, headers, cookies, files, auth, timeout, allow_redirects, proxies, hooks, stream, verify, cert, json)\u001B[0m\n\u001B[0;32m    562\u001B[0m \u001B[38;5;66;03m# Create the Request.\u001B[39;00m\n\u001B[0;32m    563\u001B[0m req \u001B[38;5;241m=\u001B[39m Request(\n\u001B[0;32m    564\u001B[0m     method\u001B[38;5;241m=\u001B[39mmethod\u001B[38;5;241m.\u001B[39mupper(),\n\u001B[0;32m    565\u001B[0m     url\u001B[38;5;241m=\u001B[39murl,\n\u001B[1;32m   (...)\u001B[0m\n\u001B[0;32m    573\u001B[0m     hooks\u001B[38;5;241m=\u001B[39mhooks,\n\u001B[0;32m    574\u001B[0m )\n\u001B[1;32m--> 575\u001B[0m prep \u001B[38;5;241m=\u001B[39m \u001B[38;5;28;43mself\u001B[39;49m\u001B[38;5;241;43m.\u001B[39;49m\u001B[43mprepare_request\u001B[49m\u001B[43m(\u001B[49m\u001B[43mreq\u001B[49m\u001B[43m)\u001B[49m\n\u001B[0;32m    577\u001B[0m proxies \u001B[38;5;241m=\u001B[39m proxies \u001B[38;5;129;01mor\u001B[39;00m {}\n\u001B[0;32m    579\u001B[0m settings \u001B[38;5;241m=\u001B[39m \u001B[38;5;28mself\u001B[39m\u001B[38;5;241m.\u001B[39mmerge_environment_settings(\n\u001B[0;32m    580\u001B[0m     prep\u001B[38;5;241m.\u001B[39murl, proxies, stream, verify, cert\n\u001B[0;32m    581\u001B[0m )\n",
      "File \u001B[1;32mD:\\PROJECTS\\python\\SCRIPT\\NuumBot\\.venv\\Lib\\site-packages\\requests\\sessions.py:484\u001B[0m, in \u001B[0;36mSession.prepare_request\u001B[1;34m(self, request)\u001B[0m\n\u001B[0;32m    481\u001B[0m     auth \u001B[38;5;241m=\u001B[39m get_netrc_auth(request\u001B[38;5;241m.\u001B[39murl)\n\u001B[0;32m    483\u001B[0m p \u001B[38;5;241m=\u001B[39m PreparedRequest()\n\u001B[1;32m--> 484\u001B[0m \u001B[43mp\u001B[49m\u001B[38;5;241;43m.\u001B[39;49m\u001B[43mprepare\u001B[49m\u001B[43m(\u001B[49m\n\u001B[0;32m    485\u001B[0m \u001B[43m    \u001B[49m\u001B[43mmethod\u001B[49m\u001B[38;5;241;43m=\u001B[39;49m\u001B[43mrequest\u001B[49m\u001B[38;5;241;43m.\u001B[39;49m\u001B[43mmethod\u001B[49m\u001B[38;5;241;43m.\u001B[39;49m\u001B[43mupper\u001B[49m\u001B[43m(\u001B[49m\u001B[43m)\u001B[49m\u001B[43m,\u001B[49m\n\u001B[0;32m    486\u001B[0m \u001B[43m    \u001B[49m\u001B[43murl\u001B[49m\u001B[38;5;241;43m=\u001B[39;49m\u001B[43mrequest\u001B[49m\u001B[38;5;241;43m.\u001B[39;49m\u001B[43murl\u001B[49m\u001B[43m,\u001B[49m\n\u001B[0;32m    487\u001B[0m \u001B[43m    \u001B[49m\u001B[43mfiles\u001B[49m\u001B[38;5;241;43m=\u001B[39;49m\u001B[43mrequest\u001B[49m\u001B[38;5;241;43m.\u001B[39;49m\u001B[43mfiles\u001B[49m\u001B[43m,\u001B[49m\n\u001B[0;32m    488\u001B[0m \u001B[43m    \u001B[49m\u001B[43mdata\u001B[49m\u001B[38;5;241;43m=\u001B[39;49m\u001B[43mrequest\u001B[49m\u001B[38;5;241;43m.\u001B[39;49m\u001B[43mdata\u001B[49m\u001B[43m,\u001B[49m\n\u001B[0;32m    489\u001B[0m \u001B[43m    \u001B[49m\u001B[43mjson\u001B[49m\u001B[38;5;241;43m=\u001B[39;49m\u001B[43mrequest\u001B[49m\u001B[38;5;241;43m.\u001B[39;49m\u001B[43mjson\u001B[49m\u001B[43m,\u001B[49m\n\u001B[0;32m    490\u001B[0m \u001B[43m    \u001B[49m\u001B[43mheaders\u001B[49m\u001B[38;5;241;43m=\u001B[39;49m\u001B[43mmerge_setting\u001B[49m\u001B[43m(\u001B[49m\n\u001B[0;32m    491\u001B[0m \u001B[43m        \u001B[49m\u001B[43mrequest\u001B[49m\u001B[38;5;241;43m.\u001B[39;49m\u001B[43mheaders\u001B[49m\u001B[43m,\u001B[49m\u001B[43m \u001B[49m\u001B[38;5;28;43mself\u001B[39;49m\u001B[38;5;241;43m.\u001B[39;49m\u001B[43mheaders\u001B[49m\u001B[43m,\u001B[49m\u001B[43m \u001B[49m\u001B[43mdict_class\u001B[49m\u001B[38;5;241;43m=\u001B[39;49m\u001B[43mCaseInsensitiveDict\u001B[49m\n\u001B[0;32m    492\u001B[0m \u001B[43m    \u001B[49m\u001B[43m)\u001B[49m\u001B[43m,\u001B[49m\n\u001B[0;32m    493\u001B[0m \u001B[43m    \u001B[49m\u001B[43mparams\u001B[49m\u001B[38;5;241;43m=\u001B[39;49m\u001B[43mmerge_setting\u001B[49m\u001B[43m(\u001B[49m\u001B[43mrequest\u001B[49m\u001B[38;5;241;43m.\u001B[39;49m\u001B[43mparams\u001B[49m\u001B[43m,\u001B[49m\u001B[43m \u001B[49m\u001B[38;5;28;43mself\u001B[39;49m\u001B[38;5;241;43m.\u001B[39;49m\u001B[43mparams\u001B[49m\u001B[43m)\u001B[49m\u001B[43m,\u001B[49m\n\u001B[0;32m    494\u001B[0m \u001B[43m    \u001B[49m\u001B[43mauth\u001B[49m\u001B[38;5;241;43m=\u001B[39;49m\u001B[43mmerge_setting\u001B[49m\u001B[43m(\u001B[49m\u001B[43mauth\u001B[49m\u001B[43m,\u001B[49m\u001B[43m \u001B[49m\u001B[38;5;28;43mself\u001B[39;49m\u001B[38;5;241;43m.\u001B[39;49m\u001B[43mauth\u001B[49m\u001B[43m)\u001B[49m\u001B[43m,\u001B[49m\n\u001B[0;32m    495\u001B[0m \u001B[43m    \u001B[49m\u001B[43mcookies\u001B[49m\u001B[38;5;241;43m=\u001B[39;49m\u001B[43mmerged_cookies\u001B[49m\u001B[43m,\u001B[49m\n\u001B[0;32m    496\u001B[0m \u001B[43m    \u001B[49m\u001B[43mhooks\u001B[49m\u001B[38;5;241;43m=\u001B[39;49m\u001B[43mmerge_hooks\u001B[49m\u001B[43m(\u001B[49m\u001B[43mrequest\u001B[49m\u001B[38;5;241;43m.\u001B[39;49m\u001B[43mhooks\u001B[49m\u001B[43m,\u001B[49m\u001B[43m \u001B[49m\u001B[38;5;28;43mself\u001B[39;49m\u001B[38;5;241;43m.\u001B[39;49m\u001B[43mhooks\u001B[49m\u001B[43m)\u001B[49m\u001B[43m,\u001B[49m\n\u001B[0;32m    497\u001B[0m \u001B[43m\u001B[49m\u001B[43m)\u001B[49m\n\u001B[0;32m    498\u001B[0m \u001B[38;5;28;01mreturn\u001B[39;00m p\n",
      "File \u001B[1;32mD:\\PROJECTS\\python\\SCRIPT\\NuumBot\\.venv\\Lib\\site-packages\\requests\\models.py:367\u001B[0m, in \u001B[0;36mPreparedRequest.prepare\u001B[1;34m(self, method, url, headers, files, data, params, auth, cookies, hooks, json)\u001B[0m\n\u001B[0;32m    364\u001B[0m \u001B[38;5;250m\u001B[39m\u001B[38;5;124;03m\"\"\"Prepares the entire request with the given parameters.\"\"\"\u001B[39;00m\n\u001B[0;32m    366\u001B[0m \u001B[38;5;28mself\u001B[39m\u001B[38;5;241m.\u001B[39mprepare_method(method)\n\u001B[1;32m--> 367\u001B[0m \u001B[38;5;28;43mself\u001B[39;49m\u001B[38;5;241;43m.\u001B[39;49m\u001B[43mprepare_url\u001B[49m\u001B[43m(\u001B[49m\u001B[43murl\u001B[49m\u001B[43m,\u001B[49m\u001B[43m \u001B[49m\u001B[43mparams\u001B[49m\u001B[43m)\u001B[49m\n\u001B[0;32m    368\u001B[0m \u001B[38;5;28mself\u001B[39m\u001B[38;5;241m.\u001B[39mprepare_headers(headers)\n\u001B[0;32m    369\u001B[0m \u001B[38;5;28mself\u001B[39m\u001B[38;5;241m.\u001B[39mprepare_cookies(cookies)\n",
      "File \u001B[1;32mD:\\PROJECTS\\python\\SCRIPT\\NuumBot\\.venv\\Lib\\site-packages\\requests\\models.py:438\u001B[0m, in \u001B[0;36mPreparedRequest.prepare_url\u001B[1;34m(self, url, params)\u001B[0m\n\u001B[0;32m    435\u001B[0m     \u001B[38;5;28;01mraise\u001B[39;00m InvalidURL(\u001B[38;5;241m*\u001B[39me\u001B[38;5;241m.\u001B[39margs)\n\u001B[0;32m    437\u001B[0m \u001B[38;5;28;01mif\u001B[39;00m \u001B[38;5;129;01mnot\u001B[39;00m scheme:\n\u001B[1;32m--> 438\u001B[0m     \u001B[38;5;28;01mraise\u001B[39;00m MissingSchema(\n\u001B[0;32m    439\u001B[0m         \u001B[38;5;124mf\u001B[39m\u001B[38;5;124m\"\u001B[39m\u001B[38;5;124mInvalid URL \u001B[39m\u001B[38;5;132;01m{\u001B[39;00murl\u001B[38;5;132;01m!r}\u001B[39;00m\u001B[38;5;124m: No scheme supplied. \u001B[39m\u001B[38;5;124m\"\u001B[39m\n\u001B[0;32m    440\u001B[0m         \u001B[38;5;124mf\u001B[39m\u001B[38;5;124m\"\u001B[39m\u001B[38;5;124mPerhaps you meant https://\u001B[39m\u001B[38;5;132;01m{\u001B[39;00murl\u001B[38;5;132;01m}\u001B[39;00m\u001B[38;5;124m?\u001B[39m\u001B[38;5;124m\"\u001B[39m\n\u001B[0;32m    441\u001B[0m     )\n\u001B[0;32m    443\u001B[0m \u001B[38;5;28;01mif\u001B[39;00m \u001B[38;5;129;01mnot\u001B[39;00m host:\n\u001B[0;32m    444\u001B[0m     \u001B[38;5;28;01mraise\u001B[39;00m InvalidURL(\u001B[38;5;124mf\u001B[39m\u001B[38;5;124m\"\u001B[39m\u001B[38;5;124mInvalid URL \u001B[39m\u001B[38;5;132;01m{\u001B[39;00murl\u001B[38;5;132;01m!r}\u001B[39;00m\u001B[38;5;124m: No host supplied\u001B[39m\u001B[38;5;124m\"\u001B[39m)\n",
      "\u001B[1;31mMissingSchema\u001B[0m: Invalid URL 'None': No scheme supplied. Perhaps you meant https://None?"
     ]
    }
   ],
   "execution_count": 310
  },
  {
   "metadata": {
    "ExecuteTime": {
     "end_time": "2024-11-17T03:35:16.756906Z",
     "start_time": "2024-11-17T03:35:16.752400Z"
    }
   },
   "cell_type": "code",
   "source": "len(set(stikers))",
   "id": "13c7f7f33b0629a2",
   "outputs": [
    {
     "data": {
      "text/plain": [
       "1"
      ]
     },
     "execution_count": 300,
     "metadata": {},
     "output_type": "execute_result"
    }
   ],
   "execution_count": 300
  },
  {
   "metadata": {
    "ExecuteTime": {
     "end_time": "2024-11-17T04:02:44.521985Z",
     "start_time": "2024-11-17T04:02:13.527077Z"
    }
   },
   "cell_type": "code",
   "source": [
    "viewer = NuumViewer(driver)\n",
    "viewer.send_stiker()"
   ],
   "id": "23e607811cce7c94",
   "outputs": [],
   "execution_count": 356
  },
  {
   "metadata": {
    "ExecuteTime": {
     "end_time": "2024-11-17T03:38:22.577153Z",
     "start_time": "2024-11-17T03:38:17.268399Z"
    }
   },
   "cell_type": "code",
   "source": [
    "stiker.click()\n",
    "\n",
    "\n",
    "\n",
    "\n",
    "\n",
    "\n",
    "\n",
    "#<div _ngcontent-ng-c2083850404=\"\" class=\"sticker ng-star-inserted\"><img _ngcontent-ng-c2083850404=\"\" alt=\"Гном\" src=\"https://static.nuum.ru/sticker-packs/gnom/webp/medium/gnom-12.webp\" class=\"sticker-img-loaded\"></div>\n",
    "stikers = self.driver.find_elements(By.XPATH, \"//div[contains(@class, 'sticker ng-star-inserted')]\")\n",
    "stikers = [s.find_elements(By.XPATH, \"//img[contains(@class, 'sticker-img-loaded')]\") for s in stikers]\n",
    "stikers = [s[0] for s in stikers if s]\n",
    "\n",
    "if stikers:\n",
    "    stiker = random.choice(stikers)\n",
    "    stiker.click()"
   ],
   "id": "d72471166f3c184f",
   "outputs": [
    {
     "ename": "KeyboardInterrupt",
     "evalue": "",
     "output_type": "error",
     "traceback": [
      "\u001B[1;31m---------------------------------------------------------------------------\u001B[0m",
      "\u001B[1;31mKeyboardInterrupt\u001B[0m                         Traceback (most recent call last)",
      "Cell \u001B[1;32mIn[311], line 1\u001B[0m\n\u001B[1;32m----> 1\u001B[0m \u001B[43mstiker\u001B[49m\u001B[38;5;241;43m.\u001B[39;49m\u001B[43mclick\u001B[49m\u001B[43m(\u001B[49m\u001B[43m)\u001B[49m\n\u001B[0;32m      9\u001B[0m \u001B[38;5;66;03m#<div _ngcontent-ng-c2083850404=\"\" class=\"sticker ng-star-inserted\"><img _ngcontent-ng-c2083850404=\"\" alt=\"Гном\" src=\"https://static.nuum.ru/sticker-packs/gnom/webp/medium/gnom-12.webp\" class=\"sticker-img-loaded\"></div>\u001B[39;00m\n\u001B[0;32m     10\u001B[0m stikers \u001B[38;5;241m=\u001B[39m \u001B[38;5;28mself\u001B[39m\u001B[38;5;241m.\u001B[39mdriver\u001B[38;5;241m.\u001B[39mfind_elements(By\u001B[38;5;241m.\u001B[39mXPATH, \u001B[38;5;124m\"\u001B[39m\u001B[38;5;124m//div[contains(@class, \u001B[39m\u001B[38;5;124m'\u001B[39m\u001B[38;5;124msticker ng-star-inserted\u001B[39m\u001B[38;5;124m'\u001B[39m\u001B[38;5;124m)]\u001B[39m\u001B[38;5;124m\"\u001B[39m)\n",
      "File \u001B[1;32mD:\\PROJECTS\\python\\SCRIPT\\NuumBot\\.venv\\Lib\\site-packages\\selenium\\webdriver\\remote\\webelement.py:94\u001B[0m, in \u001B[0;36mWebElement.click\u001B[1;34m(self)\u001B[0m\n\u001B[0;32m     92\u001B[0m \u001B[38;5;28;01mdef\u001B[39;00m \u001B[38;5;21mclick\u001B[39m(\u001B[38;5;28mself\u001B[39m) \u001B[38;5;241m-\u001B[39m\u001B[38;5;241m>\u001B[39m \u001B[38;5;28;01mNone\u001B[39;00m:\n\u001B[0;32m     93\u001B[0m \u001B[38;5;250m    \u001B[39m\u001B[38;5;124;03m\"\"\"Clicks the element.\"\"\"\u001B[39;00m\n\u001B[1;32m---> 94\u001B[0m     \u001B[38;5;28;43mself\u001B[39;49m\u001B[38;5;241;43m.\u001B[39;49m\u001B[43m_execute\u001B[49m\u001B[43m(\u001B[49m\u001B[43mCommand\u001B[49m\u001B[38;5;241;43m.\u001B[39;49m\u001B[43mCLICK_ELEMENT\u001B[49m\u001B[43m)\u001B[49m\n",
      "File \u001B[1;32mD:\\PROJECTS\\python\\SCRIPT\\NuumBot\\.venv\\Lib\\site-packages\\selenium\\webdriver\\remote\\webelement.py:395\u001B[0m, in \u001B[0;36mWebElement._execute\u001B[1;34m(self, command, params)\u001B[0m\n\u001B[0;32m    393\u001B[0m     params \u001B[38;5;241m=\u001B[39m {}\n\u001B[0;32m    394\u001B[0m params[\u001B[38;5;124m\"\u001B[39m\u001B[38;5;124mid\u001B[39m\u001B[38;5;124m\"\u001B[39m] \u001B[38;5;241m=\u001B[39m \u001B[38;5;28mself\u001B[39m\u001B[38;5;241m.\u001B[39m_id\n\u001B[1;32m--> 395\u001B[0m \u001B[38;5;28;01mreturn\u001B[39;00m \u001B[38;5;28;43mself\u001B[39;49m\u001B[38;5;241;43m.\u001B[39;49m\u001B[43m_parent\u001B[49m\u001B[38;5;241;43m.\u001B[39;49m\u001B[43mexecute\u001B[49m\u001B[43m(\u001B[49m\u001B[43mcommand\u001B[49m\u001B[43m,\u001B[49m\u001B[43m \u001B[49m\u001B[43mparams\u001B[49m\u001B[43m)\u001B[49m\n",
      "File \u001B[1;32mD:\\PROJECTS\\python\\SCRIPT\\NuumBot\\.venv\\Lib\\site-packages\\selenium\\webdriver\\remote\\webdriver.py:378\u001B[0m, in \u001B[0;36mWebDriver.execute\u001B[1;34m(self, driver_command, params)\u001B[0m\n\u001B[0;32m    375\u001B[0m     \u001B[38;5;28;01melif\u001B[39;00m \u001B[38;5;124m\"\u001B[39m\u001B[38;5;124msessionId\u001B[39m\u001B[38;5;124m\"\u001B[39m \u001B[38;5;129;01mnot\u001B[39;00m \u001B[38;5;129;01min\u001B[39;00m params:\n\u001B[0;32m    376\u001B[0m         params[\u001B[38;5;124m\"\u001B[39m\u001B[38;5;124msessionId\u001B[39m\u001B[38;5;124m\"\u001B[39m] \u001B[38;5;241m=\u001B[39m \u001B[38;5;28mself\u001B[39m\u001B[38;5;241m.\u001B[39msession_id\n\u001B[1;32m--> 378\u001B[0m response \u001B[38;5;241m=\u001B[39m \u001B[38;5;28;43mself\u001B[39;49m\u001B[38;5;241;43m.\u001B[39;49m\u001B[43mcommand_executor\u001B[49m\u001B[38;5;241;43m.\u001B[39;49m\u001B[43mexecute\u001B[49m\u001B[43m(\u001B[49m\u001B[43mdriver_command\u001B[49m\u001B[43m,\u001B[49m\u001B[43m \u001B[49m\u001B[43mparams\u001B[49m\u001B[43m)\u001B[49m\n\u001B[0;32m    379\u001B[0m \u001B[38;5;28;01mif\u001B[39;00m response:\n\u001B[0;32m    380\u001B[0m     \u001B[38;5;28mself\u001B[39m\u001B[38;5;241m.\u001B[39merror_handler\u001B[38;5;241m.\u001B[39mcheck_response(response)\n",
      "File \u001B[1;32mD:\\PROJECTS\\python\\SCRIPT\\NuumBot\\.venv\\Lib\\site-packages\\selenium\\webdriver\\remote\\remote_connection.py:391\u001B[0m, in \u001B[0;36mRemoteConnection.execute\u001B[1;34m(self, command, params)\u001B[0m\n\u001B[0;32m    389\u001B[0m trimmed \u001B[38;5;241m=\u001B[39m \u001B[38;5;28mself\u001B[39m\u001B[38;5;241m.\u001B[39m_trim_large_entries(params)\n\u001B[0;32m    390\u001B[0m LOGGER\u001B[38;5;241m.\u001B[39mdebug(\u001B[38;5;124m\"\u001B[39m\u001B[38;5;132;01m%s\u001B[39;00m\u001B[38;5;124m \u001B[39m\u001B[38;5;132;01m%s\u001B[39;00m\u001B[38;5;124m \u001B[39m\u001B[38;5;132;01m%s\u001B[39;00m\u001B[38;5;124m\"\u001B[39m, command_info[\u001B[38;5;241m0\u001B[39m], url, \u001B[38;5;28mstr\u001B[39m(trimmed))\n\u001B[1;32m--> 391\u001B[0m \u001B[38;5;28;01mreturn\u001B[39;00m \u001B[38;5;28;43mself\u001B[39;49m\u001B[38;5;241;43m.\u001B[39;49m\u001B[43m_request\u001B[49m\u001B[43m(\u001B[49m\u001B[43mcommand_info\u001B[49m\u001B[43m[\u001B[49m\u001B[38;5;241;43m0\u001B[39;49m\u001B[43m]\u001B[49m\u001B[43m,\u001B[49m\u001B[43m \u001B[49m\u001B[43murl\u001B[49m\u001B[43m,\u001B[49m\u001B[43m \u001B[49m\u001B[43mbody\u001B[49m\u001B[38;5;241;43m=\u001B[39;49m\u001B[43mdata\u001B[49m\u001B[43m)\u001B[49m\n",
      "File \u001B[1;32mD:\\PROJECTS\\python\\SCRIPT\\NuumBot\\.venv\\Lib\\site-packages\\selenium\\webdriver\\remote\\remote_connection.py:415\u001B[0m, in \u001B[0;36mRemoteConnection._request\u001B[1;34m(self, method, url, body)\u001B[0m\n\u001B[0;32m    412\u001B[0m     body \u001B[38;5;241m=\u001B[39m \u001B[38;5;28;01mNone\u001B[39;00m\n\u001B[0;32m    414\u001B[0m \u001B[38;5;28;01mif\u001B[39;00m \u001B[38;5;28mself\u001B[39m\u001B[38;5;241m.\u001B[39m_client_config\u001B[38;5;241m.\u001B[39mkeep_alive:\n\u001B[1;32m--> 415\u001B[0m     response \u001B[38;5;241m=\u001B[39m \u001B[38;5;28;43mself\u001B[39;49m\u001B[38;5;241;43m.\u001B[39;49m\u001B[43m_conn\u001B[49m\u001B[38;5;241;43m.\u001B[39;49m\u001B[43mrequest\u001B[49m\u001B[43m(\u001B[49m\u001B[43mmethod\u001B[49m\u001B[43m,\u001B[49m\u001B[43m \u001B[49m\u001B[43murl\u001B[49m\u001B[43m,\u001B[49m\u001B[43m \u001B[49m\u001B[43mbody\u001B[49m\u001B[38;5;241;43m=\u001B[39;49m\u001B[43mbody\u001B[49m\u001B[43m,\u001B[49m\u001B[43m \u001B[49m\u001B[43mheaders\u001B[49m\u001B[38;5;241;43m=\u001B[39;49m\u001B[43mheaders\u001B[49m\u001B[43m,\u001B[49m\u001B[43m \u001B[49m\u001B[43mtimeout\u001B[49m\u001B[38;5;241;43m=\u001B[39;49m\u001B[38;5;28;43mself\u001B[39;49m\u001B[38;5;241;43m.\u001B[39;49m\u001B[43m_client_config\u001B[49m\u001B[38;5;241;43m.\u001B[39;49m\u001B[43mtimeout\u001B[49m\u001B[43m)\u001B[49m\n\u001B[0;32m    416\u001B[0m     statuscode \u001B[38;5;241m=\u001B[39m response\u001B[38;5;241m.\u001B[39mstatus\n\u001B[0;32m    417\u001B[0m \u001B[38;5;28;01melse\u001B[39;00m:\n",
      "File \u001B[1;32mD:\\PROJECTS\\python\\SCRIPT\\NuumBot\\.venv\\Lib\\site-packages\\urllib3\\_request_methods.py:143\u001B[0m, in \u001B[0;36mRequestMethods.request\u001B[1;34m(self, method, url, body, fields, headers, json, **urlopen_kw)\u001B[0m\n\u001B[0;32m    135\u001B[0m     \u001B[38;5;28;01mreturn\u001B[39;00m \u001B[38;5;28mself\u001B[39m\u001B[38;5;241m.\u001B[39mrequest_encode_url(\n\u001B[0;32m    136\u001B[0m         method,\n\u001B[0;32m    137\u001B[0m         url,\n\u001B[1;32m   (...)\u001B[0m\n\u001B[0;32m    140\u001B[0m         \u001B[38;5;241m*\u001B[39m\u001B[38;5;241m*\u001B[39murlopen_kw,\n\u001B[0;32m    141\u001B[0m     )\n\u001B[0;32m    142\u001B[0m \u001B[38;5;28;01melse\u001B[39;00m:\n\u001B[1;32m--> 143\u001B[0m     \u001B[38;5;28;01mreturn\u001B[39;00m \u001B[38;5;28;43mself\u001B[39;49m\u001B[38;5;241;43m.\u001B[39;49m\u001B[43mrequest_encode_body\u001B[49m\u001B[43m(\u001B[49m\n\u001B[0;32m    144\u001B[0m \u001B[43m        \u001B[49m\u001B[43mmethod\u001B[49m\u001B[43m,\u001B[49m\u001B[43m \u001B[49m\u001B[43murl\u001B[49m\u001B[43m,\u001B[49m\u001B[43m \u001B[49m\u001B[43mfields\u001B[49m\u001B[38;5;241;43m=\u001B[39;49m\u001B[43mfields\u001B[49m\u001B[43m,\u001B[49m\u001B[43m \u001B[49m\u001B[43mheaders\u001B[49m\u001B[38;5;241;43m=\u001B[39;49m\u001B[43mheaders\u001B[49m\u001B[43m,\u001B[49m\u001B[43m \u001B[49m\u001B[38;5;241;43m*\u001B[39;49m\u001B[38;5;241;43m*\u001B[39;49m\u001B[43murlopen_kw\u001B[49m\n\u001B[0;32m    145\u001B[0m \u001B[43m    \u001B[49m\u001B[43m)\u001B[49m\n",
      "File \u001B[1;32mD:\\PROJECTS\\python\\SCRIPT\\NuumBot\\.venv\\Lib\\site-packages\\urllib3\\_request_methods.py:278\u001B[0m, in \u001B[0;36mRequestMethods.request_encode_body\u001B[1;34m(self, method, url, fields, headers, encode_multipart, multipart_boundary, **urlopen_kw)\u001B[0m\n\u001B[0;32m    274\u001B[0m     extra_kw[\u001B[38;5;124m\"\u001B[39m\u001B[38;5;124mheaders\u001B[39m\u001B[38;5;124m\"\u001B[39m]\u001B[38;5;241m.\u001B[39msetdefault(\u001B[38;5;124m\"\u001B[39m\u001B[38;5;124mContent-Type\u001B[39m\u001B[38;5;124m\"\u001B[39m, content_type)\n\u001B[0;32m    276\u001B[0m extra_kw\u001B[38;5;241m.\u001B[39mupdate(urlopen_kw)\n\u001B[1;32m--> 278\u001B[0m \u001B[38;5;28;01mreturn\u001B[39;00m \u001B[38;5;28;43mself\u001B[39;49m\u001B[38;5;241;43m.\u001B[39;49m\u001B[43murlopen\u001B[49m\u001B[43m(\u001B[49m\u001B[43mmethod\u001B[49m\u001B[43m,\u001B[49m\u001B[43m \u001B[49m\u001B[43murl\u001B[49m\u001B[43m,\u001B[49m\u001B[43m \u001B[49m\u001B[38;5;241;43m*\u001B[39;49m\u001B[38;5;241;43m*\u001B[39;49m\u001B[43mextra_kw\u001B[49m\u001B[43m)\u001B[49m\n",
      "File \u001B[1;32mD:\\PROJECTS\\python\\SCRIPT\\NuumBot\\.venv\\Lib\\site-packages\\urllib3\\poolmanager.py:443\u001B[0m, in \u001B[0;36mPoolManager.urlopen\u001B[1;34m(self, method, url, redirect, **kw)\u001B[0m\n\u001B[0;32m    441\u001B[0m     response \u001B[38;5;241m=\u001B[39m conn\u001B[38;5;241m.\u001B[39murlopen(method, url, \u001B[38;5;241m*\u001B[39m\u001B[38;5;241m*\u001B[39mkw)\n\u001B[0;32m    442\u001B[0m \u001B[38;5;28;01melse\u001B[39;00m:\n\u001B[1;32m--> 443\u001B[0m     response \u001B[38;5;241m=\u001B[39m \u001B[43mconn\u001B[49m\u001B[38;5;241;43m.\u001B[39;49m\u001B[43murlopen\u001B[49m\u001B[43m(\u001B[49m\u001B[43mmethod\u001B[49m\u001B[43m,\u001B[49m\u001B[43m \u001B[49m\u001B[43mu\u001B[49m\u001B[38;5;241;43m.\u001B[39;49m\u001B[43mrequest_uri\u001B[49m\u001B[43m,\u001B[49m\u001B[43m \u001B[49m\u001B[38;5;241;43m*\u001B[39;49m\u001B[38;5;241;43m*\u001B[39;49m\u001B[43mkw\u001B[49m\u001B[43m)\u001B[49m\n\u001B[0;32m    445\u001B[0m redirect_location \u001B[38;5;241m=\u001B[39m redirect \u001B[38;5;129;01mand\u001B[39;00m response\u001B[38;5;241m.\u001B[39mget_redirect_location()\n\u001B[0;32m    446\u001B[0m \u001B[38;5;28;01mif\u001B[39;00m \u001B[38;5;129;01mnot\u001B[39;00m redirect_location:\n",
      "File \u001B[1;32mD:\\PROJECTS\\python\\SCRIPT\\NuumBot\\.venv\\Lib\\site-packages\\urllib3\\connectionpool.py:789\u001B[0m, in \u001B[0;36mHTTPConnectionPool.urlopen\u001B[1;34m(self, method, url, body, headers, retries, redirect, assert_same_host, timeout, pool_timeout, release_conn, chunked, body_pos, preload_content, decode_content, **response_kw)\u001B[0m\n\u001B[0;32m    786\u001B[0m response_conn \u001B[38;5;241m=\u001B[39m conn \u001B[38;5;28;01mif\u001B[39;00m \u001B[38;5;129;01mnot\u001B[39;00m release_conn \u001B[38;5;28;01melse\u001B[39;00m \u001B[38;5;28;01mNone\u001B[39;00m\n\u001B[0;32m    788\u001B[0m \u001B[38;5;66;03m# Make the request on the HTTPConnection object\u001B[39;00m\n\u001B[1;32m--> 789\u001B[0m response \u001B[38;5;241m=\u001B[39m \u001B[38;5;28;43mself\u001B[39;49m\u001B[38;5;241;43m.\u001B[39;49m\u001B[43m_make_request\u001B[49m\u001B[43m(\u001B[49m\n\u001B[0;32m    790\u001B[0m \u001B[43m    \u001B[49m\u001B[43mconn\u001B[49m\u001B[43m,\u001B[49m\n\u001B[0;32m    791\u001B[0m \u001B[43m    \u001B[49m\u001B[43mmethod\u001B[49m\u001B[43m,\u001B[49m\n\u001B[0;32m    792\u001B[0m \u001B[43m    \u001B[49m\u001B[43murl\u001B[49m\u001B[43m,\u001B[49m\n\u001B[0;32m    793\u001B[0m \u001B[43m    \u001B[49m\u001B[43mtimeout\u001B[49m\u001B[38;5;241;43m=\u001B[39;49m\u001B[43mtimeout_obj\u001B[49m\u001B[43m,\u001B[49m\n\u001B[0;32m    794\u001B[0m \u001B[43m    \u001B[49m\u001B[43mbody\u001B[49m\u001B[38;5;241;43m=\u001B[39;49m\u001B[43mbody\u001B[49m\u001B[43m,\u001B[49m\n\u001B[0;32m    795\u001B[0m \u001B[43m    \u001B[49m\u001B[43mheaders\u001B[49m\u001B[38;5;241;43m=\u001B[39;49m\u001B[43mheaders\u001B[49m\u001B[43m,\u001B[49m\n\u001B[0;32m    796\u001B[0m \u001B[43m    \u001B[49m\u001B[43mchunked\u001B[49m\u001B[38;5;241;43m=\u001B[39;49m\u001B[43mchunked\u001B[49m\u001B[43m,\u001B[49m\n\u001B[0;32m    797\u001B[0m \u001B[43m    \u001B[49m\u001B[43mretries\u001B[49m\u001B[38;5;241;43m=\u001B[39;49m\u001B[43mretries\u001B[49m\u001B[43m,\u001B[49m\n\u001B[0;32m    798\u001B[0m \u001B[43m    \u001B[49m\u001B[43mresponse_conn\u001B[49m\u001B[38;5;241;43m=\u001B[39;49m\u001B[43mresponse_conn\u001B[49m\u001B[43m,\u001B[49m\n\u001B[0;32m    799\u001B[0m \u001B[43m    \u001B[49m\u001B[43mpreload_content\u001B[49m\u001B[38;5;241;43m=\u001B[39;49m\u001B[43mpreload_content\u001B[49m\u001B[43m,\u001B[49m\n\u001B[0;32m    800\u001B[0m \u001B[43m    \u001B[49m\u001B[43mdecode_content\u001B[49m\u001B[38;5;241;43m=\u001B[39;49m\u001B[43mdecode_content\u001B[49m\u001B[43m,\u001B[49m\n\u001B[0;32m    801\u001B[0m \u001B[43m    \u001B[49m\u001B[38;5;241;43m*\u001B[39;49m\u001B[38;5;241;43m*\u001B[39;49m\u001B[43mresponse_kw\u001B[49m\u001B[43m,\u001B[49m\n\u001B[0;32m    802\u001B[0m \u001B[43m\u001B[49m\u001B[43m)\u001B[49m\n\u001B[0;32m    804\u001B[0m \u001B[38;5;66;03m# Everything went great!\u001B[39;00m\n\u001B[0;32m    805\u001B[0m clean_exit \u001B[38;5;241m=\u001B[39m \u001B[38;5;28;01mTrue\u001B[39;00m\n",
      "File \u001B[1;32mD:\\PROJECTS\\python\\SCRIPT\\NuumBot\\.venv\\Lib\\site-packages\\urllib3\\connectionpool.py:536\u001B[0m, in \u001B[0;36mHTTPConnectionPool._make_request\u001B[1;34m(self, conn, method, url, body, headers, retries, timeout, chunked, response_conn, preload_content, decode_content, enforce_content_length)\u001B[0m\n\u001B[0;32m    534\u001B[0m \u001B[38;5;66;03m# Receive the response from the server\u001B[39;00m\n\u001B[0;32m    535\u001B[0m \u001B[38;5;28;01mtry\u001B[39;00m:\n\u001B[1;32m--> 536\u001B[0m     response \u001B[38;5;241m=\u001B[39m \u001B[43mconn\u001B[49m\u001B[38;5;241;43m.\u001B[39;49m\u001B[43mgetresponse\u001B[49m\u001B[43m(\u001B[49m\u001B[43m)\u001B[49m\n\u001B[0;32m    537\u001B[0m \u001B[38;5;28;01mexcept\u001B[39;00m (BaseSSLError, \u001B[38;5;167;01mOSError\u001B[39;00m) \u001B[38;5;28;01mas\u001B[39;00m e:\n\u001B[0;32m    538\u001B[0m     \u001B[38;5;28mself\u001B[39m\u001B[38;5;241m.\u001B[39m_raise_timeout(err\u001B[38;5;241m=\u001B[39me, url\u001B[38;5;241m=\u001B[39murl, timeout_value\u001B[38;5;241m=\u001B[39mread_timeout)\n",
      "File \u001B[1;32mD:\\PROJECTS\\python\\SCRIPT\\NuumBot\\.venv\\Lib\\site-packages\\urllib3\\connection.py:507\u001B[0m, in \u001B[0;36mHTTPConnection.getresponse\u001B[1;34m(self)\u001B[0m\n\u001B[0;32m    504\u001B[0m \u001B[38;5;28;01mfrom\u001B[39;00m \u001B[38;5;21;01m.\u001B[39;00m\u001B[38;5;21;01mresponse\u001B[39;00m \u001B[38;5;28;01mimport\u001B[39;00m HTTPResponse\n\u001B[0;32m    506\u001B[0m \u001B[38;5;66;03m# Get the response from http.client.HTTPConnection\u001B[39;00m\n\u001B[1;32m--> 507\u001B[0m httplib_response \u001B[38;5;241m=\u001B[39m \u001B[38;5;28;43msuper\u001B[39;49m\u001B[43m(\u001B[49m\u001B[43m)\u001B[49m\u001B[38;5;241;43m.\u001B[39;49m\u001B[43mgetresponse\u001B[49m\u001B[43m(\u001B[49m\u001B[43m)\u001B[49m\n\u001B[0;32m    509\u001B[0m \u001B[38;5;28;01mtry\u001B[39;00m:\n\u001B[0;32m    510\u001B[0m     assert_header_parsing(httplib_response\u001B[38;5;241m.\u001B[39mmsg)\n",
      "File \u001B[1;32mC:\\Python\\Python311\\Lib\\http\\client.py:1375\u001B[0m, in \u001B[0;36mHTTPConnection.getresponse\u001B[1;34m(self)\u001B[0m\n\u001B[0;32m   1373\u001B[0m \u001B[38;5;28;01mtry\u001B[39;00m:\n\u001B[0;32m   1374\u001B[0m     \u001B[38;5;28;01mtry\u001B[39;00m:\n\u001B[1;32m-> 1375\u001B[0m         \u001B[43mresponse\u001B[49m\u001B[38;5;241;43m.\u001B[39;49m\u001B[43mbegin\u001B[49m\u001B[43m(\u001B[49m\u001B[43m)\u001B[49m\n\u001B[0;32m   1376\u001B[0m     \u001B[38;5;28;01mexcept\u001B[39;00m \u001B[38;5;167;01mConnectionError\u001B[39;00m:\n\u001B[0;32m   1377\u001B[0m         \u001B[38;5;28mself\u001B[39m\u001B[38;5;241m.\u001B[39mclose()\n",
      "File \u001B[1;32mC:\\Python\\Python311\\Lib\\http\\client.py:318\u001B[0m, in \u001B[0;36mHTTPResponse.begin\u001B[1;34m(self)\u001B[0m\n\u001B[0;32m    316\u001B[0m \u001B[38;5;66;03m# read until we get a non-100 response\u001B[39;00m\n\u001B[0;32m    317\u001B[0m \u001B[38;5;28;01mwhile\u001B[39;00m \u001B[38;5;28;01mTrue\u001B[39;00m:\n\u001B[1;32m--> 318\u001B[0m     version, status, reason \u001B[38;5;241m=\u001B[39m \u001B[38;5;28;43mself\u001B[39;49m\u001B[38;5;241;43m.\u001B[39;49m\u001B[43m_read_status\u001B[49m\u001B[43m(\u001B[49m\u001B[43m)\u001B[49m\n\u001B[0;32m    319\u001B[0m     \u001B[38;5;28;01mif\u001B[39;00m status \u001B[38;5;241m!=\u001B[39m CONTINUE:\n\u001B[0;32m    320\u001B[0m         \u001B[38;5;28;01mbreak\u001B[39;00m\n",
      "File \u001B[1;32mC:\\Python\\Python311\\Lib\\http\\client.py:279\u001B[0m, in \u001B[0;36mHTTPResponse._read_status\u001B[1;34m(self)\u001B[0m\n\u001B[0;32m    278\u001B[0m \u001B[38;5;28;01mdef\u001B[39;00m \u001B[38;5;21m_read_status\u001B[39m(\u001B[38;5;28mself\u001B[39m):\n\u001B[1;32m--> 279\u001B[0m     line \u001B[38;5;241m=\u001B[39m \u001B[38;5;28mstr\u001B[39m(\u001B[38;5;28mself\u001B[39m\u001B[38;5;241m.\u001B[39mfp\u001B[38;5;241m.\u001B[39mreadline(_MAXLINE \u001B[38;5;241m+\u001B[39m \u001B[38;5;241m1\u001B[39m), \u001B[38;5;124m\"\u001B[39m\u001B[38;5;124miso-8859-1\u001B[39m\u001B[38;5;124m\"\u001B[39m)\n\u001B[0;32m    280\u001B[0m     \u001B[38;5;28;01mif\u001B[39;00m \u001B[38;5;28mlen\u001B[39m(line) \u001B[38;5;241m>\u001B[39m _MAXLINE:\n\u001B[0;32m    281\u001B[0m         \u001B[38;5;28;01mraise\u001B[39;00m LineTooLong(\u001B[38;5;124m\"\u001B[39m\u001B[38;5;124mstatus line\u001B[39m\u001B[38;5;124m\"\u001B[39m)\n",
      "File \u001B[1;32mC:\\Python\\Python311\\Lib\\socket.py:706\u001B[0m, in \u001B[0;36mSocketIO.readinto\u001B[1;34m(self, b)\u001B[0m\n\u001B[0;32m    704\u001B[0m \u001B[38;5;28;01mwhile\u001B[39;00m \u001B[38;5;28;01mTrue\u001B[39;00m:\n\u001B[0;32m    705\u001B[0m     \u001B[38;5;28;01mtry\u001B[39;00m:\n\u001B[1;32m--> 706\u001B[0m         \u001B[38;5;28;01mreturn\u001B[39;00m \u001B[38;5;28;43mself\u001B[39;49m\u001B[38;5;241;43m.\u001B[39;49m\u001B[43m_sock\u001B[49m\u001B[38;5;241;43m.\u001B[39;49m\u001B[43mrecv_into\u001B[49m\u001B[43m(\u001B[49m\u001B[43mb\u001B[49m\u001B[43m)\u001B[49m\n\u001B[0;32m    707\u001B[0m     \u001B[38;5;28;01mexcept\u001B[39;00m timeout:\n\u001B[0;32m    708\u001B[0m         \u001B[38;5;28mself\u001B[39m\u001B[38;5;241m.\u001B[39m_timeout_occurred \u001B[38;5;241m=\u001B[39m \u001B[38;5;28;01mTrue\u001B[39;00m\n",
      "\u001B[1;31mKeyboardInterrupt\u001B[0m: "
     ]
    }
   ],
   "execution_count": 311
  },
  {
   "metadata": {
    "ExecuteTime": {
     "end_time": "2024-11-17T03:58:32.195526Z",
     "start_time": "2024-11-17T03:58:11.681027Z"
    }
   },
   "cell_type": "code",
   "source": [
    "stikers = driver.find_elements(By.XPATH, \"//div[contains(@class, 'sticker ng-star-inserted')]\")\n",
    "ss = []\n",
    "i = 0\n",
    "for s in stikers:\n",
    "    stiker = s.find_elements(By.CSS_SELECTOR, '*')\n",
    "    if stiker:\n",
    "        if stiker[0].get_attribute('src'):\n",
    "            ss.append(stiker[0])\n",
    "    i += 1\n",
    "    print(i)\n",
    "    \n",
    "    \n",
    "#ss = [s[0] for s in ss if s]\n",
    "sss = random.choice(list(set(ss)))\n",
    "#print(len(ss), len(set(ss)))\n",
    "img_stiker(sss)"
   ],
   "id": "650f62eb3712af97",
   "outputs": [
    {
     "name": "stdout",
     "output_type": "stream",
     "text": [
      "1\n",
      "2\n",
      "3\n",
      "4\n",
      "5\n",
      "6\n",
      "7\n",
      "8\n",
      "9\n",
      "10\n",
      "11\n",
      "12\n",
      "13\n",
      "14\n",
      "15\n",
      "16\n",
      "17\n",
      "18\n",
      "19\n",
      "20\n",
      "21\n",
      "22\n",
      "23\n",
      "24\n",
      "25\n",
      "26\n",
      "27\n",
      "28\n",
      "29\n",
      "30\n",
      "31\n",
      "32\n",
      "33\n",
      "34\n",
      "35\n",
      "36\n",
      "37\n",
      "38\n",
      "39\n",
      "40\n",
      "41\n",
      "42\n",
      "43\n",
      "44\n",
      "45\n",
      "46\n",
      "47\n",
      "48\n",
      "49\n",
      "50\n",
      "51\n",
      "52\n",
      "53\n",
      "54\n",
      "55\n",
      "56\n",
      "57\n",
      "58\n",
      "59\n",
      "60\n",
      "61\n",
      "62\n",
      "63\n",
      "64\n",
      "65\n",
      "66\n",
      "67\n",
      "68\n",
      "69\n",
      "70\n",
      "71\n",
      "72\n",
      "73\n",
      "74\n",
      "75\n",
      "76\n",
      "77\n",
      "78\n",
      "79\n",
      "80\n",
      "81\n",
      "82\n",
      "83\n",
      "84\n",
      "85\n",
      "86\n",
      "87\n",
      "88\n",
      "89\n",
      "90\n",
      "91\n",
      "92\n",
      "93\n",
      "94\n",
      "95\n",
      "96\n",
      "97\n",
      "98\n",
      "99\n",
      "100\n",
      "101\n",
      "102\n",
      "103\n",
      "104\n",
      "105\n",
      "106\n",
      "107\n",
      "108\n",
      "109\n",
      "110\n",
      "111\n",
      "112\n",
      "113\n",
      "114\n",
      "115\n",
      "116\n",
      "117\n",
      "118\n",
      "119\n",
      "120\n",
      "121\n",
      "122\n",
      "123\n",
      "124\n",
      "125\n",
      "126\n",
      "127\n",
      "128\n",
      "129\n",
      "130\n",
      "131\n",
      "132\n",
      "133\n",
      "134\n",
      "135\n",
      "136\n",
      "137\n",
      "138\n",
      "139\n",
      "140\n",
      "141\n",
      "142\n",
      "143\n",
      "144\n",
      "145\n",
      "146\n",
      "147\n",
      "148\n",
      "149\n",
      "150\n",
      "151\n",
      "152\n",
      "153\n",
      "154\n",
      "155\n",
      "156\n",
      "157\n",
      "158\n",
      "159\n",
      "160\n",
      "161\n",
      "162\n",
      "163\n",
      "164\n",
      "165\n",
      "166\n",
      "167\n",
      "168\n",
      "169\n",
      "170\n",
      "171\n",
      "172\n",
      "173\n",
      "174\n",
      "175\n",
      "176\n",
      "177\n",
      "178\n",
      "179\n",
      "180\n",
      "181\n",
      "182\n",
      "183\n",
      "184\n",
      "185\n",
      "186\n",
      "187\n",
      "188\n",
      "189\n",
      "190\n",
      "191\n",
      "192\n",
      "193\n",
      "194\n",
      "195\n",
      "196\n",
      "197\n",
      "198\n",
      "199\n",
      "200\n",
      "201\n",
      "202\n",
      "203\n",
      "204\n",
      "205\n",
      "206\n",
      "207\n",
      "208\n",
      "209\n",
      "210\n",
      "211\n",
      "212\n",
      "213\n",
      "214\n",
      "215\n",
      "216\n",
      "217\n",
      "218\n",
      "219\n",
      "220\n",
      "221\n",
      "222\n",
      "223\n",
      "224\n",
      "225\n",
      "226\n",
      "227\n",
      "228\n",
      "229\n",
      "230\n",
      "231\n",
      "232\n",
      "233\n",
      "234\n",
      "235\n",
      "236\n",
      "237\n",
      "238\n",
      "239\n",
      "240\n",
      "241\n",
      "242\n",
      "243\n",
      "244\n",
      "245\n",
      "246\n",
      "247\n",
      "248\n",
      "249\n",
      "250\n",
      "251\n",
      "252\n",
      "253\n",
      "254\n",
      "255\n",
      "256\n",
      "257\n",
      "258\n",
      "259\n",
      "260\n",
      "261\n",
      "262\n",
      "263\n",
      "264\n",
      "265\n",
      "266\n",
      "267\n",
      "268\n",
      "269\n",
      "270\n",
      "271\n",
      "272\n",
      "273\n",
      "274\n",
      "275\n",
      "276\n",
      "277\n",
      "278\n",
      "279\n",
      "280\n",
      "281\n",
      "282\n",
      "283\n",
      "284\n",
      "285\n"
     ]
    },
    {
     "data": {
      "text/plain": [
       "<PIL.WebPImagePlugin.WebPImageFile image mode=RGBA size=124x124>"
      ],
      "image/png": "[encoded data removed]"
     },
     "execution_count": 352,
     "metadata": {},
     "output_type": "execute_result"
    }
   ],
   "execution_count": 352
  },
  {
   "metadata": {
    "ExecuteTime": {
     "end_time": "2024-11-17T03:56:58.300232Z",
     "start_time": "2024-11-17T03:56:58.284119Z"
    }
   },
   "cell_type": "code",
   "source": [
    "sss = random.choice(list(set(ss)))\n",
    "sss.get_attribute('src')"
   ],
   "id": "cbe442b7060830b",
   "outputs": [],
   "execution_count": 351
  },
  {
   "metadata": {},
   "cell_type": "code",
   "outputs": [],
   "execution_count": null,
   "source": "sss.",
   "id": "1be0cf744e1d32f7"
  },
  {
   "metadata": {
    "ExecuteTime": {
     "end_time": "2024-11-17T03:56:50.146407Z",
     "start_time": "2024-11-17T03:56:50.140480Z"
    }
   },
   "cell_type": "code",
   "source": "print(len(ss), len(set(ss)))",
   "id": "6bcbcbe7bfdfe8e6",
   "outputs": [
    {
     "name": "stdout",
     "output_type": "stream",
     "text": [
      "285 285\n"
     ]
    }
   ],
   "execution_count": 347
  }
 ],
 "metadata": {
  "kernelspec": {
   "display_name": "Python 3",
   "language": "python",
   "name": "python3"
  },
  "language_info": {
   "codemirror_mode": {
    "name": "ipython",
    "version": 2
   },
   "file_extension": ".py",
   "mimetype": "text/x-python",
   "name": "python",
   "nbconvert_exporter": "python",
   "pygments_lexer": "ipython2",
   "version": "2.7.6"
  }
 },
 "nbformat": 4,
 "nbformat_minor": 5
}
