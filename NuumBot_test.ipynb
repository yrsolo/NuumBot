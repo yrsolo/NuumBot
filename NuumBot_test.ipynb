{
 "cells": [
  {
   "metadata": {
    "ExecuteTime": {
     "end_time": "2024-11-19T15:37:05.801516Z",
     "start_time": "2024-11-19T15:37:04.272757Z"
    }
   },
   "cell_type": "code",
   "source": [
    "import pandas as pd\n",
    "from selenium import webdriver\n",
    "from selenium.webdriver.common.by import By\n",
    "import pickle\n",
    "import time\n",
    "import random\n",
    "\n",
    "from core.nuum import NuumActions\n",
    "from service.gpt import AsyncOpenAIChatAgent\n",
    "\n",
    "from config import OPENAI, PROXIES, NUUM, POLINA_CLIPS, CLIPS, cookie_path, STICKERS_PACKS, STICKERS\n",
    "\n",
    "from service.browser import Browser\n"
   ],
   "id": "21a11dc0e776826e",
   "outputs": [],
   "execution_count": 1
  },
  {
   "metadata": {
    "ExecuteTime": {
     "end_time": "2024-11-19T15:37:09.138959Z",
     "start_time": "2024-11-19T15:37:09.120060Z"
    }
   },
   "cell_type": "code",
   "source": [
    "import random\n",
    "import time\n",
    "\n",
    "from selenium.webdriver.common.by import By\n",
    "import pandas as pd\n",
    "\n",
    "from service.browser import Browser\n",
    "from service.gpt import AsyncOpenAIChatAgent\n",
    "from config import OPENAI, PROXIES, NUUM, POLINA_CLIPS, CLIPS, cookie_path, STICKERS_PACKS, STICKERS\n",
    "\n",
    "\n",
    "\n",
    "def img_sticker(s):\n",
    "    s.get_attribute('src')\n",
    "    # load sticker from url\n",
    "    # example: 'https://static.nuum.ru/sticker-packs/seal/webp/medium/seal-14.webp'\n",
    "    import requests\n",
    "    import io\n",
    "    from PIL import Image\n",
    "\n",
    "    url = s.get_attribute('src')\n",
    "    response = requests.get(url)\n",
    "    img = Image.open(io.BytesIO(response.content))\n",
    "\n",
    "    return img\n",
    "\n",
    "\n",
    "def rnd_sleep(m=1, d=1.5):\n",
    "    # normal distribution\n",
    "    sleep = random.normalvariate(m, d)\n",
    "    # print(sleep)\n",
    "    time.sleep(max(.5, sleep))\n",
    "\n",
    "\n",
    "class Elm:\n",
    "    def __init__(self, el):\n",
    "        self.class_ = el.get_attribute('class')\n",
    "        self.text = el.text\n",
    "        self.tag = el.tag_name\n",
    "        self.el = el\n",
    "        self.src = el.get_attribute('src')\n",
    "        self.location = el.location\n",
    "        self.link = el.get_attribute('href')\n",
    "\n",
    "    def click(self):\n",
    "        self.el.click()\n",
    "\n",
    "    def get_attribute(self, attr):\n",
    "        return self.el.get_attribute(attr)\n",
    "\n",
    "\n",
    "class NuumBaseAction:\n",
    "    def __init__(self, driver):\n",
    "        if isinstance(driver, Browser):\n",
    "            driver = driver.driver\n",
    "        self.driver = driver\n",
    "        self.gpt = AsyncOpenAIChatAgent(OPENAI, proxies=PROXIES)\n",
    "        self.tmp = None\n",
    "\n",
    "    def find_description(self):\n",
    "        description_element = self.driver.find_element(By.XPATH, \"//app-text-cropper//span[contains(@class, 'text--full')]\")\n",
    "        description_text = self.driver.execute_script(\"return arguments[0].textContent;\", description_element)\n",
    "        return description_text\n",
    "\n",
    "    def open(self, url):\n",
    "        self.driver.get(url)\n",
    "        self.driver.implicitly_wait(5)\n",
    "\n",
    "    def like(self, click_liked=False):\n",
    "        like_button = self.find_like_button()\n",
    "        if like_button:\n",
    "            active = 'active' in like_button.class_\n",
    "            if not active or click_liked:\n",
    "                like_button.click()\n",
    "                return True\n",
    "        return False\n",
    "\n",
    "    def subscribe(self):\n",
    "        sbscrs = self.driver.find_elements(By.XPATH, \"//span[contains(text(), 'Подписаться')]\")\n",
    "        sbscrs = [Elm(s) for s in sbscrs]\n",
    "        sbscrs = [s for s in sbscrs if self.in_screen(s)]\n",
    "        if sbscrs:\n",
    "            sbscrs[0].click()\n",
    "            return True\n",
    "        return False\n",
    "\n",
    "    def send_sticker(self, only_safe=True):\n",
    "        # press smile\n",
    "        element = self.driver.find_elements(By.CLASS_NAME, 'comment-input__smile-button')\n",
    "        if element:\n",
    "            element[0].click()\n",
    "        # select sticker tab\n",
    "        element = self.driver.find_elements(By.XPATH, \"//span[contains(text(), 'Стикеры')]\")\n",
    "        if element:\n",
    "            element[0].click()\n",
    "        # select sticker pack\n",
    "        packs = self.driver.find_elements(By.XPATH, \"//img[contains(@class, 'smiles__navigation-sticker')]\")\n",
    "        if packs:\n",
    "            if only_safe:\n",
    "                packs = [p for p in packs if p.get_attribute('src').split('/')[-2] in STICKERS_PACKS]\n",
    "            pack = random.choice(packs)\n",
    "            pack.click()\n",
    "            rnd_sleep()\n",
    "        # select sticker\n",
    "        stickers = []\n",
    "        smiles_content = self.driver.find_elements(By.XPATH, \"//div[contains(@class, 'smiles__content')]\")\n",
    "        if smiles_content:\n",
    "            stickers = smiles_content[0].find_elements(By.XPATH, \"//img[contains(@class, 'sticker-img-loaded')]\")\n",
    "            # stickers = [Elm(s) for s in stickers]\n",
    "            # stickers = [s for s in stickers if s.is_displayed()]\n",
    "\n",
    "            if only_safe:\n",
    "                stickers = [s for s in stickers if s.get_attribute('src').split('/')[-1] in STICKERS]\n",
    "        # send sticker\n",
    "        # tmp.append(stickers)\n",
    "        if stickers:\n",
    "            sticker = random.choice(stickers)\n",
    "            # sticker.click()\n",
    "            self.driver.execute_script(\"arguments[0].click();\", sticker)\n",
    "            return True\n",
    "        return False\n",
    "\n",
    "    def send_comment(self, text):\n",
    "        textarea = self.driver.find_elements(By.NAME, 'commentInput')\n",
    "        if textarea:\n",
    "            textarea = textarea[0]\n",
    "            # textarea[0].send_keys(text)\n",
    "            self.driver.execute_script(\"\"\"\n",
    "    var textarea = arguments[0];\n",
    "    console.log('Тип textarea:', textarea.constructor.name);\n",
    "    console.log('Имеет dispatchEvent:', typeof textarea.dispatchEvent);\n",
    "\n",
    "    textarea.value = arguments[1];\n",
    "\n",
    "    var event = document.createEvent('Event');\n",
    "    event.initEvent('input', true, true);\n",
    "    textarea.dispatchEvent(event);\n",
    "\"\"\", textarea, text)\n",
    "        button = self.driver.find_elements(By.XPATH, \"//button[contains(@class, 'input-form__send-button')]\")\n",
    "        if button:\n",
    "            button[0].click()\n",
    "\n",
    "    def get_clips_from_page(self):\n",
    "        elements = self.driver.find_elements(By.XPATH, \"//a[contains(@href, '/channel/') and contains(@href, '/clips/')]\")\n",
    "        user_clips = []\n",
    "        for element in elements:\n",
    "            link = element.get_attribute('href')\n",
    "            user_clips.append(link)\n",
    "        return user_clips\n",
    "\n",
    "    def generate_comment(self, description):\n",
    "        prompt = f'Надо написать очень короткий комментарий к тик-ток видео у которого такое описание: !!!\" {description}\"!!! позитиыный, но не банальный и со смайликами'\n",
    "        return self.gpt.chat(prompt)\n",
    "\n",
    "    def find_like_button(self):\n",
    "        like_buttons = self.driver.find_elements(By.XPATH, \"//button[contains(@class, 'reactions__button')]\")\n",
    "        like_buttons = [Elm(b) for b in like_buttons]\n",
    "        like_buttons = [b for b in like_buttons if self.in_screen(b)]\n",
    "        if like_buttons:\n",
    "            return like_buttons[0]\n",
    "        return None\n",
    "\n",
    "    def is_liked(self, default=True):\n",
    "        like_button = self.find_like_button()\n",
    "        if like_button:\n",
    "            return 'active' in like_button.class_\n",
    "        return default\n",
    "\n",
    "    def next(self):\n",
    "        next_button = self.driver.find_elements(By.XPATH, \"//button[contains(@class, 'large secondary-btn only-icon')]\")\n",
    "        if next_button:\n",
    "            next_button[-1].click()\n",
    "\n",
    "    def in_screen(self, el):\n",
    "        x = el.location['x']\n",
    "        y = el.location['y']\n",
    "        return y > 0 and x < 1500\n",
    "\n",
    "    def find_by_text(self, text, el='span'):\n",
    "        elements = self.driver.find_elements(By.XPATH, f\"//{el}[contains(text(), '{text}')]\")\n",
    "        if elements:\n",
    "            return elements[0]\n",
    "        return None\n",
    "\n",
    "    def user_name(self):\n",
    "        f = 'shorts-bottom-panel-wrapper'\n",
    "        user_names = self.driver.find_elements(By.XPATH, f\"//div[contains(@class, '{f}')]\")\n",
    "        user_names = [Elm(s) for s in user_names]\n",
    "        user_names = [s for s in user_names if self.in_screen(s)]\n",
    "        if user_names:\n",
    "            return user_names[0].text.split('\\n')[0]\n",
    "        return None\n",
    "\n",
    "\n",
    "class NuumActions(NuumBaseAction):\n",
    "    def __init__(self, driver):\n",
    "        super().__init__(driver)\n",
    "\n",
    "    def open_rec(self):\n",
    "        self.open(CLIPS)\n",
    "        rnd_sleep()\n",
    "        self.driver.refresh()\n",
    "        rnd_sleep(1)\n",
    "        clips = self.driver.find_elements(By.XPATH, \"//a[contains(@href, '/clips/')]\")\n",
    "        if clips:\n",
    "            clips[0].click()\n",
    "\n",
    "    def open_subs(self):\n",
    "        self.open(CLIPS)\n",
    "        rnd_sleep()\n",
    "        self.driver.refresh()\n",
    "        rnd_sleep(1)\n",
    "        self.find_by_text('Подписки').click()\n",
    "        rnd_sleep()\n",
    "        clips = self.driver.find_elements(By.XPATH, \"//a[contains(@href, '/clips/')]\")\n",
    "        if clips:\n",
    "            clips[0].click()\n",
    "\n",
    "    def like_sticker_subscribe(self, like_ratio=1, sticker_ratio=1, subscribe_ratio=1):\n",
    "        if not self.is_liked():\n",
    "            like = sticker = subscribe = False\n",
    "            if sticker_ratio >= random.random():\n",
    "                sticker = self.send_sticker()\n",
    "                rnd_sleep()\n",
    "            if like_ratio >= random.random():\n",
    "                like = self.like()\n",
    "                rnd_sleep()\n",
    "            if subscribe_ratio >= random.random():\n",
    "                subscribe = self.subscribe()\n",
    "\n",
    "            if sticker or like or subscribe:\n",
    "                name = self.user_name()\n",
    "                datetime = pd.Timestamp.now()\n",
    "                return {'name': name, 'sticker': sticker, 'like': like, 'subscribe': subscribe, 'time': datetime}\n",
    "        return None\n"
   ],
   "id": "99ada5b8dde3c17b",
   "outputs": [],
   "execution_count": 2
  },
  {
   "metadata": {},
   "cell_type": "code",
   "source": [
    "import pandas as pd\n",
    "import random\n",
    "import matplotlib.pyplot as plt\n",
    "import matplotlib.dates as mdates\n",
    "from IPython.display import clear_output\n",
    "\n",
    "\n",
    "def generate_test_data():\n",
    "    \"\"\"\n",
    "    Generates test data for the activity log.\n",
    "    \"\"\"\n",
    "\n",
    "    def random_like():\n",
    "        return random.choice([True, False])\n",
    "\n",
    "    test_log = [\n",
    "        [\n",
    "            {'name': 'test2', 'like': random_like(), 'sticker': random_like(), 'subscribe': random_like(), 'mode': 'rec',\n",
    "             'time': pd.Timestamp.now() + pd.Timedelta(minutes=random.randint(-300, 300))},\n",
    "            {'name': 'test2', 'like': random_like(), 'sticker': random_like(), 'subscribe': random_like(), 'mode': 'subs',\n",
    "             'time': pd.Timestamp.now() + pd.Timedelta(minutes=random.randint(-300, 300))}\n",
    "        ]\n",
    "        for _ in range(300)\n",
    "    ]\n",
    "    return pd.DataFrame(sum(test_log, []))\n",
    "\n",
    "\n",
    "def plot_activity_logs(log: pd.DataFrame, window_size: int = 5):\n",
    "    \"\"\"\n",
    "    Plots activity logs for likes, subscriptions, and stickers.\n",
    "\n",
    "    Parameters:\n",
    "    log (pd.DataFrame): DataFrame containing the activity log with columns 'time', 'like', 'subscribe', and 'sticker'.\n",
    "    window_size (int): Size of the rolling window in minutes (default is 5).\n",
    "    \"\"\"\n",
    "    log = log.copy()\n",
    "    log['minute'] = log['time'].dt.floor('min')  # Round to nearest minute\n",
    "\n",
    "    def prepare_data(log, activity_column, window_size=window_size):\n",
    "        actions_per_minute = log.groupby('minute')[activity_column].sum().reset_index(name='actions')\n",
    "        # Calculate rolling sum\n",
    "        actions_per_minute['rolling_sum'] = actions_per_minute['actions'].rolling(window=window_size, min_periods=1).sum()\n",
    "\n",
    "        return actions_per_minute\n",
    "\n",
    "    # Prepare data for each activity type\n",
    "    like_data = prepare_data(log, 'like')\n",
    "    subscribe_data = prepare_data(log, 'subscribe')\n",
    "    sticker_data = prepare_data(log, 'sticker')\n",
    "\n",
    "    # Plot each activity type\n",
    "    plt.figure(figsize=(12, 6))\n",
    "    for data, label, color in zip([like_data, subscribe_data, sticker_data],\n",
    "                                  ['Likes', 'Subscriptions', 'Stickers'],\n",
    "                                  ['blue', 'green', 'orange']):\n",
    "        if len(data) > 0:\n",
    "            plt.plot(data['minute'], data['rolling_sum'], label=f'{label}', lw=2, color=color)\n",
    "\n",
    "    # Add limit line\n",
    "    plt.axhline(y=5 * window_size, color='r', linestyle='--', label=f'5 actions / min)')\n",
    "\n",
    "    # Format x-axis as hours and minutes\n",
    "    plt.gca().xaxis.set_major_formatter(mdates.DateFormatter('%H:%M'))\n",
    "    plt.gca().xaxis.set_major_locator(mdates.AutoDateLocator())\n",
    "\n",
    "    plt.xlabel('Time (Hours:Minutes)')\n",
    "    plt.ylabel('Number of Actions')\n",
    "    plt.title(f'Activity Logs Over Time (Rolling Window: {window_size} Minutes')\n",
    "    plt.legend()\n",
    "    plt.grid(True)\n",
    "    plt.show()\n",
    "\n",
    "\n",
    "def viz_log(log, i, N, c, current_mode='rec'):\n",
    "    mode = {'rec': 'Рекоммендации', 'subs': 'Подписчики'}\n",
    "    clear_output()\n",
    "    for m, name in mode.items():\n",
    "        df = log[log['mode'] == m]\n",
    "        all = len(df)\n",
    "        like = df['like'].astype(int).sum()\n",
    "        sticker = df['sticker'].astype(int).sum()\n",
    "        subs = df['subscribe'].astype(int).sum()\n",
    "        if current_mode == m:\n",
    "            print(name, f' цикл {c}: ({i}/{N})')\n",
    "        else:\n",
    "            print(name)\n",
    "        print(f'Всего: {all}, лайкнул: {like}, стикер: {sticker}, подписался:{subs}')\n",
    "        print(', '.join(df.tail(20)['name'].tolist()))\n",
    "    plot_activity_logs(log, window_size=5)\n",
    "\n",
    "\n",
    "if __name__ == '__main__':\n",
    "    test_log = generate_test_data()\n",
    "    viz_log(test_log, 2, 10, 4)\n"
   ],
   "id": "1ccff77ebe564da9",
   "execution_count": 3,
   "outputs": [
    {
     "name": "stdout",
     "output_type": "stream",
     "text": [
      "Рекоммендации  цикл 4: (2/10)\n",
      "Всего: 300, лайкнул: 168, стикер: 144, подписался:157\n",
      "test2, test2, test2, test2, test2, test2, test2, test2, test2, test2, test2, test2, test2, test2, test2, test2, test2, test2, test2, test2\n",
      "Подписчики\n",
      "Всего: 300, лайкнул: 148, стикер: 151, подписался:154\n",
      "test2, test2, test2, test2, test2, test2, test2, test2, test2, test2, test2, test2, test2, test2, test2, test2, test2, test2, test2, test2\n"
     ]
    },
    {
     "data": {
      "text/plain": [
       "<Figure size 1200x600 with 1 Axes>"
      ],
      "image/png": "[encoded data removed]"
     },
     "metadata": {},
     "output_type": "display_data"
    }
   ]
  },
  {
   "metadata": {
    "ExecuteTime": {
     "end_time": "2024-11-19T15:38:19.797884Z",
     "start_time": "2024-11-19T15:37:19.468916Z"
    }
   },
   "cell_type": "code",
   "source": [
    "browser = Browser()\n",
    "nuum = NuumActions(browser)\n"
   ],
   "id": "e8ecd6ffc27a668b",
   "outputs": [],
   "execution_count": 4
  },
  {
   "metadata": {},
   "cell_type": "code",
   "outputs": [],
   "execution_count": null,
   "source": "nuum = NuumActions(driver)\n",
   "id": "5a1e6c1fd9232cce"
  },
  {
   "metadata": {},
   "cell_type": "code",
   "outputs": [],
   "execution_count": null,
   "source": [
    "secondary-btn small only-icon\n",
    "secondary-btn small only-icon\n",
    "icons-bell-filled\n",
    "icons-bell"
   ],
   "id": "cf1aa139472863a9"
  },
  {
   "metadata": {
    "ExecuteTime": {
     "end_time": "2024-11-19T15:54:03.822275Z",
     "start_time": "2024-11-19T15:54:03.806618Z"
    }
   },
   "cell_type": "code",
   "source": [
    "btns = nuum.driver.find_elements(By.XPATH, \"//svg[contains(@class, 'ng-star-inserted')]\")\n",
    "#btns = [b.find_elements(By.XPATH, \"//svg[contains(@class, 'ng-star-inserted')]\") for b in btns]\n",
    "#btns[5].click()\n",
    "len(btns)"
   ],
   "id": "91f722448bee719f",
   "outputs": [
    {
     "data": {
      "text/plain": [
       "0"
      ]
     },
     "execution_count": 25,
     "metadata": {},
     "output_type": "execute_result"
    }
   ],
   "execution_count": 25
  },
  {
   "metadata": {
    "ExecuteTime": {
     "end_time": "2024-11-19T16:18:43.395252Z",
     "start_time": "2024-11-19T16:18:42.886557Z"
    }
   },
   "cell_type": "code",
   "source": [
    "btns = nuum.driver.find_elements(By.XPATH, \"//button[contains(@class, 'secondary-btn small only-icon')]\")\n",
    "click = 0\n",
    "for i,b in enumerate(btns):\n",
    "    svg = b.find_elements(By.CLASS_NAME, 'ng-star-inserted')\n",
    "    fill = False\n",
    "    if svg:\n",
    "        fill = 'icons-bell-filled' in svg[0].get_attribute('data-inlinesvg')\n",
    "    if fill:\n",
    "        b.click()\n",
    "        #nuum.driver.execute_script(\"arguments[0].click();\", b)\n",
    "        click += 1\n",
    "    print(i,'/', len(btns), 'clicked:', click,'                ', end='\\r')\n",
    "    \n"
   ],
   "id": "99856260c54b0381",
   "outputs": [
    {
     "name": "stdout",
     "output_type": "stream",
     "text": [
      "37 / 38 clicked: 1                 \r"
     ]
    }
   ],
   "execution_count": 71
  },
  {
   "metadata": {
    "ExecuteTime": {
     "end_time": "2024-11-19T16:11:29.908159Z",
     "start_time": "2024-11-19T16:11:29.897114Z"
    }
   },
   "cell_type": "code",
   "source": "btns[0].tag_name",
   "id": "194496e6b75fa2c7",
   "outputs": [
    {
     "data": {
      "text/plain": [
       "'button'"
      ]
     },
     "execution_count": 61,
     "metadata": {},
     "output_type": "execute_result"
    }
   ],
   "execution_count": 61
  },
  {
   "metadata": {
    "ExecuteTime": {
     "end_time": "2024-11-19T16:03:34.493289Z",
     "start_time": "2024-11-19T16:03:29.958596Z"
    }
   },
   "cell_type": "code",
   "source": [
    "for b in btns:\n",
    "    b.click()"
   ],
   "id": "ce659b579e98d6b9",
   "outputs": [],
   "execution_count": 55
  },
  {
   "metadata": {
    "ExecuteTime": {
     "end_time": "2024-11-19T16:02:49.761331Z",
     "start_time": "2024-11-19T16:02:49.739674Z"
    }
   },
   "cell_type": "code",
   "source": [
    "#btns[0].\n",
    "#btns[0].find_elements(By.CLASS_NAME, 'ng-star-inserted')[0].get_attribute('class')\n",
    "btns[10].find_element(By.CLASS_NAME, 'ng-star-inserted').get_attribute('data-inlinesvg') == 'icons-bell-filled'"
   ],
   "id": "68a9c7cc47bebb52",
   "outputs": [
    {
     "data": {
      "text/plain": [
       "True"
      ]
     },
     "execution_count": 53,
     "metadata": {},
     "output_type": "execute_result"
    }
   ],
   "execution_count": 53
  },
  {
   "metadata": {
    "ExecuteTime": {
     "end_time": "2024-11-19T15:52:04.672580Z",
     "start_time": "2024-11-19T15:52:04.667499Z"
    }
   },
   "cell_type": "code",
   "source": "btns",
   "id": "a6b215fd137b490c",
   "outputs": [
    {
     "data": {
      "text/plain": [
       "[[],\n",
       " [],\n",
       " [],\n",
       " [],\n",
       " [],\n",
       " [],\n",
       " [],\n",
       " [],\n",
       " [],\n",
       " [],\n",
       " [],\n",
       " [],\n",
       " [],\n",
       " [],\n",
       " [],\n",
       " [],\n",
       " [],\n",
       " [],\n",
       " [],\n",
       " [],\n",
       " [],\n",
       " [],\n",
       " [],\n",
       " [],\n",
       " [],\n",
       " [],\n",
       " [],\n",
       " [],\n",
       " [],\n",
       " [],\n",
       " [],\n",
       " [],\n",
       " [],\n",
       " [],\n",
       " [],\n",
       " [],\n",
       " [],\n",
       " []]"
      ]
     },
     "execution_count": 22,
     "metadata": {},
     "output_type": "execute_result"
    }
   ],
   "execution_count": 22
  },
  {
   "metadata": {
    "ExecuteTime": {
     "end_time": "2024-11-19T15:51:56.145062Z",
     "start_time": "2024-11-19T15:51:56.133032Z"
    }
   },
   "cell_type": "code",
   "source": "btns[1][0].get_attribute('data-inlinesvg')",
   "id": "ab7518207aab1494",
   "outputs": [
    {
     "ename": "IndexError",
     "evalue": "list index out of range",
     "output_type": "error",
     "traceback": [
      "\u001B[1;31m---------------------------------------------------------------------------\u001B[0m",
      "\u001B[1;31mIndexError\u001B[0m                                Traceback (most recent call last)",
      "Cell \u001B[1;32mIn[21], line 1\u001B[0m\n\u001B[1;32m----> 1\u001B[0m \u001B[43mbtns\u001B[49m\u001B[43m[\u001B[49m\u001B[38;5;241;43m1\u001B[39;49m\u001B[43m]\u001B[49m\u001B[43m[\u001B[49m\u001B[38;5;241;43m0\u001B[39;49m\u001B[43m]\u001B[49m\u001B[38;5;241m.\u001B[39mget_attribute(\u001B[38;5;124m'\u001B[39m\u001B[38;5;124mdata-inlinesvg\u001B[39m\u001B[38;5;124m'\u001B[39m)\n",
      "\u001B[1;31mIndexError\u001B[0m: list index out of range"
     ]
    }
   ],
   "execution_count": 21
  },
  {
   "metadata": {
    "ExecuteTime": {
     "end_time": "2024-11-18T20:02:49.590812Z",
     "start_time": "2024-11-18T20:02:49.585755Z"
    }
   },
   "cell_type": "code",
   "source": [
    "\"\"\"Функция запуска бота в цикле\"\"\"\n",
    "\n",
    "def run_bot(nuum, N, skip_ratio, mode='rec', log=None, c=0, subscribe_ratio=0, pause=1):   \n",
    "    \"\"\" Запуск бота в цикле\n",
    "    \n",
    "    Args:\n",
    "        nuum: NuumActions\n",
    "        N: int - количество клипов\n",
    "        skip_ratio: float - вероятность пропуска клипа\n",
    "        mode: str - 'rec' - рекомендации, 'subs' - подписки\n",
    "        log: pd.DataFrame - лог\n",
    "        c: int - номер цикла\n",
    "        subscribe_ratio: float - вероятность подписки на канал\n",
    "    \"\"\"\n",
    "    if log is None:\n",
    "        log = pd.DataFrame(columns=['name', 'like', 'sticker', 'subscribe', 'mode', 'time'])\n",
    "    \n",
    "    open_page = {'rec': nuum.open_rec, 'subs': nuum.open_subs}\n",
    "    open_page[mode]()   \n",
    "    i = 0\n",
    "    while i < N:        \n",
    "        if skip_ratio < random.random():\n",
    "            rnd_sleep()\n",
    "            result = nuum.like_sticker_subscribe(\n",
    "                like_ratio = 1, \n",
    "                sticker_ratio = 1, \n",
    "                subscribe_ratio = subscribe_ratio\n",
    "            )\n",
    "            if result:\n",
    "                result['mode'] = mode\n",
    "                new_record = pd.DataFrame([result])\n",
    "                log.loc[len(log)] = new_record.loc[0]\n",
    "                if log.time.dtype != '<M8[ns]':\n",
    "                    log.time = pd.to_datetime(log.time)\n",
    "                viz_log(log, i+1, N, c, mode)\n",
    "                i += 1\n",
    "                \n",
    "            rnd_sleep(pause,3)\n",
    "        \n",
    "        if nuum.find_by_text('Комментарии') is None:\n",
    "            break\n",
    "                \n",
    "        rnd_sleep(.5)\n",
    "        nuum.next()\n",
    "        "
   ],
   "id": "79640e26777a571a",
   "outputs": [],
   "execution_count": 61
  },
  {
   "metadata": {},
   "cell_type": "code",
   "source": [
    "\"\"\"\n",
    "Запуск бота в цикле \n",
    "Бот будет просматривать ленту рекомендаций и подписок поочередно\n",
    "\"\"\"\n",
    "\n",
    "N = 10 # сколько клипов смотрится в каждом цикле\n",
    "skip_ratio = 0.5 # вероятность пропуска клипа\n",
    "subscribe_ratio = 0.5 # вероятность подписки на канал\n",
    "pause = 1 # пауза между клипами\n",
    "\n",
    "nuum = NuumActions(browser)\n",
    "nuum.driver.implicitly_wait(2)\n",
    "c = 0\n",
    "log = pd.DataFrame(columns=['name', 'like', 'sticker', 'subscribe', 'mode', 'time'])\n",
    "while True:\n",
    "    c += 1\n",
    "    for mode in [ 'rec', 'subs',]:\n",
    "        try:            \n",
    "            print(f'Start {mode}')\n",
    "            rnd_sleep(3)\n",
    "            run_bot(nuum, N, skip_ratio, mode=mode, log=log, c=c, subscribe_ratio=subscribe_ratio, pause=pause)\n",
    "            print()\n",
    "            \n",
    "        except Exception as e:\n",
    "            print(e)\n",
    "            rnd_sleep(5)\n",
    "    "
   ],
   "id": "edc679a5023b7314",
   "execution_count": 59,
   "outputs": [
    {
     "name": "stdout",
     "output_type": "stream",
     "text": [
      "Рекоммендации\n",
      "Всего: 1, лайкнул: 1, стикер: 0, подписался:0\n",
      "siuzannakamenskaya\n",
      "Подписчики  цикл 4: (46/50)\n",
      "Всего: 2, лайкнул: 2, стикер: 1, подписался:0\n",
      "Keepkat2907, Wally_nails\n"
     ]
    },
    {
     "data": {
      "text/plain": [
       "<Figure size 1200x600 with 1 Axes>"
      ],
      "image/png": "[encoded data removed]"
     },
     "metadata": {},
     "output_type": "display_data"
    },
    {
     "name": "stdout",
     "output_type": "stream",
     "text": [
      "\n",
      "Start rec\n"
     ]
    },
    {
     "ename": "KeyboardInterrupt",
     "evalue": "",
     "output_type": "error",
     "traceback": [
      "\u001B[1;31m---------------------------------------------------------------------------\u001B[0m",
      "\u001B[1;31mKeyboardInterrupt\u001B[0m                         Traceback (most recent call last)",
      "Cell \u001B[1;32mIn[59], line 16\u001B[0m\n\u001B[0;32m     13\u001B[0m     rnd_sleep(\u001B[38;5;241m3\u001B[39m)\n\u001B[0;32m     14\u001B[0m     \u001B[38;5;66;03m#nuum.open(NUUM)\u001B[39;00m\n\u001B[0;32m     15\u001B[0m     \u001B[38;5;66;03m#rnd_sleep(3)\u001B[39;00m\n\u001B[1;32m---> 16\u001B[0m     \u001B[43mrun_bot\u001B[49m\u001B[43m(\u001B[49m\u001B[43mnuum\u001B[49m\u001B[43m,\u001B[49m\u001B[43m \u001B[49m\u001B[43mN\u001B[49m\u001B[43m,\u001B[49m\u001B[43m \u001B[49m\u001B[43mskip_ratio\u001B[49m\u001B[43m,\u001B[49m\u001B[43m \u001B[49m\u001B[43mmode\u001B[49m\u001B[38;5;241;43m=\u001B[39;49m\u001B[43mmode\u001B[49m\u001B[43m,\u001B[49m\u001B[43m \u001B[49m\u001B[43mlog\u001B[49m\u001B[38;5;241;43m=\u001B[39;49m\u001B[43mlog\u001B[49m\u001B[43m,\u001B[49m\u001B[43m \u001B[49m\u001B[43mc\u001B[49m\u001B[38;5;241;43m=\u001B[39;49m\u001B[43mc\u001B[49m\u001B[43m)\u001B[49m\n\u001B[0;32m     17\u001B[0m     \u001B[38;5;28mprint\u001B[39m()\n\u001B[0;32m     19\u001B[0m \u001B[38;5;28;01mexcept\u001B[39;00m \u001B[38;5;167;01mException\u001B[39;00m \u001B[38;5;28;01mas\u001B[39;00m e:\n",
      "Cell \u001B[1;32mIn[6], line 8\u001B[0m, in \u001B[0;36mrun_bot\u001B[1;34m(nuum, N, skip_ratio, mode, log, c)\u001B[0m\n\u001B[0;32m      5\u001B[0m     log \u001B[38;5;241m=\u001B[39m pd\u001B[38;5;241m.\u001B[39mDataFrame()\n\u001B[0;32m      7\u001B[0m open_page \u001B[38;5;241m=\u001B[39m {\u001B[38;5;124m'\u001B[39m\u001B[38;5;124mrec\u001B[39m\u001B[38;5;124m'\u001B[39m: nuum\u001B[38;5;241m.\u001B[39mopen_rec, \u001B[38;5;124m'\u001B[39m\u001B[38;5;124msubs\u001B[39m\u001B[38;5;124m'\u001B[39m: nuum\u001B[38;5;241m.\u001B[39mopen_subs}\n\u001B[1;32m----> 8\u001B[0m \u001B[43mopen_page\u001B[49m\u001B[43m[\u001B[49m\u001B[43mmode\u001B[49m\u001B[43m]\u001B[49m\u001B[43m(\u001B[49m\u001B[43m)\u001B[49m    \n\u001B[0;32m      9\u001B[0m \u001B[38;5;28;01mfor\u001B[39;00m i \u001B[38;5;129;01min\u001B[39;00m \u001B[38;5;28mrange\u001B[39m(N):        \n\u001B[0;32m     10\u001B[0m     \u001B[38;5;28;01mif\u001B[39;00m skip_ratio \u001B[38;5;241m<\u001B[39m random\u001B[38;5;241m.\u001B[39mrandom():\n",
      "Cell \u001B[1;32mIn[25], line 195\u001B[0m, in \u001B[0;36mNuumActions.open_rec\u001B[1;34m(self)\u001B[0m\n\u001B[0;32m    194\u001B[0m \u001B[38;5;28;01mdef\u001B[39;00m \u001B[38;5;21mopen_rec\u001B[39m(\u001B[38;5;28mself\u001B[39m):\n\u001B[1;32m--> 195\u001B[0m     \u001B[38;5;28;43mself\u001B[39;49m\u001B[38;5;241;43m.\u001B[39;49m\u001B[43mopen\u001B[49m\u001B[43m(\u001B[49m\u001B[43mCLIPS\u001B[49m\u001B[43m)\u001B[49m\n\u001B[0;32m    196\u001B[0m     rnd_sleep()\n\u001B[0;32m    197\u001B[0m     clips \u001B[38;5;241m=\u001B[39m \u001B[38;5;28mself\u001B[39m\u001B[38;5;241m.\u001B[39mdriver\u001B[38;5;241m.\u001B[39mfind_elements(By\u001B[38;5;241m.\u001B[39mXPATH, \u001B[38;5;124m\"\u001B[39m\u001B[38;5;124m//a[contains(@href, \u001B[39m\u001B[38;5;124m'\u001B[39m\u001B[38;5;124m/clips/\u001B[39m\u001B[38;5;124m'\u001B[39m\u001B[38;5;124m)]\u001B[39m\u001B[38;5;124m\"\u001B[39m)\n",
      "Cell \u001B[1;32mIn[25], line 60\u001B[0m, in \u001B[0;36mNuumBaseAction.open\u001B[1;34m(self, url)\u001B[0m\n\u001B[0;32m     59\u001B[0m \u001B[38;5;28;01mdef\u001B[39;00m \u001B[38;5;21mopen\u001B[39m(\u001B[38;5;28mself\u001B[39m, url):\n\u001B[1;32m---> 60\u001B[0m     \u001B[38;5;28;43mself\u001B[39;49m\u001B[38;5;241;43m.\u001B[39;49m\u001B[43mdriver\u001B[49m\u001B[38;5;241;43m.\u001B[39;49m\u001B[43mget\u001B[49m\u001B[43m(\u001B[49m\u001B[43murl\u001B[49m\u001B[43m)\u001B[49m\n\u001B[0;32m     61\u001B[0m     \u001B[38;5;28mself\u001B[39m\u001B[38;5;241m.\u001B[39mdriver\u001B[38;5;241m.\u001B[39mimplicitly_wait(\u001B[38;5;241m5\u001B[39m)\n",
      "File \u001B[1;32mD:\\PROJECTS\\python\\SCRIPT\\NuumBot\\.venv\\Lib\\site-packages\\selenium\\webdriver\\remote\\webdriver.py:389\u001B[0m, in \u001B[0;36mWebDriver.get\u001B[1;34m(self, url)\u001B[0m\n\u001B[0;32m    387\u001B[0m \u001B[38;5;28;01mdef\u001B[39;00m \u001B[38;5;21mget\u001B[39m(\u001B[38;5;28mself\u001B[39m, url: \u001B[38;5;28mstr\u001B[39m) \u001B[38;5;241m-\u001B[39m\u001B[38;5;241m>\u001B[39m \u001B[38;5;28;01mNone\u001B[39;00m:\n\u001B[0;32m    388\u001B[0m \u001B[38;5;250m    \u001B[39m\u001B[38;5;124;03m\"\"\"Loads a web page in the current browser session.\"\"\"\u001B[39;00m\n\u001B[1;32m--> 389\u001B[0m     \u001B[38;5;28;43mself\u001B[39;49m\u001B[38;5;241;43m.\u001B[39;49m\u001B[43mexecute\u001B[49m\u001B[43m(\u001B[49m\u001B[43mCommand\u001B[49m\u001B[38;5;241;43m.\u001B[39;49m\u001B[43mGET\u001B[49m\u001B[43m,\u001B[49m\u001B[43m \u001B[49m\u001B[43m{\u001B[49m\u001B[38;5;124;43m\"\u001B[39;49m\u001B[38;5;124;43murl\u001B[39;49m\u001B[38;5;124;43m\"\u001B[39;49m\u001B[43m:\u001B[49m\u001B[43m \u001B[49m\u001B[43murl\u001B[49m\u001B[43m}\u001B[49m\u001B[43m)\u001B[49m\n",
      "File \u001B[1;32mD:\\PROJECTS\\python\\SCRIPT\\NuumBot\\.venv\\Lib\\site-packages\\selenium\\webdriver\\remote\\webdriver.py:378\u001B[0m, in \u001B[0;36mWebDriver.execute\u001B[1;34m(self, driver_command, params)\u001B[0m\n\u001B[0;32m    375\u001B[0m     \u001B[38;5;28;01melif\u001B[39;00m \u001B[38;5;124m\"\u001B[39m\u001B[38;5;124msessionId\u001B[39m\u001B[38;5;124m\"\u001B[39m \u001B[38;5;129;01mnot\u001B[39;00m \u001B[38;5;129;01min\u001B[39;00m params:\n\u001B[0;32m    376\u001B[0m         params[\u001B[38;5;124m\"\u001B[39m\u001B[38;5;124msessionId\u001B[39m\u001B[38;5;124m\"\u001B[39m] \u001B[38;5;241m=\u001B[39m \u001B[38;5;28mself\u001B[39m\u001B[38;5;241m.\u001B[39msession_id\n\u001B[1;32m--> 378\u001B[0m response \u001B[38;5;241m=\u001B[39m \u001B[38;5;28;43mself\u001B[39;49m\u001B[38;5;241;43m.\u001B[39;49m\u001B[43mcommand_executor\u001B[49m\u001B[38;5;241;43m.\u001B[39;49m\u001B[43mexecute\u001B[49m\u001B[43m(\u001B[49m\u001B[43mdriver_command\u001B[49m\u001B[43m,\u001B[49m\u001B[43m \u001B[49m\u001B[43mparams\u001B[49m\u001B[43m)\u001B[49m\n\u001B[0;32m    379\u001B[0m \u001B[38;5;28;01mif\u001B[39;00m response:\n\u001B[0;32m    380\u001B[0m     \u001B[38;5;28mself\u001B[39m\u001B[38;5;241m.\u001B[39merror_handler\u001B[38;5;241m.\u001B[39mcheck_response(response)\n",
      "File \u001B[1;32mD:\\PROJECTS\\python\\SCRIPT\\NuumBot\\.venv\\Lib\\site-packages\\selenium\\webdriver\\remote\\remote_connection.py:391\u001B[0m, in \u001B[0;36mRemoteConnection.execute\u001B[1;34m(self, command, params)\u001B[0m\n\u001B[0;32m    389\u001B[0m trimmed \u001B[38;5;241m=\u001B[39m \u001B[38;5;28mself\u001B[39m\u001B[38;5;241m.\u001B[39m_trim_large_entries(params)\n\u001B[0;32m    390\u001B[0m LOGGER\u001B[38;5;241m.\u001B[39mdebug(\u001B[38;5;124m\"\u001B[39m\u001B[38;5;132;01m%s\u001B[39;00m\u001B[38;5;124m \u001B[39m\u001B[38;5;132;01m%s\u001B[39;00m\u001B[38;5;124m \u001B[39m\u001B[38;5;132;01m%s\u001B[39;00m\u001B[38;5;124m\"\u001B[39m, command_info[\u001B[38;5;241m0\u001B[39m], url, \u001B[38;5;28mstr\u001B[39m(trimmed))\n\u001B[1;32m--> 391\u001B[0m \u001B[38;5;28;01mreturn\u001B[39;00m \u001B[38;5;28;43mself\u001B[39;49m\u001B[38;5;241;43m.\u001B[39;49m\u001B[43m_request\u001B[49m\u001B[43m(\u001B[49m\u001B[43mcommand_info\u001B[49m\u001B[43m[\u001B[49m\u001B[38;5;241;43m0\u001B[39;49m\u001B[43m]\u001B[49m\u001B[43m,\u001B[49m\u001B[43m \u001B[49m\u001B[43murl\u001B[49m\u001B[43m,\u001B[49m\u001B[43m \u001B[49m\u001B[43mbody\u001B[49m\u001B[38;5;241;43m=\u001B[39;49m\u001B[43mdata\u001B[49m\u001B[43m)\u001B[49m\n",
      "File \u001B[1;32mD:\\PROJECTS\\python\\SCRIPT\\NuumBot\\.venv\\Lib\\site-packages\\selenium\\webdriver\\remote\\remote_connection.py:415\u001B[0m, in \u001B[0;36mRemoteConnection._request\u001B[1;34m(self, method, url, body)\u001B[0m\n\u001B[0;32m    412\u001B[0m     body \u001B[38;5;241m=\u001B[39m \u001B[38;5;28;01mNone\u001B[39;00m\n\u001B[0;32m    414\u001B[0m \u001B[38;5;28;01mif\u001B[39;00m \u001B[38;5;28mself\u001B[39m\u001B[38;5;241m.\u001B[39m_client_config\u001B[38;5;241m.\u001B[39mkeep_alive:\n\u001B[1;32m--> 415\u001B[0m     response \u001B[38;5;241m=\u001B[39m \u001B[38;5;28;43mself\u001B[39;49m\u001B[38;5;241;43m.\u001B[39;49m\u001B[43m_conn\u001B[49m\u001B[38;5;241;43m.\u001B[39;49m\u001B[43mrequest\u001B[49m\u001B[43m(\u001B[49m\u001B[43mmethod\u001B[49m\u001B[43m,\u001B[49m\u001B[43m \u001B[49m\u001B[43murl\u001B[49m\u001B[43m,\u001B[49m\u001B[43m \u001B[49m\u001B[43mbody\u001B[49m\u001B[38;5;241;43m=\u001B[39;49m\u001B[43mbody\u001B[49m\u001B[43m,\u001B[49m\u001B[43m \u001B[49m\u001B[43mheaders\u001B[49m\u001B[38;5;241;43m=\u001B[39;49m\u001B[43mheaders\u001B[49m\u001B[43m,\u001B[49m\u001B[43m \u001B[49m\u001B[43mtimeout\u001B[49m\u001B[38;5;241;43m=\u001B[39;49m\u001B[38;5;28;43mself\u001B[39;49m\u001B[38;5;241;43m.\u001B[39;49m\u001B[43m_client_config\u001B[49m\u001B[38;5;241;43m.\u001B[39;49m\u001B[43mtimeout\u001B[49m\u001B[43m)\u001B[49m\n\u001B[0;32m    416\u001B[0m     statuscode \u001B[38;5;241m=\u001B[39m response\u001B[38;5;241m.\u001B[39mstatus\n\u001B[0;32m    417\u001B[0m \u001B[38;5;28;01melse\u001B[39;00m:\n",
      "File \u001B[1;32mD:\\PROJECTS\\python\\SCRIPT\\NuumBot\\.venv\\Lib\\site-packages\\urllib3\\_request_methods.py:143\u001B[0m, in \u001B[0;36mRequestMethods.request\u001B[1;34m(self, method, url, body, fields, headers, json, **urlopen_kw)\u001B[0m\n\u001B[0;32m    135\u001B[0m     \u001B[38;5;28;01mreturn\u001B[39;00m \u001B[38;5;28mself\u001B[39m\u001B[38;5;241m.\u001B[39mrequest_encode_url(\n\u001B[0;32m    136\u001B[0m         method,\n\u001B[0;32m    137\u001B[0m         url,\n\u001B[1;32m   (...)\u001B[0m\n\u001B[0;32m    140\u001B[0m         \u001B[38;5;241m*\u001B[39m\u001B[38;5;241m*\u001B[39murlopen_kw,\n\u001B[0;32m    141\u001B[0m     )\n\u001B[0;32m    142\u001B[0m \u001B[38;5;28;01melse\u001B[39;00m:\n\u001B[1;32m--> 143\u001B[0m     \u001B[38;5;28;01mreturn\u001B[39;00m \u001B[38;5;28;43mself\u001B[39;49m\u001B[38;5;241;43m.\u001B[39;49m\u001B[43mrequest_encode_body\u001B[49m\u001B[43m(\u001B[49m\n\u001B[0;32m    144\u001B[0m \u001B[43m        \u001B[49m\u001B[43mmethod\u001B[49m\u001B[43m,\u001B[49m\u001B[43m \u001B[49m\u001B[43murl\u001B[49m\u001B[43m,\u001B[49m\u001B[43m \u001B[49m\u001B[43mfields\u001B[49m\u001B[38;5;241;43m=\u001B[39;49m\u001B[43mfields\u001B[49m\u001B[43m,\u001B[49m\u001B[43m \u001B[49m\u001B[43mheaders\u001B[49m\u001B[38;5;241;43m=\u001B[39;49m\u001B[43mheaders\u001B[49m\u001B[43m,\u001B[49m\u001B[43m \u001B[49m\u001B[38;5;241;43m*\u001B[39;49m\u001B[38;5;241;43m*\u001B[39;49m\u001B[43murlopen_kw\u001B[49m\n\u001B[0;32m    145\u001B[0m \u001B[43m    \u001B[49m\u001B[43m)\u001B[49m\n",
      "File \u001B[1;32mD:\\PROJECTS\\python\\SCRIPT\\NuumBot\\.venv\\Lib\\site-packages\\urllib3\\_request_methods.py:278\u001B[0m, in \u001B[0;36mRequestMethods.request_encode_body\u001B[1;34m(self, method, url, fields, headers, encode_multipart, multipart_boundary, **urlopen_kw)\u001B[0m\n\u001B[0;32m    274\u001B[0m     extra_kw[\u001B[38;5;124m\"\u001B[39m\u001B[38;5;124mheaders\u001B[39m\u001B[38;5;124m\"\u001B[39m]\u001B[38;5;241m.\u001B[39msetdefault(\u001B[38;5;124m\"\u001B[39m\u001B[38;5;124mContent-Type\u001B[39m\u001B[38;5;124m\"\u001B[39m, content_type)\n\u001B[0;32m    276\u001B[0m extra_kw\u001B[38;5;241m.\u001B[39mupdate(urlopen_kw)\n\u001B[1;32m--> 278\u001B[0m \u001B[38;5;28;01mreturn\u001B[39;00m \u001B[38;5;28;43mself\u001B[39;49m\u001B[38;5;241;43m.\u001B[39;49m\u001B[43murlopen\u001B[49m\u001B[43m(\u001B[49m\u001B[43mmethod\u001B[49m\u001B[43m,\u001B[49m\u001B[43m \u001B[49m\u001B[43murl\u001B[49m\u001B[43m,\u001B[49m\u001B[43m \u001B[49m\u001B[38;5;241;43m*\u001B[39;49m\u001B[38;5;241;43m*\u001B[39;49m\u001B[43mextra_kw\u001B[49m\u001B[43m)\u001B[49m\n",
      "File \u001B[1;32mD:\\PROJECTS\\python\\SCRIPT\\NuumBot\\.venv\\Lib\\site-packages\\urllib3\\poolmanager.py:443\u001B[0m, in \u001B[0;36mPoolManager.urlopen\u001B[1;34m(self, method, url, redirect, **kw)\u001B[0m\n\u001B[0;32m    441\u001B[0m     response \u001B[38;5;241m=\u001B[39m conn\u001B[38;5;241m.\u001B[39murlopen(method, url, \u001B[38;5;241m*\u001B[39m\u001B[38;5;241m*\u001B[39mkw)\n\u001B[0;32m    442\u001B[0m \u001B[38;5;28;01melse\u001B[39;00m:\n\u001B[1;32m--> 443\u001B[0m     response \u001B[38;5;241m=\u001B[39m \u001B[43mconn\u001B[49m\u001B[38;5;241;43m.\u001B[39;49m\u001B[43murlopen\u001B[49m\u001B[43m(\u001B[49m\u001B[43mmethod\u001B[49m\u001B[43m,\u001B[49m\u001B[43m \u001B[49m\u001B[43mu\u001B[49m\u001B[38;5;241;43m.\u001B[39;49m\u001B[43mrequest_uri\u001B[49m\u001B[43m,\u001B[49m\u001B[43m \u001B[49m\u001B[38;5;241;43m*\u001B[39;49m\u001B[38;5;241;43m*\u001B[39;49m\u001B[43mkw\u001B[49m\u001B[43m)\u001B[49m\n\u001B[0;32m    445\u001B[0m redirect_location \u001B[38;5;241m=\u001B[39m redirect \u001B[38;5;129;01mand\u001B[39;00m response\u001B[38;5;241m.\u001B[39mget_redirect_location()\n\u001B[0;32m    446\u001B[0m \u001B[38;5;28;01mif\u001B[39;00m \u001B[38;5;129;01mnot\u001B[39;00m redirect_location:\n",
      "File \u001B[1;32mD:\\PROJECTS\\python\\SCRIPT\\NuumBot\\.venv\\Lib\\site-packages\\urllib3\\connectionpool.py:789\u001B[0m, in \u001B[0;36mHTTPConnectionPool.urlopen\u001B[1;34m(self, method, url, body, headers, retries, redirect, assert_same_host, timeout, pool_timeout, release_conn, chunked, body_pos, preload_content, decode_content, **response_kw)\u001B[0m\n\u001B[0;32m    786\u001B[0m response_conn \u001B[38;5;241m=\u001B[39m conn \u001B[38;5;28;01mif\u001B[39;00m \u001B[38;5;129;01mnot\u001B[39;00m release_conn \u001B[38;5;28;01melse\u001B[39;00m \u001B[38;5;28;01mNone\u001B[39;00m\n\u001B[0;32m    788\u001B[0m \u001B[38;5;66;03m# Make the request on the HTTPConnection object\u001B[39;00m\n\u001B[1;32m--> 789\u001B[0m response \u001B[38;5;241m=\u001B[39m \u001B[38;5;28;43mself\u001B[39;49m\u001B[38;5;241;43m.\u001B[39;49m\u001B[43m_make_request\u001B[49m\u001B[43m(\u001B[49m\n\u001B[0;32m    790\u001B[0m \u001B[43m    \u001B[49m\u001B[43mconn\u001B[49m\u001B[43m,\u001B[49m\n\u001B[0;32m    791\u001B[0m \u001B[43m    \u001B[49m\u001B[43mmethod\u001B[49m\u001B[43m,\u001B[49m\n\u001B[0;32m    792\u001B[0m \u001B[43m    \u001B[49m\u001B[43murl\u001B[49m\u001B[43m,\u001B[49m\n\u001B[0;32m    793\u001B[0m \u001B[43m    \u001B[49m\u001B[43mtimeout\u001B[49m\u001B[38;5;241;43m=\u001B[39;49m\u001B[43mtimeout_obj\u001B[49m\u001B[43m,\u001B[49m\n\u001B[0;32m    794\u001B[0m \u001B[43m    \u001B[49m\u001B[43mbody\u001B[49m\u001B[38;5;241;43m=\u001B[39;49m\u001B[43mbody\u001B[49m\u001B[43m,\u001B[49m\n\u001B[0;32m    795\u001B[0m \u001B[43m    \u001B[49m\u001B[43mheaders\u001B[49m\u001B[38;5;241;43m=\u001B[39;49m\u001B[43mheaders\u001B[49m\u001B[43m,\u001B[49m\n\u001B[0;32m    796\u001B[0m \u001B[43m    \u001B[49m\u001B[43mchunked\u001B[49m\u001B[38;5;241;43m=\u001B[39;49m\u001B[43mchunked\u001B[49m\u001B[43m,\u001B[49m\n\u001B[0;32m    797\u001B[0m \u001B[43m    \u001B[49m\u001B[43mretries\u001B[49m\u001B[38;5;241;43m=\u001B[39;49m\u001B[43mretries\u001B[49m\u001B[43m,\u001B[49m\n\u001B[0;32m    798\u001B[0m \u001B[43m    \u001B[49m\u001B[43mresponse_conn\u001B[49m\u001B[38;5;241;43m=\u001B[39;49m\u001B[43mresponse_conn\u001B[49m\u001B[43m,\u001B[49m\n\u001B[0;32m    799\u001B[0m \u001B[43m    \u001B[49m\u001B[43mpreload_content\u001B[49m\u001B[38;5;241;43m=\u001B[39;49m\u001B[43mpreload_content\u001B[49m\u001B[43m,\u001B[49m\n\u001B[0;32m    800\u001B[0m \u001B[43m    \u001B[49m\u001B[43mdecode_content\u001B[49m\u001B[38;5;241;43m=\u001B[39;49m\u001B[43mdecode_content\u001B[49m\u001B[43m,\u001B[49m\n\u001B[0;32m    801\u001B[0m \u001B[43m    \u001B[49m\u001B[38;5;241;43m*\u001B[39;49m\u001B[38;5;241;43m*\u001B[39;49m\u001B[43mresponse_kw\u001B[49m\u001B[43m,\u001B[49m\n\u001B[0;32m    802\u001B[0m \u001B[43m\u001B[49m\u001B[43m)\u001B[49m\n\u001B[0;32m    804\u001B[0m \u001B[38;5;66;03m# Everything went great!\u001B[39;00m\n\u001B[0;32m    805\u001B[0m clean_exit \u001B[38;5;241m=\u001B[39m \u001B[38;5;28;01mTrue\u001B[39;00m\n",
      "File \u001B[1;32mD:\\PROJECTS\\python\\SCRIPT\\NuumBot\\.venv\\Lib\\site-packages\\urllib3\\connectionpool.py:536\u001B[0m, in \u001B[0;36mHTTPConnectionPool._make_request\u001B[1;34m(self, conn, method, url, body, headers, retries, timeout, chunked, response_conn, preload_content, decode_content, enforce_content_length)\u001B[0m\n\u001B[0;32m    534\u001B[0m \u001B[38;5;66;03m# Receive the response from the server\u001B[39;00m\n\u001B[0;32m    535\u001B[0m \u001B[38;5;28;01mtry\u001B[39;00m:\n\u001B[1;32m--> 536\u001B[0m     response \u001B[38;5;241m=\u001B[39m \u001B[43mconn\u001B[49m\u001B[38;5;241;43m.\u001B[39;49m\u001B[43mgetresponse\u001B[49m\u001B[43m(\u001B[49m\u001B[43m)\u001B[49m\n\u001B[0;32m    537\u001B[0m \u001B[38;5;28;01mexcept\u001B[39;00m (BaseSSLError, \u001B[38;5;167;01mOSError\u001B[39;00m) \u001B[38;5;28;01mas\u001B[39;00m e:\n\u001B[0;32m    538\u001B[0m     \u001B[38;5;28mself\u001B[39m\u001B[38;5;241m.\u001B[39m_raise_timeout(err\u001B[38;5;241m=\u001B[39me, url\u001B[38;5;241m=\u001B[39murl, timeout_value\u001B[38;5;241m=\u001B[39mread_timeout)\n",
      "File \u001B[1;32mD:\\PROJECTS\\python\\SCRIPT\\NuumBot\\.venv\\Lib\\site-packages\\urllib3\\connection.py:507\u001B[0m, in \u001B[0;36mHTTPConnection.getresponse\u001B[1;34m(self)\u001B[0m\n\u001B[0;32m    504\u001B[0m \u001B[38;5;28;01mfrom\u001B[39;00m \u001B[38;5;21;01m.\u001B[39;00m\u001B[38;5;21;01mresponse\u001B[39;00m \u001B[38;5;28;01mimport\u001B[39;00m HTTPResponse\n\u001B[0;32m    506\u001B[0m \u001B[38;5;66;03m# Get the response from http.client.HTTPConnection\u001B[39;00m\n\u001B[1;32m--> 507\u001B[0m httplib_response \u001B[38;5;241m=\u001B[39m \u001B[38;5;28;43msuper\u001B[39;49m\u001B[43m(\u001B[49m\u001B[43m)\u001B[49m\u001B[38;5;241;43m.\u001B[39;49m\u001B[43mgetresponse\u001B[49m\u001B[43m(\u001B[49m\u001B[43m)\u001B[49m\n\u001B[0;32m    509\u001B[0m \u001B[38;5;28;01mtry\u001B[39;00m:\n\u001B[0;32m    510\u001B[0m     assert_header_parsing(httplib_response\u001B[38;5;241m.\u001B[39mmsg)\n",
      "File \u001B[1;32mC:\\Python\\Python311\\Lib\\http\\client.py:1375\u001B[0m, in \u001B[0;36mHTTPConnection.getresponse\u001B[1;34m(self)\u001B[0m\n\u001B[0;32m   1373\u001B[0m \u001B[38;5;28;01mtry\u001B[39;00m:\n\u001B[0;32m   1374\u001B[0m     \u001B[38;5;28;01mtry\u001B[39;00m:\n\u001B[1;32m-> 1375\u001B[0m         \u001B[43mresponse\u001B[49m\u001B[38;5;241;43m.\u001B[39;49m\u001B[43mbegin\u001B[49m\u001B[43m(\u001B[49m\u001B[43m)\u001B[49m\n\u001B[0;32m   1376\u001B[0m     \u001B[38;5;28;01mexcept\u001B[39;00m \u001B[38;5;167;01mConnectionError\u001B[39;00m:\n\u001B[0;32m   1377\u001B[0m         \u001B[38;5;28mself\u001B[39m\u001B[38;5;241m.\u001B[39mclose()\n",
      "File \u001B[1;32mC:\\Python\\Python311\\Lib\\http\\client.py:318\u001B[0m, in \u001B[0;36mHTTPResponse.begin\u001B[1;34m(self)\u001B[0m\n\u001B[0;32m    316\u001B[0m \u001B[38;5;66;03m# read until we get a non-100 response\u001B[39;00m\n\u001B[0;32m    317\u001B[0m \u001B[38;5;28;01mwhile\u001B[39;00m \u001B[38;5;28;01mTrue\u001B[39;00m:\n\u001B[1;32m--> 318\u001B[0m     version, status, reason \u001B[38;5;241m=\u001B[39m \u001B[38;5;28;43mself\u001B[39;49m\u001B[38;5;241;43m.\u001B[39;49m\u001B[43m_read_status\u001B[49m\u001B[43m(\u001B[49m\u001B[43m)\u001B[49m\n\u001B[0;32m    319\u001B[0m     \u001B[38;5;28;01mif\u001B[39;00m status \u001B[38;5;241m!=\u001B[39m CONTINUE:\n\u001B[0;32m    320\u001B[0m         \u001B[38;5;28;01mbreak\u001B[39;00m\n",
      "File \u001B[1;32mC:\\Python\\Python311\\Lib\\http\\client.py:279\u001B[0m, in \u001B[0;36mHTTPResponse._read_status\u001B[1;34m(self)\u001B[0m\n\u001B[0;32m    278\u001B[0m \u001B[38;5;28;01mdef\u001B[39;00m \u001B[38;5;21m_read_status\u001B[39m(\u001B[38;5;28mself\u001B[39m):\n\u001B[1;32m--> 279\u001B[0m     line \u001B[38;5;241m=\u001B[39m \u001B[38;5;28mstr\u001B[39m(\u001B[38;5;28mself\u001B[39m\u001B[38;5;241m.\u001B[39mfp\u001B[38;5;241m.\u001B[39mreadline(_MAXLINE \u001B[38;5;241m+\u001B[39m \u001B[38;5;241m1\u001B[39m), \u001B[38;5;124m\"\u001B[39m\u001B[38;5;124miso-8859-1\u001B[39m\u001B[38;5;124m\"\u001B[39m)\n\u001B[0;32m    280\u001B[0m     \u001B[38;5;28;01mif\u001B[39;00m \u001B[38;5;28mlen\u001B[39m(line) \u001B[38;5;241m>\u001B[39m _MAXLINE:\n\u001B[0;32m    281\u001B[0m         \u001B[38;5;28;01mraise\u001B[39;00m LineTooLong(\u001B[38;5;124m\"\u001B[39m\u001B[38;5;124mstatus line\u001B[39m\u001B[38;5;124m\"\u001B[39m)\n",
      "File \u001B[1;32mC:\\Python\\Python311\\Lib\\socket.py:706\u001B[0m, in \u001B[0;36mSocketIO.readinto\u001B[1;34m(self, b)\u001B[0m\n\u001B[0;32m    704\u001B[0m \u001B[38;5;28;01mwhile\u001B[39;00m \u001B[38;5;28;01mTrue\u001B[39;00m:\n\u001B[0;32m    705\u001B[0m     \u001B[38;5;28;01mtry\u001B[39;00m:\n\u001B[1;32m--> 706\u001B[0m         \u001B[38;5;28;01mreturn\u001B[39;00m \u001B[38;5;28;43mself\u001B[39;49m\u001B[38;5;241;43m.\u001B[39;49m\u001B[43m_sock\u001B[49m\u001B[38;5;241;43m.\u001B[39;49m\u001B[43mrecv_into\u001B[49m\u001B[43m(\u001B[49m\u001B[43mb\u001B[49m\u001B[43m)\u001B[49m\n\u001B[0;32m    707\u001B[0m     \u001B[38;5;28;01mexcept\u001B[39;00m timeout:\n\u001B[0;32m    708\u001B[0m         \u001B[38;5;28mself\u001B[39m\u001B[38;5;241m.\u001B[39m_timeout_occurred \u001B[38;5;241m=\u001B[39m \u001B[38;5;28;01mTrue\u001B[39;00m\n",
      "\u001B[1;31mKeyboardInterrupt\u001B[0m: "
     ]
    }
   ]
  },
  {
   "metadata": {},
   "cell_type": "code",
   "source": [
    "N = 10\n",
    "skip_ratio = 0.5\n",
    "\n",
    "nuum = NuumActions(driver)\n",
    "#nuum.open_subs()\n",
    "nuum.open_rec()\n",
    "\n",
    "liked = 0\n",
    "for i in range(N):\n",
    "    \n",
    "    if skip_ratio < random.random():\n",
    "        result = nuum.like_stiker_subscribe(\n",
    "            like_ratio = 1, \n",
    "            stiker_ratio = 1, \n",
    "            subscribe_ratio = .5\n",
    "        )\n",
    "        if result:\n",
    "            liked += 1\n",
    "            print(f'Liked {liked} from {i+1}')\n",
    "        \n",
    "        rnd_sleep(3)\n",
    "    nuum.next()"
   ],
   "id": "757812412cee8cd1",
   "outputs": [],
   "execution_count": null
  },
  {
   "metadata": {},
   "cell_type": "code",
   "source": "nuum.user_name()",
   "id": "3c2d133c68916745",
   "outputs": [],
   "execution_count": null
  },
  {
   "metadata": {},
   "cell_type": "code",
   "source": [
    "#<div class=\"info__name-wrapper\"><a data-testid=\"channelInfoChannelName\" class=\"info__link-name\" title=\"Канал PolinaKrusenstern на NUUM\" href=\"/channel/polinakrusenstern\"> PolinaKrusenstern </a></div>\n",
    "\n",
    "f = 'shorts-bottom-panel-wrapper'\n",
    "user_names = driver.find_elements(By.XPATH, f\"//div[contains(@class, '{f}')]\")\n",
    "    #driver.find_elements(By.XPATH, \"//div[contains(@href, '/channel/')]\")\n",
    "    \n",
    "user_names = [Elm(s) for s in user_names]\n",
    "user_names = [s for s in user_names if nuum.in_screen(s)]\n",
    "user_names[0].text.split('\\n')[0]"
   ],
   "id": "695acb80355adf9",
   "outputs": [],
   "execution_count": null
  },
  {
   "metadata": {},
   "cell_type": "code",
   "source": "user_names[1].location",
   "id": "2f902bdbaa100267",
   "outputs": [],
   "execution_count": null
  },
  {
   "metadata": {},
   "cell_type": "code",
   "source": [
    "# Открываем Браузер\n",
    "driver = webdriver.Chrome()\n",
    "driver.get(NUUM)\n",
    "\n",
    "# with open(cookie_path, 'rb') as file:\n",
    "#     cookies = pickle.load(file)\n",
    "#     for cookie in cookies:\n",
    "#         driver.add_cookie(cookie)\n",
    "#         \n",
    "# driver.get(POLINA_CLIPS)\n",
    "# driver.implicitly_wait(10)"
   ],
   "id": "1684609a77b825b8",
   "outputs": [],
   "execution_count": null
  },
  {
   "metadata": {},
   "cell_type": "code",
   "source": [
    "with open(cookie_path, 'rb') as file:\n",
    "    cookies = pickle.load(file)\n",
    "    for cookie in cookies:\n",
    "        driver.add_cookie(cookie)"
   ],
   "id": "fae3758547dbb1bb",
   "outputs": [],
   "execution_count": null
  },
  {
   "metadata": {},
   "cell_type": "code",
   "source": [
    "\n",
    "with open(cookie_path, 'wb') as file:\n",
    "    pickle.dump(driver.get_cookies(), file)"
   ],
   "id": "aa94a7de5e21b832",
   "outputs": [],
   "execution_count": null
  },
  {
   "metadata": {},
   "cell_type": "code",
   "source": "",
   "id": "5322989bcd49ddfa",
   "outputs": [],
   "execution_count": null
  },
  {
   "metadata": {},
   "cell_type": "code",
   "source": "nuum = NuumActions(driver)",
   "id": "cac65f62224bf4bf",
   "outputs": [],
   "execution_count": null
  },
  {
   "metadata": {},
   "cell_type": "code",
   "source": "nuum.open_subs()",
   "id": "b88e538ba6062b",
   "outputs": [],
   "execution_count": null
  },
  {
   "metadata": {},
   "cell_type": "code",
   "source": [
    "subs = driver.find_elements(By.XPATH, \"//a[contains(@href, '/clips/')]\")\n",
    "subs = [Elm(s) for s in subs]\n",
    "links = [s.link for s in subs]\n",
    "len(subs), links[0]"
   ],
   "id": "3f5fd7be0f90bb15",
   "outputs": [],
   "execution_count": null
  },
  {
   "metadata": {},
   "cell_type": "code",
   "source": "subs[0].click()",
   "id": "74ee20489ebc91c3",
   "outputs": [],
   "execution_count": null
  },
  {
   "metadata": {},
   "cell_type": "code",
   "source": [
    "nuum.next()\n",
    "if not nuum.is_liked():\n",
    "    time.sleep(2)\n",
    "    nuum.send_stiker()    \n",
    "    nuum.like()\n",
    "    rnd_sleep()\n",
    "    nuum.subscribe()"
   ],
   "id": "690d64849ad620ac",
   "outputs": [],
   "execution_count": null
  },
  {
   "metadata": {},
   "cell_type": "code",
   "source": "nuum.subscribe()",
   "id": "f1df0f7c6fdfc359",
   "outputs": [],
   "execution_count": null
  },
  {
   "metadata": {},
   "cell_type": "code",
   "source": "nuum.send_stiker()",
   "id": "f90f981593682c8d",
   "outputs": [],
   "execution_count": null
  },
  {
   "metadata": {},
   "cell_type": "code",
   "source": "nuum.like()",
   "id": "6372b8fa7c6dc2f4",
   "outputs": [],
   "execution_count": null
  },
  {
   "metadata": {},
   "cell_type": "code",
   "source": [
    "sbscr = driver.find_elements(By.XPATH, \"//span[contains(text(), 'Подписаться')]\")\n",
    "sbscr = [Elm(s) for s in sbscr] \n",
    "sbscr = [s for s in sbscr if viewer.in_screen(s)]\n",
    "sbscr[0].click()"
   ],
   "id": "7aabd93363495ec3",
   "outputs": [],
   "execution_count": null
  },
  {
   "metadata": {},
   "cell_type": "code",
   "source": [
    "sbscr = driver.find_elements(By.XPATH, \"//span[contains(text(), 'Вы подписаны')]\")\n",
    "sbscr = [Elm(s) for s in sbscr] \n",
    "sbscr = [s for s in sbscr if viewer.in_screen(s)]\n",
    "sbscr[0].click()"
   ],
   "id": "703ec269732caba7",
   "outputs": [],
   "execution_count": null
  },
  {
   "metadata": {},
   "cell_type": "code",
   "source": [
    "url = random.choice(clips_list)\n",
    "viewer.open(url)\n",
    "time.sleep(2)\n",
    "\n",
    "if not viewer.is_liked():\n",
    "    descr = viewer.find_description()\n",
    "    comment = await viewer.generate_comment(descr)\n",
    "    viewer.send_comment(comment)\n",
    "    time.sleep(2)\n",
    "    viewer.send_stiker()\n",
    "    time.sleep(2)\n",
    "    viewer.like()\n",
    "    "
   ],
   "id": "d0a230e7be8796c",
   "outputs": [],
   "execution_count": null
  },
  {
   "metadata": {},
   "cell_type": "code",
   "source": [
    "def img_stiker(s):\n",
    "    s.get_attribute('src')\n",
    "    # load stiker from url\n",
    "    # example: 'https://static.nuum.ru/sticker-packs/seal/webp/medium/seal-14.webp'\n",
    "    import requests\n",
    "    import io\n",
    "    from PIL import Image\n",
    "\n",
    "    url = s.get_attribute('src')\n",
    "    response = requests.get(url)\n",
    "    img = Image.open(io.BytesIO(response.content))\n",
    "\n",
    "    return img\n",
    "\n",
    "def rnd_sleep(m=1, d=1.5):\n",
    "    # normal distribution\n",
    "    sleep = random.normalvariate(m, d)\n",
    "    #print(sleep)\n",
    "    time.sleep(max(.5,sleep))\n"
   ],
   "id": "aeeab76f044cea",
   "outputs": [],
   "execution_count": null
  },
  {
   "metadata": {},
   "cell_type": "code",
   "source": [
    "nuum = NuumViewer(driver)\n",
    "\n",
    "nuum.open(POLINA_CLIPS)\n",
    "time.sleep(5)\n",
    "clips_list = set(nuum.get_clips_from_page())"
   ],
   "id": "36d57e954acb9cd7",
   "outputs": [],
   "execution_count": null
  },
  {
   "metadata": {},
   "cell_type": "code",
   "source": [
    "clip = random.choice(list(clips_list))\n",
    "nuum.open(clip)\n",
    "time.sleep(2)\n",
    "\n",
    "if not nuum.is_liked():\n",
    "    descr = nuum.find_description()\n",
    "    comment = await nuum.generate_comment(descr)\n",
    "    nuum.send_comment(comment)\n",
    "    time.sleep(2)\n",
    "    nuum.send_stiker()\n",
    "    time.sleep(2)\n",
    "    nuum.like()\n",
    "\n",
    "clips_list.remove(clip)\n",
    "time.sleep(2)"
   ],
   "id": "8ca02efd06612ffa",
   "outputs": [],
   "execution_count": null
  },
  {
   "metadata": {},
   "cell_type": "code",
   "source": [
    "def rnd_sleep(m=1, d=1.5):\n",
    "    # normal distribution\n",
    "    sleep = random.normalvariate(m, d)\n",
    "    #print(sleep)\n",
    "    time.sleep(max(1,sleep))\n",
    "    \n",
    "rnd_sleep()"
   ],
   "id": "8650c20851317c36",
   "outputs": [],
   "execution_count": null
  },
  {
   "metadata": {},
   "cell_type": "code",
   "source": [
    "nuum = NuumViewer(driver)\n",
    "\n",
    "while clips_list:\n",
    "    clip = random.choice(list(clips_list))\n",
    "    nuum.open(clip)\n",
    "    time.sleep(2)\n",
    "\n",
    "    if not nuum.is_liked():\n",
    "        nuum.like()\n",
    "        descr = nuum.find_description()\n",
    "        comment = await nuum.generate_comment(descr)\n",
    "        nuum.send_comment(comment)\n",
    "        rnd_sleep()\n",
    "        nuum.send_stiker()\n",
    "        rnd_sleep()\n",
    "        \n",
    "\n",
    "    clips_list.remove(clip)\n",
    "    rnd_sleep(40, 20)"
   ],
   "id": "548b9ba1405ef5b3",
   "outputs": [],
   "execution_count": null
  },
  {
   "metadata": {},
   "cell_type": "code",
   "source": [
    "nuum = NuumViewer(driver)\n",
    "nuum.send_stiker()"
   ],
   "id": "c0d0cefdc78715a5",
   "outputs": [],
   "execution_count": null
  },
  {
   "metadata": {},
   "cell_type": "code",
   "source": [
    "element = driver.find_elements(By.XPATH, \"//button[contains(@class, 'comment-input__smile-button')]\")\n",
    "if element:\n",
    "    time.sleep(1)\n",
    "    element[0].click()"
   ],
   "id": "7dd15af8afcea7a",
   "outputs": [],
   "execution_count": null
  },
  {
   "metadata": {},
   "cell_type": "code",
   "source": [
    "element = driver.find_elements(By.XPATH, \"//span[contains(text(), 'Стикеры')]\")\n",
    "\n",
    "if element:\n",
    "    time.sleep(1)\n",
    "    element[0].click()"
   ],
   "id": "e0050e93d1023a77",
   "outputs": [],
   "execution_count": null
  },
  {
   "metadata": {},
   "cell_type": "code",
   "source": [
    "time.sleep(2)\n",
    "#<div _ngcontent-ng-c2079894590=\"\" class=\"smiles__navigation-sticker-wrapper ng-star-inserted smiles__navigation-sticker-wrapper--active\"><img _ngcontent-ng-c2079894590=\"\" class=\"smiles__navigation-sticker\" alt=\"Енот\" src=\"https://static.nuum.ru/sticker-packs/raccoon/raccoon-icon.webp\"></div>\n",
    "d = driver.find_elements(By.XPATH, \"//div[contains(@class, 'smiles__navigation-sticker-wrapper')]\")\n",
    "if d:\n",
    "    d = random.choice(d)\n",
    "    d.click()\n",
    "    time.sleep(1)"
   ],
   "id": "ccee684c319a6471",
   "outputs": [],
   "execution_count": null
  },
  {
   "metadata": {},
   "cell_type": "code",
   "source": [
    "stikers = driver.find_elements(By.XPATH, \"//div[contains(@class, 'sticker ng-star-inserted')]\")\n",
    "len(stikers), len(set(stikers))"
   ],
   "id": "78b231914deda058",
   "outputs": [],
   "execution_count": null
  },
  {
   "metadata": {},
   "cell_type": "code",
   "source": [
    "stikers = [s.find_elements(By.XPATH, \"//img[contains(@class, 'sticker-img-loaded')]\") for s in stikers]\n",
    "len(stikers), len(stikers[0]), len(stikers[1])"
   ],
   "id": "d23ac7d6f1739dd8",
   "outputs": [],
   "execution_count": null
  },
  {
   "metadata": {},
   "cell_type": "code",
   "source": [
    "stikers = [s[0] for s in stikers if s]\n",
    "stikers"
   ],
   "id": "534fefa4d440719c",
   "outputs": [],
   "execution_count": null
  },
  {
   "metadata": {},
   "cell_type": "code",
   "source": [
    "stiker = random.choice(stikers)\n",
    "img_stiker(stiker)"
   ],
   "id": "a5817dad12c30b20",
   "outputs": [],
   "execution_count": null
  },
  {
   "metadata": {},
   "cell_type": "code",
   "source": "len(set(stikers))",
   "id": "13c7f7f33b0629a2",
   "outputs": [],
   "execution_count": null
  },
  {
   "metadata": {},
   "cell_type": "code",
   "source": [
    "viewer = NuumViewer(driver)\n",
    "viewer.send_stiker()"
   ],
   "id": "23e607811cce7c94",
   "outputs": [],
   "execution_count": null
  },
  {
   "metadata": {},
   "cell_type": "code",
   "source": [
    "stiker.click()\n",
    "\n",
    "\n",
    "\n",
    "\n",
    "\n",
    "\n",
    "\n",
    "#<div _ngcontent-ng-c2083850404=\"\" class=\"sticker ng-star-inserted\"><img _ngcontent-ng-c2083850404=\"\" alt=\"Гном\" src=\"https://static.nuum.ru/sticker-packs/gnom/webp/medium/gnom-12.webp\" class=\"sticker-img-loaded\"></div>\n",
    "stikers = self.driver.find_elements(By.XPATH, \"//div[contains(@class, 'sticker ng-star-inserted')]\")\n",
    "stikers = [s.find_elements(By.XPATH, \"//img[contains(@class, 'sticker-img-loaded')]\") for s in stikers]\n",
    "stikers = [s[0] for s in stikers if s]\n",
    "\n",
    "if stikers:\n",
    "    stiker = random.choice(stikers)\n",
    "    stiker.click()"
   ],
   "id": "d72471166f3c184f",
   "outputs": [],
   "execution_count": null
  },
  {
   "metadata": {},
   "cell_type": "code",
   "source": [
    "stikers = driver.find_elements(By.XPATH, \"//div[contains(@class, 'sticker ng-star-inserted')]\")\n",
    "ss = []\n",
    "i = 0\n",
    "for s in stikers:\n",
    "    stiker = s.find_elements(By.CSS_SELECTOR, '*')\n",
    "    if stiker:\n",
    "        if stiker[0].get_attribute('src'):\n",
    "            ss.append(stiker[0])\n",
    "    i += 1\n",
    "    print(i)\n",
    "    \n",
    "    \n",
    "#ss = [s[0] for s in ss if s]\n",
    "sss = random.choice(list(set(ss)))\n",
    "#print(len(ss), len(set(ss)))\n",
    "img_stiker(sss)"
   ],
   "id": "650f62eb3712af97",
   "outputs": [],
   "execution_count": null
  },
  {
   "metadata": {},
   "cell_type": "code",
   "source": [
    "sss = random.choice(list(set(ss)))\n",
    "sss.get_attribute('src')"
   ],
   "id": "cbe442b7060830b",
   "outputs": [],
   "execution_count": null
  },
  {
   "metadata": {},
   "cell_type": "code",
   "source": "sss.",
   "id": "1be0cf744e1d32f7",
   "outputs": [],
   "execution_count": null
  },
  {
   "metadata": {},
   "cell_type": "code",
   "source": "print(len(ss), len(set(ss)))",
   "id": "6bcbcbe7bfdfe8e6",
   "outputs": [],
   "execution_count": null
  }
 ],
 "metadata": {
  "kernelspec": {
   "display_name": "Python 3",
   "language": "python",
   "name": "python3"
  },
  "language_info": {
   "codemirror_mode": {
    "name": "ipython",
    "version": 2
   },
   "file_extension": ".py",
   "mimetype": "text/x-python",
   "name": "python",
   "nbconvert_exporter": "python",
   "pygments_lexer": "ipython2",
   "version": "2.7.6"
  }
 },
 "nbformat": 4,
 "nbformat_minor": 5
}
