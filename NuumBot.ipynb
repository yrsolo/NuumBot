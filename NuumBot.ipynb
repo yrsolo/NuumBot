{
 "cells": [
  {
   "cell_type": "code",
   "id": "initial_id",
   "metadata": {
    "collapsed": true,
    "ExecuteTime": {
     "end_time": "2024-11-17T19:27:05.327748Z",
     "start_time": "2024-11-17T19:27:04.433270Z"
    }
   },
   "source": [
    "from core.nuum import NuumActions, rnd_sleep\n",
    "from service.browser import Browser \n",
    "import random\n",
    "\n",
    "from config import NUUM"
   ],
   "outputs": [],
   "execution_count": 1
  },
  {
   "metadata": {},
   "cell_type": "markdown",
   "source": [
    "# NuumBot\n",
    "\n",
    "### Запускаем браузер и вручную авторизуемся в Nuum"
   ],
   "id": "5cb5373ec251ef32"
  },
  {
   "metadata": {
    "ExecuteTime": {
     "end_time": "2024-11-17T19:28:07.495728Z",
     "start_time": "2024-11-17T19:27:08.534559Z"
    }
   },
   "cell_type": "code",
   "source": [
    "browser = Browser()\n",
    "nuum = NuumActions(browser.driver)"
   ],
   "id": "f506fa264fd264e7",
   "outputs": [],
   "execution_count": 2
  },
  {
   "metadata": {},
   "cell_type": "markdown",
   "source": [
    "### Запуск бота в цикле\n",
    "Бот будет просматривать ленту рекомендаций и подписок поочередно\n"
   ],
   "id": "ecfc6bbbc71941b"
  },
  {
   "metadata": {
    "ExecuteTime": {
     "end_time": "2024-11-17T19:30:10.403558Z",
     "start_time": "2024-11-17T19:30:10.398316Z"
    }
   },
   "cell_type": "code",
   "source": [
    "def run_bot(nuum, N, skip_ratio, mode='rec'):\n",
    "    open_page = {'rec': nuum.open_rec, 'subs': nuum.open_subs}\n",
    "    open_page[mode]()\n",
    "    liked = 0\n",
    "    for i in range(N):\n",
    "        if skip_ratio < random.random():\n",
    "            result = nuum.like_stiker_subscribe(\n",
    "                like_ratio = 1, \n",
    "                stiker_ratio = 1, \n",
    "                subscribe_ratio = .5\n",
    "            )\n",
    "            if result:\n",
    "                liked += 1\n",
    "                print(f'Liked {liked} from {i+1}', end=' ') \n",
    "            rnd_sleep(3)\n",
    "        nuum.next()"
   ],
   "id": "38a32fb98927a5f2",
   "outputs": [],
   "execution_count": 5
  },
  {
   "metadata": {
    "jupyter": {
     "is_executing": true
    },
    "ExecuteTime": {
     "start_time": "2024-11-17T19:30:27.608323Z"
    }
   },
   "cell_type": "code",
   "source": [
    "N = 30\n",
    "skip_ratio = 0.5\n",
    "\n",
    "nuum = NuumActions(browser.driver)\n",
    "\n",
    "while True:\n",
    "    for mode in ['rec', 'subs']:\n",
    "        try:\n",
    "            print(f'Start {mode}')\n",
    "            nuum.open(NUUM)\n",
    "            run_bot(nuum, N, skip_ratio, mode=mode)\n",
    "            print()\n",
    "            \n",
    "        except Exception as e:\n",
    "            print(e)\n",
    "            rnd_sleep(10)\n",
    "    "
   ],
   "id": "e4f3970047bc3a0e",
   "outputs": [
    {
     "name": "stdout",
     "output_type": "stream",
     "text": [
      "Start rec\n",
      "Kostyushking:  stiker , like\n",
      "Liked 1 from 3 GAMER005:  stiker , like\n",
      "Liked 2 from 6 alla_mont:  stiker , like\n",
      "Liked 3 from 7 Lemoegor:  stiker , like\n",
      "Liked 4 from 13 Donghua:  stiker , like and subscribe\n",
      "Liked 5 from 14 "
     ]
    }
   ],
   "execution_count": null
  },
  {
   "metadata": {},
   "cell_type": "markdown",
   "source": [
    "### Открывает ленту рекомменадций, пролистывает и лайкает\n",
    "*N* - количество пролистываний"
   ],
   "id": "f30412d533e16b09"
  },
  {
   "metadata": {},
   "cell_type": "code",
   "outputs": [],
   "execution_count": null,
   "source": [
    "N = 60\n",
    "skip_ratio = 0.5\n",
    "\n",
    "#nuum.open_subs()\n",
    "nuum.open_rec()\n",
    "\n",
    "liked = 0\n",
    "for i in range(N):\n",
    "    \n",
    "    if skip_ratio < random.random():\n",
    "        result = nuum.like_stiker_subscribe(\n",
    "            like_ratio = 1, \n",
    "            stiker_ratio = 1, \n",
    "            subscribe_ratio = .5\n",
    "        )\n",
    "        if result:\n",
    "            liked += 1\n",
    "            print(f'Liked {liked} from {i+1}')\n",
    "        \n",
    "        rnd_sleep(3)\n",
    "    else:\n",
    "        rnd_sleep()\n",
    "    nuum.next()"
   ],
   "id": "419187239ddde94a"
  },
  {
   "metadata": {},
   "cell_type": "markdown",
   "source": [
    "### Открывает ленту подписок, пролистывает и лайкает\n",
    "*N* - количество пролистываний"
   ],
   "id": "aa7aa190ea841fc5"
  },
  {
   "metadata": {},
   "cell_type": "code",
   "outputs": [],
   "execution_count": null,
   "source": [
    "N = 120\n",
    "skip_ratio = 0.5\n",
    "\n",
    "\n",
    "nuum.open_subs()\n",
    "#nuum.open_rec()\n",
    "\n",
    "liked = 0\n",
    "for i in range(N):\n",
    "    \n",
    "    if skip_ratio < random.random():\n",
    "        \n",
    "        result = nuum.like_stiker_subscribe(\n",
    "            like_ratio = 1, \n",
    "            stiker_ratio = 1, \n",
    "            subscribe_ratio = .5\n",
    "        )\n",
    "        if result:\n",
    "            liked += 1\n",
    "            print(f'Liked {liked} from {i+1}', end=' ') )\n",
    "        \n",
    "        rnd_sleep(3)\n",
    "    nuum.next()"
   ],
   "id": "70ab84481ad3b611"
  },
  {
   "metadata": {
    "ExecuteTime": {
     "end_time": "2024-11-17T19:29:10.612712Z",
     "start_time": "2024-11-17T19:29:07.266817Z"
    }
   },
   "cell_type": "code",
   "source": [
    "nuum = NuumActions(browser.driver)\n",
    "nuum.open(NUUM)"
   ],
   "id": "916a02d2b3f7b7db",
   "outputs": [],
   "execution_count": 3
  }
 ],
 "metadata": {
  "kernelspec": {
   "display_name": "Python 3",
   "language": "python",
   "name": "python3"
  },
  "language_info": {
   "codemirror_mode": {
    "name": "ipython",
    "version": 2
   },
   "file_extension": ".py",
   "mimetype": "text/x-python",
   "name": "python",
   "nbconvert_exporter": "python",
   "pygments_lexer": "ipython2",
   "version": "2.7.6"
  }
 },
 "nbformat": 4,
 "nbformat_minor": 5
}
